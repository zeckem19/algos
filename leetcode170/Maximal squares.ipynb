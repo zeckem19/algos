{
 "cells": [
  {
   "cell_type": "markdown",
   "metadata": {},
   "source": [
    "####### https://leetcode.com/problems/maximal-square/b\n",
    "Given an m x n binary matrix filled with 0's and 1's, find the largest square containing only 1's and return its area."
   ]
  },
  {
   "cell_type": "code",
   "execution_count": null,
   "metadata": {},
   "outputs": [],
   "source": [
    "class Solution:\n",
    "    def maximalSquare(self, matrix: List[List[str]]) -> int:\n",
    "        '''\n",
    "        Naive solution:\n",
    "        1. Start from n = 1, attempt to find squares of size n\n",
    "        2. iterate upwards from n = 1 and find squares\n",
    "        3. if n = N fails, return N-1 * N-1\n",
    "        \n",
    "        Find squares method:\n",
    "        i. check if matrix[i][j] (top left) is 1\n",
    "        ii. for i in n, for j in n check if matrix[i][j] is 1\n",
    "        \n",
    "        Optimial solution:\n",
    "        if n passes, store info inside array, and for n+1, you can just search the next i+n row and j+n col.\n",
    "        '''\n",
    "        \n",
    "        \n",
    "        \n",
    "        "
   ]
  }
 ],
 "metadata": {
  "kernelspec": {
   "display_name": "Python 3",
   "language": "python",
   "name": "python3"
  },
  "language_info": {
   "codemirror_mode": {
    "name": "ipython",
    "version": 3
   },
   "file_extension": ".py",
   "mimetype": "text/x-python",
   "name": "python",
   "nbconvert_exporter": "python",
   "pygments_lexer": "ipython3",
   "version": "3.6.9"
  }
 },
 "nbformat": 4,
 "nbformat_minor": 4
}
