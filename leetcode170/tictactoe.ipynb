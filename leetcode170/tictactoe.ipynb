{
 "cells": [
  {
   "cell_type": "code",
   "execution_count": null,
   "metadata": {},
   "outputs": [],
   "source": [
    "# 348. Design Tic-Tac-Toe\n",
    "# https://leetcode.com/problems/design-tic-tac-toe/\n"
   ]
  },
  {
   "cell_type": "code",
   "execution_count": 26,
   "metadata": {},
   "outputs": [
    {
     "ename": "SyntaxError",
     "evalue": "invalid syntax (<ipython-input-26-9639f071b4b4>, line 46)",
     "output_type": "error",
     "traceback": [
      "\u001b[0;36m  File \u001b[0;32m\"<ipython-input-26-9639f071b4b4>\"\u001b[0;36m, line \u001b[0;32m46\u001b[0m\n\u001b[0;31m    for r,c in r;:\u001b[0m\n\u001b[0m                ^\u001b[0m\n\u001b[0;31mSyntaxError\u001b[0m\u001b[0;31m:\u001b[0m invalid syntax\n"
     ]
    }
   ],
   "source": [
    "class TicTacToe:\n",
    "\n",
    "    def __init__(self, n: int):\n",
    "        \"\"\"\n",
    "        Initialize your data structure here.\n",
    "        \"\"\"\n",
    "        self.n = n\n",
    "        self.board = [[None] * n for _ in range(n)]\n",
    "        self.lr = {(a,a) for a in range(n)}\n",
    "        self.rl = {(a,n-a-1) for a in range(n)}\n",
    "\n",
    "    def move(self, row: int, col: int, player: int) -> int:\n",
    "        \"\"\"\n",
    "        Player {player} makes a move at ({row}, {col}).\n",
    "        @param row The row of the board.\n",
    "        @param col The column of the board.\n",
    "        @param player The player, can be either 1 or 2.\n",
    "        @return The current winning condition, can be either:\n",
    "                0: No one wins.\n",
    "                1: Player 1 wins.\n",
    "                2: Player 2 wins.\n",
    "        \"\"\"\n",
    "        self.board[row][col] = player\n",
    "        return self.check_hor(row,player) or self.check_ver(col,player) or self.check_dia(row,col,player)\n",
    "    \n",
    "    def check_hor(self, row, player):\n",
    "        for c in range(self.n):\n",
    "            if self.board[row][c]!=player:\n",
    "                return 0\n",
    "        return player\n",
    "    \n",
    "    \n",
    "    def check_ver(self, col, player):\n",
    "        for row in range(self.n):\n",
    "            if self.board[row][col]!=player:\n",
    "                return 0\n",
    "        return player\n",
    "    \n",
    "    def check_dia(self, row, col, player):\n",
    "        lr_won = 1\n",
    "        if (row,col) in self.lr:\n",
    "            for r,c in self.lr:\n",
    "                if self.board[r][c] != player:\n",
    "                    lr_won = 0\n",
    "            if lr_won == 1:\n",
    "                return player\n",
    "        if (row,col) in self.rl:\n",
    "            for r,c in self.rl:\n",
    "                if self.board[r][c] != player:\n",
    "                    return 0\n",
    "            return player\n",
    "        return 0\n",
    "        \n",
    "                \n",
    "\n",
    "# Your TicTacToe object will be instantiated and called as such:\n",
    "# obj = TicTacToe(n)\n",
    "# param_1 = obj.move(row,col,player)"
   ]
  },
  {
   "cell_type": "code",
   "execution_count": 31,
   "metadata": {},
   "outputs": [
    {
     "data": {
      "text/plain": [
       "2"
      ]
     },
     "execution_count": 31,
     "metadata": {},
     "output_type": "execute_result"
    }
   ],
   "source": [
    "0 or 2 or 0\n"
   ]
  },
  {
   "cell_type": "code",
   "execution_count": 20,
   "metadata": {},
   "outputs": [],
   "source": [
    "aaa = {(a,n-a-1) for a in range(n)}"
   ]
  },
  {
   "cell_type": "code",
   "execution_count": 21,
   "metadata": {},
   "outputs": [
    {
     "name": "stdout",
     "output_type": "stream",
     "text": [
      "0\n",
      "1\n",
      "2\n"
     ]
    }
   ],
   "source": [
    "for aa in aaa:\n",
    "    print(aa[1])"
   ]
  },
  {
   "cell_type": "code",
   "execution_count": 15,
   "metadata": {},
   "outputs": [
    {
     "data": {
      "text/plain": [
       "True"
      ]
     },
     "execution_count": 15,
     "metadata": {},
     "output_type": "execute_result"
    }
   ],
   "source": [
    "(2,3) in {(1,2),(2,3)}"
   ]
  },
  {
   "cell_type": "code",
   "execution_count": 16,
   "metadata": {},
   "outputs": [],
   "source": [
    "n=3\n",
    "board = [[1, 1, 1],[0,0,1],[0,0,1]]\n",
    "\n",
    "def check_hv( row, player):\n",
    "    for c in range(n):\n",
    "        if board[row][c]!=player:\n",
    "            return False\n",
    "    return True"
   ]
  },
  {
   "cell_type": "code",
   "execution_count": 11,
   "metadata": {},
   "outputs": [
    {
     "data": {
      "text/plain": [
       "False"
      ]
     },
     "execution_count": 11,
     "metadata": {},
     "output_type": "execute_result"
    }
   ],
   "source": [
    "check_hv(2,0)"
   ]
  },
  {
   "cell_type": "code",
   "execution_count": 42,
   "metadata": {},
   "outputs": [],
   "source": [
    "n=3\n",
    "board = [[1, 0, 1],[0,1,1],[1,0,0]]\n",
    "lr = {(a,a) for a in range(n)}\n",
    "rl = {(a,n-a-1) for a in range(n)}\n",
    "def check_dia( row, col, player):\n",
    "    lw = True\n",
    "    if (row,col) in lr:\n",
    "        for r,c in lr:\n",
    "            if board[r][c] != player:\n",
    "                lw = False\n",
    "        if lw:\n",
    "            return True\n",
    "    if (row,col) in rl:\n",
    "        for r,c in rl:\n",
    "            if board[r][c] != player:\n",
    "                print(board[r][c])\n",
    "                return False\n",
    "        return True\n",
    "\n",
    "\n",
    "    "
   ]
  },
  {
   "cell_type": "code",
   "execution_count": 37,
   "metadata": {},
   "outputs": [
    {
     "data": {
      "text/plain": [
       "True"
      ]
     },
     "execution_count": 37,
     "metadata": {},
     "output_type": "execute_result"
    }
   ],
   "source": []
  },
  {
   "cell_type": "code",
   "execution_count": 35,
   "metadata": {},
   "outputs": [
    {
     "data": {
      "text/plain": [
       "[[1, 0, 1], [0, 1, 1], [1, 0, 0]]"
      ]
     },
     "execution_count": 35,
     "metadata": {},
     "output_type": "execute_result"
    }
   ],
   "source": [
    "board"
   ]
  },
  {
   "cell_type": "code",
   "execution_count": 43,
   "metadata": {},
   "outputs": [
    {
     "data": {
      "text/plain": [
       "True"
      ]
     },
     "execution_count": 43,
     "metadata": {},
     "output_type": "execute_result"
    }
   ],
   "source": [
    "check_dia(1,1,1)"
   ]
  },
  {
   "cell_type": "code",
   "execution_count": null,
   "metadata": {},
   "outputs": [],
   "source": []
  }
 ],
 "metadata": {
  "kernelspec": {
   "display_name": "Python 3",
   "language": "python",
   "name": "python3"
  },
  "language_info": {
   "codemirror_mode": {
    "name": "ipython",
    "version": 3
   },
   "file_extension": ".py",
   "mimetype": "text/x-python",
   "name": "python",
   "nbconvert_exporter": "python",
   "pygments_lexer": "ipython3",
   "version": "3.6.9"
  }
 },
 "nbformat": 4,
 "nbformat_minor": 4
}
