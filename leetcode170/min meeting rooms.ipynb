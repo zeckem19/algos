{
 "cells": [
  {
   "cell_type": "code",
   "execution_count": null,
   "metadata": {},
   "outputs": [],
   "source": [
    "# https://leetcode.com/problems/meeting-rooms-ii/submissions/\n"
   ]
  },
  {
   "cell_type": "code",
   "execution_count": 60,
   "metadata": {},
   "outputs": [],
   "source": [
    "from typing import List\n",
    "from copy import deepcopy\n",
    "\n",
    "class Solution:\n",
    "    def minMeetingRooms(self, intervals: List[List[int]]) -> int:\n",
    "        '''\n",
    "        naive solution -> depth first search\n",
    "        for each interval, find if it clashes with other intervals in other rooms\n",
    "        O(n^2) solution\n",
    "        \n",
    "        better solution -> use heaps (below)\n",
    "        '''\n",
    "        rooms = []\n",
    "        if len(intervals)==0:\n",
    "            return 0\n",
    "        else:\n",
    "            ans = self.place_interval(intervals, rooms)\n",
    "            return ans\n",
    "            \n",
    "            \n",
    "        \n",
    "    def check_fit(self, interval, room):\n",
    "        for slot in room:\n",
    "            if interval[0] >= slot[0] and interval[0] < slot[1]:\n",
    "                return False\n",
    "            elif interval[1] > slot[0] and interval[1] <= slot[1]:\n",
    "                return False\n",
    "            elif interval[0] <= slot[0] and interval[1] > slot[0]:\n",
    "                return False\n",
    "            elif interval[0] < slot[1] and interval[1] >= slot[1]:\n",
    "                return False\n",
    "        return True\n",
    "    \n",
    "    def place_interval(self, intervals: List, rooms: List):\n",
    "\n",
    "        if intervals == []:\n",
    "            print(rooms)\n",
    "            return len(rooms)\n",
    "        interval = intervals.pop()\n",
    "        lengths = []\n",
    "        for i in range(len(rooms)):\n",
    "            if self.check_fit(interval, rooms[i]):\n",
    "                rooms_copy = deepcopy(rooms)\n",
    "                rooms_copy[i].append(interval)\n",
    "                lengths.append(self.place_interval(deepcopy(intervals), rooms_copy))\n",
    "        rooms_copy = deepcopy(rooms)\n",
    "        rooms_copy.append([interval])\n",
    "        lengths.append(self.place_interval(deepcopy(intervals), rooms_copy))\n",
    "        return min(lengths)\n",
    "                \n",
    "                \n",
    "            "
   ]
  },
  {
   "cell_type": "code",
   "execution_count": 10,
   "metadata": {},
   "outputs": [],
   "source": [
    "import heapq\n",
    "\n",
    "from typing import List\n",
    "class Solution:\n",
    "    def minMeetingRooms(self, intervals: List[List[int]]) -> int:\n",
    "        '''\n",
    "        naive solution -> depth first search\n",
    "        for each interval, find if it clashes with other intervals in other rooms\n",
    "        O(n^2) solution\n",
    "        \n",
    "        efficient solution: min heap\n",
    "        '''\n",
    "        if len(intervals) ==0:\n",
    "            return 0\n",
    "        rooms = 0\n",
    "        \n",
    "        intervals.sort(key = lambda x: x[0])\n",
    "        endtimes = []\n",
    "        \n",
    "        for inte in intervals:\n",
    "            if len(endtimes)>0: \n",
    "                earliest = endtimes[0]\n",
    "                if earliest <= inte[0]:\n",
    "                    heapq.heappushpop(endtimes, inte[1])\n",
    "                    continue\n",
    "            rooms += 1\n",
    "            heapq.heappush(endtimes, inte[1])\n",
    "        \n",
    "        return rooms\n",
    "            \n",
    "                \n",
    "                    \n",
    "        \n",
    "        "
   ]
  },
  {
   "cell_type": "code",
   "execution_count": 11,
   "metadata": {},
   "outputs": [],
   "source": [
    "s = Solution()"
   ]
  },
  {
   "cell_type": "code",
   "execution_count": 12,
   "metadata": {},
   "outputs": [
    {
     "data": {
      "text/plain": [
       "3"
      ]
     },
     "execution_count": 12,
     "metadata": {},
     "output_type": "execute_result"
    }
   ],
   "source": [
    "s.minMeetingRooms([[6,17],[8,9],[11,12],[6,9]])"
   ]
  },
  {
   "cell_type": "code",
   "execution_count": null,
   "metadata": {},
   "outputs": [],
   "source": [
    "''' 4-5\n",
    "1-3, 4-8\n",
    "2-4\n",
    "'''"
   ]
  },
  {
   "cell_type": "code",
   "execution_count": 1,
   "metadata": {},
   "outputs": [],
   "source": [
    "aa = [[1,2],[4,3],[2,4]]"
   ]
  },
  {
   "cell_type": "code",
   "execution_count": 2,
   "metadata": {},
   "outputs": [],
   "source": [
    "aa[1].append(11)"
   ]
  },
  {
   "cell_type": "code",
   "execution_count": 59,
   "metadata": {},
   "outputs": [
    {
     "data": {
      "text/plain": [
       "[[1, 2], [4, 3, 11], [2, 4]]"
      ]
     },
     "execution_count": 59,
     "metadata": {},
     "output_type": "execute_result"
    }
   ],
   "source": [
    "deepcopy(aa)"
   ]
  },
  {
   "cell_type": "code",
   "execution_count": null,
   "metadata": {},
   "outputs": [],
   "source": []
  }
 ],
 "metadata": {
  "kernelspec": {
   "display_name": "Python 3",
   "language": "python",
   "name": "python3"
  },
  "language_info": {
   "codemirror_mode": {
    "name": "ipython",
    "version": 3
   },
   "file_extension": ".py",
   "mimetype": "text/x-python",
   "name": "python",
   "nbconvert_exporter": "python",
   "pygments_lexer": "ipython3",
   "version": "3.6.9"
  }
 },
 "nbformat": 4,
 "nbformat_minor": 2
}
