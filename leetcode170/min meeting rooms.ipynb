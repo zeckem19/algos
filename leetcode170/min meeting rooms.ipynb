{
 "cells": [
  {
   "cell_type": "code",
   "execution_count": 60,
   "metadata": {},
   "outputs": [],
   "source": [
    "from typing import List\n",
    "from copy import deepcopy\n",
    "\n",
    "class Solution:\n",
    "    def minMeetingRooms(self, intervals: List[List[int]]) -> int:\n",
    "        '''\n",
    "        naive solution -> depth first search\n",
    "        for each interval, find if it clashes with other intervals in other rooms\n",
    "        O(n^2) solution\n",
    "        '''\n",
    "        rooms = []\n",
    "        if len(intervals)==0:\n",
    "            return 0\n",
    "        else:\n",
    "            ans = self.place_interval(intervals, rooms)\n",
    "            return ans\n",
    "            \n",
    "            \n",
    "        \n",
    "    def check_fit(self, interval, room):\n",
    "        for slot in room:\n",
    "            if interval[0] >= slot[0] and interval[0] < slot[1]:\n",
    "                return False\n",
    "            elif interval[1] > slot[0] and interval[1] <= slot[1]:\n",
    "                return False\n",
    "            elif interval[0] <= slot[0] and interval[1] > slot[0]:\n",
    "                return False\n",
    "            elif interval[0] < slot[1] and interval[1] >= slot[1]:\n",
    "                return False\n",
    "        return True\n",
    "    \n",
    "    def place_interval(self, intervals: List, rooms: List):\n",
    "\n",
    "        if intervals == []:\n",
    "            print(rooms)\n",
    "            return len(rooms)\n",
    "        interval = intervals.pop()\n",
    "        lengths = []\n",
    "        for i in range(len(rooms)):\n",
    "            if self.check_fit(interval, rooms[i]):\n",
    "                rooms_copy = deepcopy(rooms)\n",
    "                rooms_copy[i].append(interval)\n",
    "                lengths.append(self.place_interval(deepcopy(intervals), rooms_copy))\n",
    "        rooms_copy = deepcopy(rooms)\n",
    "        rooms_copy.append([interval])\n",
    "        lengths.append(self.place_interval(deepcopy(intervals), rooms_copy))\n",
    "        return min(lengths)\n",
    "                \n",
    "                \n",
    "            "
   ]
  },
  {
   "cell_type": "code",
   "execution_count": 61,
   "metadata": {},
   "outputs": [],
   "source": [
    "s = Solution()"
   ]
  },
  {
   "cell_type": "code",
   "execution_count": 62,
   "metadata": {},
   "outputs": [
    {
     "name": "stdout",
     "output_type": "stream",
     "text": [
      "[[[6, 9], [11, 12]], [[8, 9]], [[6, 17]]]\n",
      "[[[6, 9]], [[11, 12], [8, 9]], [[6, 17]]]\n",
      "[[[6, 9]], [[11, 12]], [[8, 9]], [[6, 17]]]\n"
     ]
    },
    {
     "data": {
      "text/plain": [
       "3"
      ]
     },
     "execution_count": 62,
     "metadata": {},
     "output_type": "execute_result"
    }
   ],
   "source": [
    "s.minMeetingRooms([[6,17],[8,9],[11,12],[6,9]])"
   ]
  },
  {
   "cell_type": "code",
   "execution_count": null,
   "metadata": {},
   "outputs": [],
   "source": [
    "''' 4-5\n",
    "1-3, 4-8\n",
    "2-4\n",
    "'''"
   ]
  },
  {
   "cell_type": "code",
   "execution_count": 1,
   "metadata": {},
   "outputs": [],
   "source": [
    "aa = [[1,2],[4,3],[2,4]]"
   ]
  },
  {
   "cell_type": "code",
   "execution_count": 2,
   "metadata": {},
   "outputs": [],
   "source": [
    "aa[1].append(11)"
   ]
  },
  {
   "cell_type": "code",
   "execution_count": 59,
   "metadata": {},
   "outputs": [
    {
     "data": {
      "text/plain": [
       "[[1, 2], [4, 3, 11], [2, 4]]"
      ]
     },
     "execution_count": 59,
     "metadata": {},
     "output_type": "execute_result"
    }
   ],
   "source": [
    "deepcopy(aa)"
   ]
  },
  {
   "cell_type": "code",
   "execution_count": null,
   "metadata": {},
   "outputs": [],
   "source": []
  }
 ],
 "metadata": {
  "kernelspec": {
   "display_name": "Python 3",
   "language": "python",
   "name": "python3"
  },
  "language_info": {
   "codemirror_mode": {
    "name": "ipython",
    "version": 3
   },
   "file_extension": ".py",
   "mimetype": "text/x-python",
   "name": "python",
   "nbconvert_exporter": "python",
   "pygments_lexer": "ipython3",
   "version": "3.7.7"
  }
 },
 "nbformat": 4,
 "nbformat_minor": 2
}
