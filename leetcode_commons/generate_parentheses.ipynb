{
 "cells": [
  {
   "cell_type": "markdown",
   "metadata": {},
   "source": [
    "Given n pairs of parentheses, write a function to generate all combinations of well-formed parentheses.\n",
    "\n",
    "\n",
    "Input: n = 3\n",
    "Output: [\"((()))\",\"(()())\",\"(())()\",\"()(())\",\"()()()\"]\n",
    "\n",
    "\n",
    "Input: n = 1\n",
    "Output: [\"()\"]"
   ]
  },
  {
   "cell_type": "code",
   "execution_count": 8,
   "metadata": {},
   "outputs": [],
   "source": [
    "\n",
    "result = []\n",
    "\n",
    "def gp_rec(nopen, nclose, stack, cur):\n",
    "    if nopen == 0 and nclose == 0:\n",
    "        result.append(cur)\n",
    "        return\n",
    "    \n",
    "    if nclose > 0:\n",
    "        if len(stack) > 0:\n",
    "            stack2 = [*stack]\n",
    "            stack2.pop()\n",
    "            gp_rec(nopen, nclose -1,stack2,cur+')')\n",
    "            \n",
    "    if nopen > 0:\n",
    "        stack.append(1)\n",
    "        gp_rec(nopen-1,nclose,stack,cur+'(')\n",
    "    \n",
    "def generate_parentheses(n: int):\n",
    "    ''' Backtracking method: \n",
    "        1. base case: n = 0\n",
    "        2. two actions -> either open or close\n",
    "            a. if open, push to stack\n",
    "            b. if close, pop from stack, n -= 1, can only close if open exists on the stack \n",
    "    '''\n",
    "    nopen = n\n",
    "    nclose = n\n",
    "    stack = []\n",
    "    gp_rec(nopen, nclose, stack, '')\n",
    "    "
   ]
  },
  {
   "cell_type": "code",
   "execution_count": 9,
   "metadata": {},
   "outputs": [],
   "source": [
    "generate_parentheses(3)"
   ]
  },
  {
   "cell_type": "code",
   "execution_count": 11,
   "metadata": {},
   "outputs": [
    {
     "data": {
      "text/plain": [
       "['((()))', '(()())', '(())()', '()(())', '()()()']"
      ]
     },
     "execution_count": 11,
     "metadata": {},
     "output_type": "execute_result"
    }
   ],
   "source": [
    "sorted(result)"
   ]
  },
  {
   "cell_type": "code",
   "execution_count": null,
   "metadata": {},
   "outputs": [],
   "source": []
  }
 ],
 "metadata": {
  "kernelspec": {
   "display_name": "Python 3",
   "language": "python",
   "name": "python3"
  },
  "language_info": {
   "codemirror_mode": {
    "name": "ipython",
    "version": 3
   },
   "file_extension": ".py",
   "mimetype": "text/x-python",
   "name": "python",
   "nbconvert_exporter": "python",
   "pygments_lexer": "ipython3",
   "version": "3.6.9"
  }
 },
 "nbformat": 4,
 "nbformat_minor": 2
}
