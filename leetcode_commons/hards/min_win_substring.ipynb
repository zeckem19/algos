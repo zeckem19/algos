{
 "cells": [
  {
   "cell_type": "markdown",
   "metadata": {},
   "source": [
    "Given two strings s and t, return the minimum window in s which will contain all the characters in t. If there is no such window in s that covers all characters in t, return the empty string \"\".\n",
    "\n",
    "Note that If there is such a window, it is guaranteed that there will always be only one unique minimum window in s.\n",
    "\n",
    " \n",
    "\n",
    "Example 1:\n",
    "\n",
    "Input: s = \"ADOBECODEBANC\", t = \"ABC\"\n",
    "Output: \"BANC\"\n",
    "Example 2:\n",
    "\n",
    "Input: s = \"a\", t = \"a\"\n",
    "Output: \"a\"\n",
    " \n",
    "\n",
    "Constraints:\n",
    "\n",
    "1 <= s.length, t.length <= 105\n",
    "s and t consist of English letters.\n",
    " \n",
    "\n",
    "Follow up: Could you find an algorithm that runs in O(n) time?m"
   ]
  },
  {
   "cell_type": "code",
   "execution_count": 4,
   "metadata": {},
   "outputs": [],
   "source": [
    "class Solution:\n",
    "    def minWindow(self, s: str, t: str) -> str:\n",
    "        record = {}\n",
    "        for ind, char in enumerate(s):\n",
    "            if char in t:\n",
    "                record.setdefault(char,[]).append(ind)\n",
    "        L, R = min([max(record[k]) for k in record.keys()]), max([min(record[k]) for k in record.keys()])\n",
    "        if L<R:\n",
    "            return s[L:R]\n",
    "        else:\n",
    "            return ''"
   ]
  },
  {
   "cell_type": "code",
   "execution_count": 11,
   "metadata": {},
   "outputs": [],
   "source": [
    "a = [1,2,33,4,5]"
   ]
  },
  {
   "cell_type": "code",
   "execution_count": 12,
   "metadata": {},
   "outputs": [
    {
     "data": {
      "text/plain": [
       "[1, 2, 4, 5, 33]"
      ]
     },
     "execution_count": 12,
     "metadata": {},
     "output_type": "execute_result"
    }
   ],
   "source": [
    "sorted(a)"
   ]
  },
  {
   "cell_type": "code",
   "execution_count": 13,
   "metadata": {},
   "outputs": [
    {
     "data": {
      "text/plain": [
       "[1, 2, 33, 4, 5]"
      ]
     },
     "execution_count": 13,
     "metadata": {},
     "output_type": "execute_result"
    }
   ],
   "source": [
    "a"
   ]
  },
  {
   "cell_type": "code",
   "execution_count": 38,
   "metadata": {},
   "outputs": [],
   "source": [
    "import sys\n",
    "\n",
    "def check_lst(lst, t):\n",
    "    for char in list(t):\n",
    "        if char not in lst:\n",
    "            return False\n",
    "        \n",
    "    return True\n",
    "    \n",
    "    \n",
    "#     if sorted(list(t)) == sorted([*lst]):\n",
    "#         return True\n",
    "#     else:\n",
    "#         return False\n",
    "    \n",
    "\n",
    "def minWindow(s: str, t: str) -> str:\n",
    "    record = []\n",
    "    for ind, char in enumerate(s):\n",
    "        if char in t:\n",
    "            record.append([ind, char])\n",
    "    print(f'record: {record}')\n",
    "    L, R = 0, 0\n",
    "    min_length = sys.maxsize\n",
    "    min_sequence = ''\n",
    "    find = True\n",
    "    cur_lst = []\n",
    "    for ind, rec in enumerate(record):\n",
    "        #Find (s_ind, char)\n",
    "#         print(f'{cur_lst}')\n",
    "        R = ind\n",
    "        cur_lst.append(rec)\n",
    "        if check_lst([element[1] for element in cur_lst], t):\n",
    "            if cur_lst[-1][0] - cur_lst[0][0] < min_length:\n",
    "                min_length = cur_lst[-1][0] - cur_lst[0][0]\n",
    "                min_sequence = s[cur_lst[0][0]:cur_lst[-1][0]+1]\n",
    "            #optimise\n",
    "            for j in range(1, len(cur_lst)):\n",
    "                optimised_lst = cur_lst[j:]\n",
    "                if check_lst([element[1] for element in optimised_lst], t):\n",
    "                    min_length = min(min_length, optimised_lst[-1][0] - optimised_lst[0][0])\n",
    "                else:\n",
    "                    cur_lst = optimised_lst\n",
    "                    print(cur_lst)\n",
    "                    break\n",
    "    \n",
    "    return min_sequence"
   ]
  },
  {
   "cell_type": "code",
   "execution_count": 39,
   "metadata": {},
   "outputs": [
    {
     "name": "stdout",
     "output_type": "stream",
     "text": [
      "record: [[0, 'A'], [3, 'B'], [5, 'C'], [9, 'B'], [10, 'A'], [12, 'C']]\n",
      "[[3, 'B'], [5, 'C']]\n",
      "[[9, 'B'], [10, 'A']]\n",
      "[[10, 'A'], [12, 'C']]\n"
     ]
    },
    {
     "data": {
      "text/plain": [
       "'BANC'"
      ]
     },
     "execution_count": 39,
     "metadata": {},
     "output_type": "execute_result"
    }
   ],
   "source": [
    "minWindow(s = \"ADOBECODEBANC\", t = \"ABC\")"
   ]
  },
  {
   "cell_type": "raw",
   "metadata": {},
   "source": [
    "abc = {}\n",
    "abc.setdefault('p', []).append(1)"
   ]
  },
  {
   "cell_type": "code",
   "execution_count": 2,
   "metadata": {},
   "outputs": [
    {
     "data": {
      "text/plain": [
       "{'p': [1]}"
      ]
     },
     "execution_count": 2,
     "metadata": {},
     "output_type": "execute_result"
    }
   ],
   "source": [
    "abc"
   ]
  },
  {
   "cell_type": "code",
   "execution_count": null,
   "metadata": {},
   "outputs": [],
   "source": [
    "{\n",
    "    'a':[1,4,8],\n",
    "    'b':[2,5],\n",
    "    'c':[10,17]\n",
    "}"
   ]
  },
  {
   "cell_type": "code",
   "execution_count": 7,
   "metadata": {},
   "outputs": [
    {
     "name": "stdout",
     "output_type": "stream",
     "text": [
      "5\n",
      "4\n",
      "3\n",
      "2\n",
      "1\n"
     ]
    }
   ],
   "source": [
    "for i in range(len(a)-1,-1,-1):\n",
    "    print(a[i])"
   ]
  },
  {
   "cell_type": "code",
   "execution_count": 2,
   "metadata": {},
   "outputs": [],
   "source": [
    "a = [1,2,3,4,5]"
   ]
  },
  {
   "cell_type": "code",
   "execution_count": 29,
   "metadata": {},
   "outputs": [],
   "source": [
    "for au in range(5):\n",
    "    b = [au]\n",
    "    a.append(au)"
   ]
  },
  {
   "cell_type": "code",
   "execution_count": 30,
   "metadata": {},
   "outputs": [
    {
     "data": {
      "text/plain": [
       "[4]"
      ]
     },
     "execution_count": 30,
     "metadata": {},
     "output_type": "execute_result"
    }
   ],
   "source": [
    "b"
   ]
  },
  {
   "cell_type": "code",
   "execution_count": null,
   "metadata": {},
   "outputs": [],
   "source": [
    "def minWindow(self, s, t):\n",
    "    \"\"\"\n",
    "    :type s: str\n",
    "    :type t: str\n",
    "    :rtype: str\n",
    "    \"\"\"\n",
    "    if not t or not s:\n",
    "        return \"\"\n",
    "\n",
    "    dict_t = Counter(t)\n",
    "\n",
    "    required = len(dict_t)\n",
    "\n",
    "    # Filter all the characters from s into a new list along with their index.\n",
    "    # The filtering criteria is that the character should be present in t.\n",
    "    filtered_s = []\n",
    "    for i, char in enumerate(s):\n",
    "        if char in dict_t:\n",
    "            filtered_s.append((i, char))\n",
    "\n",
    "    l, r = 0, 0\n",
    "    formed = 0\n",
    "    window_counts = {}\n",
    "\n",
    "    ans = float(\"inf\"), None, None\n",
    "\n",
    "    # Look for the characters only in the filtered list instead of entire s. This helps to reduce our search.\n",
    "    # Hence, we follow the sliding window approach on as small list.\n",
    "    while r < len(filtered_s):\n",
    "        character = filtered_s[r][1]\n",
    "        window_counts[character] = window_counts.get(character, 0) + 1\n",
    "\n",
    "        if window_counts[character] == dict_t[character]:\n",
    "            formed += 1\n",
    "\n",
    "        # If the current window has all the characters in desired frequencies i.e. t is present in the window\n",
    "        while l <= r and formed == required:\n",
    "            character = filtered_s[l][1]\n",
    "\n",
    "            # Save the smallest window until now.\n",
    "            end = filtered_s[r][0]\n",
    "            start = filtered_s[l][0]\n",
    "            if end - start + 1 < ans[0]:\n",
    "                ans = (end - start + 1, start, end)\n",
    "\n",
    "            window_counts[character] -= 1\n",
    "            if window_counts[character] < dict_t[character]:\n",
    "                formed -= 1\n",
    "            l += 1    \n",
    "\n",
    "        r += 1    \n",
    "    return \"\" if ans[0] == float(\"inf\") else s[ans[1] : ans[2] + 1]"
   ]
  }
 ],
 "metadata": {
  "kernelspec": {
   "display_name": "Python 3",
   "language": "python",
   "name": "python3"
  },
  "language_info": {
   "codemirror_mode": {
    "name": "ipython",
    "version": 3
   },
   "file_extension": ".py",
   "mimetype": "text/x-python",
   "name": "python",
   "nbconvert_exporter": "python",
   "pygments_lexer": "ipython3",
   "version": "3.6.9"
  }
 },
 "nbformat": 4,
 "nbformat_minor": 2
}
