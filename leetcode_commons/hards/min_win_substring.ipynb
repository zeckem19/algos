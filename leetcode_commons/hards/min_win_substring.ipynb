{
 "cells": [
  {
   "cell_type": "markdown",
   "metadata": {},
   "source": [
    "Given two strings s and t, return the minimum window in s which will contain all the characters in t. If there is no such window in s that covers all characters in t, return the empty string \"\".\n",
    "\n",
    "Note that If there is such a window, it is guaranteed that there will always be only one unique minimum window in s.\n",
    "\n",
    " \n",
    "\n",
    "Example 1:\n",
    "\n",
    "Input: s = \"ADOBECODEBANC\", t = \"ABC\"\n",
    "Output: \"BANC\"\n",
    "Example 2:\n",
    "\n",
    "Input: s = \"a\", t = \"a\"\n",
    "Output: \"a\"\n",
    " \n",
    "\n",
    "Constraints:\n",
    "\n",
    "1 <= s.length, t.length <= 105\n",
    "s and t consist of English letters.\n",
    " \n",
    "\n",
    "Follow up: Could you find an algorithm that runs in O(n) time?m"
   ]
  },
  {
   "cell_type": "code",
   "execution_count": 4,
   "metadata": {},
   "outputs": [],
   "source": [
    "class Solution:\n",
    "    def minWindow(self, s: str, t: str) -> str:\n",
    "        record = {}\n",
    "        for ind, char in enumerate(s):\n",
    "            if char in t:\n",
    "                record.setdefault(char,[]).append(ind)\n",
    "        L, R = min([max(record[k]) for k in record.keys()]), max([min(record[k]) for k in record.keys()])\n",
    "        if L<R:\n",
    "            return s[L:R]\n",
    "        else:\n",
    "            return ''"
   ]
  },
  {
   "cell_type": "code",
   "execution_count": 13,
   "metadata": {},
   "outputs": [],
   "source": [
    "def minWindow(s: str, t: str) -> str:\n",
    "    record = {}\n",
    "    for ind, char in enumerate(s):\n",
    "        if char in t:\n",
    "            record.setdefault(char,[]).append(ind)\n",
    "    L=  min([min(record[k]) for k in record.keys()])#, max([max(record[k]) for k in record.keys()])\n",
    "    R= L\n",
    "    while True:\n",
    "        \n",
    "    print(f'rec : {record} L:{L}, R:{R}')\n",
    "    if L<R:\n",
    "        return s[L:R+1]\n",
    "    else:\n",
    "        return ''"
   ]
  },
  {
   "cell_type": "code",
   "execution_count": 14,
   "metadata": {},
   "outputs": [
    {
     "name": "stdout",
     "output_type": "stream",
     "text": [
      "rec : {'A': [0, 10], 'B': [3, 9], 'C': [5, 12]} L:0, R:12\n"
     ]
    },
    {
     "data": {
      "text/plain": [
       "'ADOBECODEBANC'"
      ]
     },
     "execution_count": 14,
     "metadata": {},
     "output_type": "execute_result"
    }
   ],
   "source": [
    "minWindow(s = \"ADOBECODEBANC\", t = \"ABC\")"
   ]
  },
  {
   "cell_type": "raw",
   "metadata": {},
   "source": [
    "abc = {}\n",
    "abc.setdefault('p', []).append(1)"
   ]
  },
  {
   "cell_type": "code",
   "execution_count": 2,
   "metadata": {},
   "outputs": [
    {
     "data": {
      "text/plain": [
       "{'p': [1]}"
      ]
     },
     "execution_count": 2,
     "metadata": {},
     "output_type": "execute_result"
    }
   ],
   "source": [
    "abc"
   ]
  },
  {
   "cell_type": "code",
   "execution_count": null,
   "metadata": {},
   "outputs": [],
   "source": [
    "{\n",
    "    'a':[1,4,8],\n",
    "    'b':[2,5],\n",
    "    'c':[10,17]\n",
    "}"
   ]
  },
  {
   "cell_type": "code",
   "execution_count": null,
   "metadata": {},
   "outputs": [],
   "source": []
  },
  {
   "cell_type": "code",
   "execution_count": null,
   "metadata": {},
   "outputs": [],
   "source": []
  },
  {
   "cell_type": "code",
   "execution_count": null,
   "metadata": {},
   "outputs": [],
   "source": [
    "def minWindow(self, s, t):\n",
    "    \"\"\"\n",
    "    :type s: str\n",
    "    :type t: str\n",
    "    :rtype: str\n",
    "    \"\"\"\n",
    "    if not t or not s:\n",
    "        return \"\"\n",
    "\n",
    "    dict_t = Counter(t)\n",
    "\n",
    "    required = len(dict_t)\n",
    "\n",
    "    # Filter all the characters from s into a new list along with their index.\n",
    "    # The filtering criteria is that the character should be present in t.\n",
    "    filtered_s = []\n",
    "    for i, char in enumerate(s):\n",
    "        if char in dict_t:\n",
    "            filtered_s.append((i, char))\n",
    "\n",
    "    l, r = 0, 0\n",
    "    formed = 0\n",
    "    window_counts = {}\n",
    "\n",
    "    ans = float(\"inf\"), None, None\n",
    "\n",
    "    # Look for the characters only in the filtered list instead of entire s. This helps to reduce our search.\n",
    "    # Hence, we follow the sliding window approach on as small list.\n",
    "    while r < len(filtered_s):\n",
    "        character = filtered_s[r][1]\n",
    "        window_counts[character] = window_counts.get(character, 0) + 1\n",
    "\n",
    "        if window_counts[character] == dict_t[character]:\n",
    "            formed += 1\n",
    "\n",
    "        # If the current window has all the characters in desired frequencies i.e. t is present in the window\n",
    "        while l <= r and formed == required:\n",
    "            character = filtered_s[l][1]\n",
    "\n",
    "            # Save the smallest window until now.\n",
    "            end = filtered_s[r][0]\n",
    "            start = filtered_s[l][0]\n",
    "            if end - start + 1 < ans[0]:\n",
    "                ans = (end - start + 1, start, end)\n",
    "\n",
    "            window_counts[character] -= 1\n",
    "            if window_counts[character] < dict_t[character]:\n",
    "                formed -= 1\n",
    "            l += 1    \n",
    "\n",
    "        r += 1    \n",
    "    return \"\" if ans[0] == float(\"inf\") else s[ans[1] : ans[2] + 1]"
   ]
  }
 ],
 "metadata": {
  "kernelspec": {
   "display_name": "Python 3",
   "language": "python",
   "name": "python3"
  },
  "language_info": {
   "codemirror_mode": {
    "name": "ipython",
    "version": 3
   },
   "file_extension": ".py",
   "mimetype": "text/x-python",
   "name": "python",
   "nbconvert_exporter": "python",
   "pygments_lexer": "ipython3",
   "version": "3.7.7"
  }
 },
 "nbformat": 4,
 "nbformat_minor": 2
}
