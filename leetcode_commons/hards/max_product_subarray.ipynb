{
 "cells": [
  {
   "cell_type": "markdown",
   "metadata": {},
   "source": [
    "Given an integer array nums, find the contiguous subarray within an array (containing at least one number) which has the largest product.\n",
    "\n",
    "Example 1:\n",
    "\n",
    "Input: [2,3,-2,4]\n",
    "Output: 6\n",
    "Explanation: [2,3] has the largest product 6.\n",
    "Example 2:\n",
    "\n",
    "Input: [-2,0,-1]\n",
    "Output: 0\n",
    "Explanation: The result cannot be 2, because [-2,-1] is not a subarray."
   ]
  },
  {
   "cell_type": "code",
   "execution_count": null,
   "metadata": {},
   "outputs": [],
   "source": []
  },
  {
   "cell_type": "code",
   "execution_count": 19,
   "metadata": {},
   "outputs": [],
   "source": [
    "def max_product(arr):\n",
    "    '''\n",
    "    Brute Force DFS (recursion?):\n",
    "    0. maintain a max product number\n",
    "    1. for each item, iterate through lst again\n",
    "    2. At each element need to recurse on taking/ not taking it\n",
    "    complexity: exponential (2^N)\n",
    "    \n",
    "    DP approach:\n",
    "    1. initialise max and min product list dp_max[len(arr)], dp_min[len(arr)] . \n",
    "        a. each index corresponds to the max and min product endign at that index\n",
    "        b. if arr[N] is negative:\n",
    "            i. dp_max[N] = max( dp_min[N-1] * arr[N], arr[N] )\n",
    "            ii.dp_min[N] = min( dp_max[N-1] * arr[N], arr[N] )\n",
    "        computed by max(dp[N-1]*arr[N], arr[N])\n",
    "    2. iterate through whole list, return dp_max[-1]\n",
    "        \n",
    "    '''\n",
    "    dp_max, dp_min = [arr[0]], [arr[0]]\n",
    "    for ind  in range(1, len(arr)):\n",
    "        num = arr[ind]\n",
    "        if num < 0:\n",
    "            dp_max.append(max(dp_min[ind-1] * arr[ind], arr[ind] ))\n",
    "            dp_min.append(min(dp_max[ind-1] * arr[ind], arr[ind] ))\n",
    "        else:\n",
    "            dp_max.append(max(dp_max[ind-1] * arr[ind], arr[ind] ))\n",
    "            dp_min.append(min(dp_min[ind-1] * arr[ind], arr[ind] ))\n",
    "\n",
    "    return max(dp_max)\n"
   ]
  },
  {
   "cell_type": "code",
   "execution_count": 20,
   "metadata": {},
   "outputs": [
    {
     "data": {
      "text/plain": [
       "24"
      ]
     },
     "execution_count": 20,
     "metadata": {},
     "output_type": "execute_result"
    }
   ],
   "source": []
  },
  {
   "cell_type": "code",
   "execution_count": null,
   "metadata": {},
   "outputs": [],
   "source": []
  },
  {
   "cell_type": "code",
   "execution_count": null,
   "metadata": {},
   "outputs": [],
   "source": []
  },
  {
   "cell_type": "code",
   "execution_count": null,
   "metadata": {},
   "outputs": [],
   "source": []
  }
 ],
 "metadata": {
  "kernelspec": {
   "display_name": "Python 3",
   "language": "python",
   "name": "python3"
  },
  "language_info": {
   "codemirror_mode": {
    "name": "ipython",
    "version": 3
   },
   "file_extension": ".py",
   "mimetype": "text/x-python",
   "name": "python",
   "nbconvert_exporter": "python",
   "pygments_lexer": "ipython3",
   "version": "3.7.7"
  }
 },
 "nbformat": 4,
 "nbformat_minor": 2
}
