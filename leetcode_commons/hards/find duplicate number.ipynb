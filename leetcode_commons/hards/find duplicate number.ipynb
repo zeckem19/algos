{
 "cells": [
  {
   "cell_type": "code",
   "execution_count": null,
   "metadata": {},
   "outputs": [],
   "source": [
    "Given an array of integers nums containing n + 1 integers where each integer is in the range [1, n] inclusive.\n",
    "\n",
    "There is only one duplicate number in nums, return this duplicate number.\n",
    "\n",
    "Follow-ups:\n",
    "\n",
    "How can we prove that at least one duplicate number must exist in nums? \n",
    "Can you solve the problem without modifying the array nums?\n",
    "Can you solve the problem using only constant, O(1) extra space?\n",
    "Can you solve the problem with runtime complexity less than O(n2)?\n",
    " \n",
    "\n",
    "Example 1:\n",
    "\n",
    "Input: nums = [1,3,4,2,2]\n",
    "Output: 2\n",
    "Example 2:\n",
    "\n",
    "Input: nums = [3,1,3,4,2]\n",
    "Output: 3\n",
    "Example 3:\n",
    "\n",
    "Input: nums = [1,1]\n",
    "Output: 1\n",
    "Example 4:\n",
    "\n",
    "Input: nums = [1,1,2]\n",
    "Output: 1\n",
    " \n",
    "\n",
    "Constraints:\n",
    "\n",
    "2 <= n <= 3 * 104\n",
    "nums.length == n + 1\n",
    "1 <= nums[i] <= n\n",
    "All the integers in nums appear only once except for precisely one integer which appears two or more times."
   ]
  }
 ],
 "metadata": {
  "kernelspec": {
   "display_name": "Python 3",
   "language": "python",
   "name": "python3"
  },
  "language_info": {
   "codemirror_mode": {
    "name": "ipython",
    "version": 3
   },
   "file_extension": ".py",
   "mimetype": "text/x-python",
   "name": "python",
   "nbconvert_exporter": "python",
   "pygments_lexer": "ipython3",
   "version": "3.7.7"
  }
 },
 "nbformat": 4,
 "nbformat_minor": 2
}
