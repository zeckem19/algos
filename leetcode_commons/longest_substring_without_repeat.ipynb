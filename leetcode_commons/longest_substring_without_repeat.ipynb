{
 "cells": [
  {
   "cell_type": "code",
   "execution_count": null,
   "metadata": {},
   "outputs": [],
   "source": [
    "Given a string s, find the length of the longest substring without repeating characters.\n",
    "\n",
    " \n",
    "\n",
    "Example 1:\n",
    "\n",
    "Input: s = \"abcabcbb\"\n",
    "Output: 3\n",
    "Explanation: The answer is \"abc\", with the length of 3.\n",
    "Example 2:\n",
    "\n",
    "Input: s = \"bbbbb\"\n",
    "Output: 1\n",
    "Explanation: The answer is \"b\", with the length of 1.\n",
    "Example 3:\n",
    "\n",
    "Input: s = \"pwwkew\"\n",
    "Output: 3\n",
    "Explanation: The answer is \"wke\", with the length of 3.\n",
    "Notice that the answer must be a substring, \"pwke\" is a subsequence and not a substring.\n",
    "Example 4:\n",
    "\n",
    "Input: s = \"\"\n",
    "Output: 0"
   ]
  },
  {
   "cell_type": "code",
   "execution_count": null,
   "metadata": {},
   "outputs": [],
   "source": []
  },
  {
   "cell_type": "code",
   "execution_count": null,
   "metadata": {},
   "outputs": [],
   "source": []
  },
  {
   "cell_type": "code",
   "execution_count": 2,
   "metadata": {},
   "outputs": [],
   "source": [
    "from typing import Sequence\n"
   ]
  },
  {
   "cell_type": "code",
   "execution_count": 22,
   "metadata": {},
   "outputs": [],
   "source": [
    "def longest_substring_without_repeat(s: str) -> int:\n",
    "    '''\n",
    "    O(n^2) brute force solution:\n",
    "    1. split string into characters\n",
    "    2. iterate through each character and iterate again to compute its max non-repeat length\n",
    "    \n",
    "    O(n) faster solution:\n",
    "    1. split string into characters\n",
    "    2. iterate through each character and keep a set of the current string ( or jsut the string since its max 26 char) under consideration and its length.\n",
    "    3. for each incoming char, check if its in the current string.\n",
    "        a. if it is not, continue\n",
    "        b. if it is inside, empty the string and note the length\n",
    "    4. return max length\n",
    "    '''\n",
    "    lookup = {}\n",
    "    cur = ''\n",
    "    cur_num = 0\n",
    "    cur_max = 0\n",
    "    for ind, char in enumerate(list(s)):\n",
    "        if char not in cur:\n",
    "            cur_num += 1\n",
    "            lookup[char] = ind\n",
    "            cur += char\n",
    "            cur_max = max(cur_max,cur_num)\n",
    "        else:\n",
    "            cur = s[lookup[char]+1:ind+1]\n",
    "            cur_num = len(cur)\n",
    "            lookup[char] = ind\n",
    "    return cur_max\n",
    "    \n",
    "    "
   ]
  },
  {
   "cell_type": "code",
   "execution_count": 23,
   "metadata": {},
   "outputs": [
    {
     "data": {
      "text/plain": [
       "6"
      ]
     },
     "execution_count": 23,
     "metadata": {},
     "output_type": "execute_result"
    }
   ],
   "source": [
    "longest_substring_without_repeat('bdbdeabcabvda')"
   ]
  },
  {
   "cell_type": "code",
   "execution_count": 16,
   "metadata": {},
   "outputs": [],
   "source": [
    "aaa = 'dvdfa'"
   ]
  },
  {
   "cell_type": "code",
   "execution_count": 19,
   "metadata": {},
   "outputs": [
    {
     "data": {
      "text/plain": [
       "'dvdfa'"
      ]
     },
     "execution_count": 19,
     "metadata": {},
     "output_type": "execute_result"
    }
   ],
   "source": [
    "aaa[0:5]"
   ]
  },
  {
   "cell_type": "code",
   "execution_count": null,
   "metadata": {},
   "outputs": [],
   "source": [
    "abcabvda"
   ]
  }
 ],
 "metadata": {
  "kernelspec": {
   "display_name": "Python 3",
   "language": "python",
   "name": "python3"
  },
  "language_info": {
   "codemirror_mode": {
    "name": "ipython",
    "version": 3
   },
   "file_extension": ".py",
   "mimetype": "text/x-python",
   "name": "python",
   "nbconvert_exporter": "python",
   "pygments_lexer": "ipython3",
   "version": "3.7.7"
  }
 },
 "nbformat": 4,
 "nbformat_minor": 2
}
