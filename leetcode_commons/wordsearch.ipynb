{
 "cells": [
  {
   "cell_type": "markdown",
   "metadata": {},
   "source": [
    "Given an m x n board and a word, find if the word exists in the grid.\n",
    "\n",
    "The word can be constructed from letters of sequentially adjacent cells, where \"adjacent\" cells are horizontally or vertically neighboring. The same letter cell may not be used more than once.\n",
    "\n",
    " \n",
    "Example 1:\n",
    "\n",
    "\n",
    "Input: board = [[\"A\",\"B\",\"C\",\"E\"],\n",
    "                [\"S\",\"F\",\"C\",\"S\"],\n",
    "                [\"A\",\"D\",\"E\",\"E\"]], word = \"ABCCED\"\n",
    "Output: true\n",
    "Example 2:\n",
    "\n",
    "\n",
    "Input: board = [[\"A\",\"B\",\"C\",\"E\"],\n",
    "                [\"S\",\"F\",\"C\",\"S\"],\n",
    "                [\"A\",\"D\",\"E\",\"E\"]], word = \"SEE\"\n",
    "Output: true\n",
    "Example 3:\n",
    "\n",
    "\n",
    "Input: board = [[\"A\",\"B\",\"C\",\"E\"],\n",
    "                [\"S\",\"F\",\"C\",\"S\"],\n",
    "                [\"A\",\"D\",\"E\",\"E\"]], word = \"ABCB\"\n",
    "Output: false\n",
    "m == board.length\n",
    "n = board[i].length\n",
    "1 <= m, n <= 200\n",
    "1 <= word.length <= 103\n",
    "board and word "
   ]
  },
  {
   "cell_type": "code",
   "execution_count": null,
   "metadata": {},
   "outputs": [],
   "source": []
  },
  {
   "cell_type": "code",
   "execution_count": null,
   "metadata": {},
   "outputs": [],
   "source": []
  },
  {
   "cell_type": "code",
   "execution_count": null,
   "metadata": {},
   "outputs": [],
   "source": [
    "class Solution:\n",
    "    def exist(self, board: List[List[str]], word: str) -> bool:\n",
    "        "
   ]
  }
 ],
 "metadata": {
  "kernelspec": {
   "display_name": "Python 3",
   "language": "python",
   "name": "python3"
  },
  "language_info": {
   "codemirror_mode": {
    "name": "ipython",
    "version": 3
   },
   "file_extension": ".py",
   "mimetype": "text/x-python",
   "name": "python",
   "nbconvert_exporter": "python",
   "pygments_lexer": "ipython3",
   "version": "3.7.7"
  }
 },
 "nbformat": 4,
 "nbformat_minor": 2
}
