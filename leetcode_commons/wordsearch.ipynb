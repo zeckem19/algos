{
 "cells": [
  {
   "cell_type": "markdown",
   "metadata": {},
   "source": [
    "Given an m x n board and a word, find if the word exists in the grid.\n",
    "\n",
    "The word can be constructed from letters of sequentially adjacent cells, where \"adjacent\" cells are horizontally or vertically neighboring. The same letter cell may not be used more than once.\n",
    "\n",
    " \n",
    "Example 1:\n",
    "Input: board = [[\"A\",\"B\",\"C\",\"E\"],\n",
    "                [\"S\",\"F\",\"C\",\"S\"],\n",
    "                [\"A\",\"D\",\"E\",\"E\"]], word = \"ABCCED\"\n",
    "Output: true\n",
    "\n",
    "Example 2:\n",
    "Input: board = [[\"A\",\"B\",\"C\",\"E\"],\n",
    "                [\"S\",\"F\",\"C\",\"S\"],\n",
    "                [\"A\",\"D\",\"E\",\"E\"]], word = \"SEE\"\n",
    "Output: true\n",
    "\n",
    "Example 3:\n",
    "Input: board = [[\"A\",\"B\",\"C\",\"E\"],\n",
    "                [\"S\",\"F\",\"C\",\"S\"],\n",
    "                [\"A\",\"D\",\"E\",\"E\"]], word = \"ABCB\"\n",
    "\n",
    "Output: false\n",
    "m == board.length\n",
    "n = board[i].length\n",
    "1 <= m, n <= 200\n",
    "1 <= word.length <= 103\n"
   ]
  },
  {
   "cell_type": "code",
   "execution_count": null,
   "metadata": {},
   "outputs": [],
   "source": []
  },
  {
   "cell_type": "code",
   "execution_count": 2,
   "metadata": {},
   "outputs": [],
   "source": [
    "from typing import List"
   ]
  },
  {
   "cell_type": "code",
   "execution_count": 31,
   "metadata": {},
   "outputs": [],
   "source": [
    "def exist(board: List[List[str]], word: str) -> bool:\n",
    "    '''\n",
    "    Backtracking, recursive  DFS:\n",
    "    1. Iterate through starting point to match first or last character\n",
    "    2. Start recursion: Base case - current string matches word\n",
    "    3. 4 distinct actions every round - up down left right\n",
    "    '''\n",
    "    ROWS = len(board)\n",
    "    COLS = len(board[0])\n",
    "\n",
    "    def recurse(pos_i, pos_j, word, board):\n",
    "        board[pos_i][pos_j] = None\n",
    "        # Base Case\n",
    "        print(word)\n",
    "        print(board)\n",
    "#         print(f'i {pos_i} j {pos_j} ')x\n",
    "        if not word:\n",
    "            return True\n",
    "\n",
    "        # CheckUp\n",
    "        if pos_i > 0:\n",
    "            if board[pos_i-1][pos_j] == word[0]:\n",
    "                if recurse(pos_i-1,pos_j,word[1:],board):\n",
    "                    return True\n",
    "\n",
    "        # CheckDown\n",
    "        if pos_i < ROWS-1:\n",
    "            if board[pos_i+1][pos_j] == word[0]:\n",
    "                if recurse(pos_i+1,pos_j,word[1:],board):\n",
    "                    return True\n",
    "\n",
    "        # Checkleft\n",
    "        if pos_j > 0:\n",
    "            if board[pos_i][pos_j-1] == word[0]:\n",
    "                if recurse(pos_i,pos_j-1,word[1:],board):\n",
    "                    return True\n",
    "\n",
    "        # CheckRight\n",
    "        if pos_j < COLS -1:\n",
    "            if board[pos_i][pos_j+1] == word[0]:\n",
    "                if recurse(pos_i,pos_j+1,word[1:],board):\n",
    "                    return True\n",
    "\n",
    "        return False\n",
    "\n",
    "\n",
    "    for i, m in enumerate(board):\n",
    "        for j, _ in enumerate(m):\n",
    "            if board[i][j] == word[0]:\n",
    "                copy_board = [row[:] for row in board]\n",
    "                if recurse(i, j, word[1:], copy_board):\n",
    "                    return True\n",
    "    return False\n"
   ]
  },
  {
   "cell_type": "code",
   "execution_count": 32,
   "metadata": {},
   "outputs": [
    {
     "name": "stdout",
     "output_type": "stream",
     "text": [
      "EEE\n",
      "[['A', 'B', 'C', 'E'], [None, 'F', 'C', 'S'], ['A', 'D', 'E', 'E']]\n",
      "EEE\n",
      "[['A', 'B', 'C', 'E'], ['S', 'F', 'C', None], ['A', 'D', 'E', 'E']]\n",
      "EE\n",
      "[['A', 'B', 'C', None], ['S', 'F', 'C', None], ['A', 'D', 'E', 'E']]\n",
      "EE\n",
      "[['A', 'B', 'C', None], ['S', 'F', 'C', None], ['A', 'D', 'E', None]]\n",
      "E\n",
      "[['A', 'B', 'C', None], ['S', 'F', 'C', None], ['A', 'D', None, None]]\n"
     ]
    },
    {
     "data": {
      "text/plain": [
       "False"
      ]
     },
     "execution_count": 32,
     "metadata": {},
     "output_type": "execute_result"
    }
   ],
   "source": [
    "exist([[\"A\",\"B\",\"C\",\"E\"],\n",
    "       [\"S\",\"F\",\"C\",\"S\"],\n",
    "       [\"A\",\"D\",\"E\",\"E\"]], word = \"SEEE\")"
   ]
  },
  {
   "cell_type": "code",
   "execution_count": 33,
   "metadata": {},
   "outputs": [
    {
     "name": "stdout",
     "output_type": "stream",
     "text": [
      "BCESEEEFS\n",
      "[[None, 'B', 'C', 'E'], ['S', 'F', 'E', 'S'], ['A', 'D', 'E', 'E']]\n",
      "CESEEEFS\n",
      "[[None, None, 'C', 'E'], ['S', 'F', 'E', 'S'], ['A', 'D', 'E', 'E']]\n",
      "ESEEEFS\n",
      "[[None, None, None, 'E'], ['S', 'F', 'E', 'S'], ['A', 'D', 'E', 'E']]\n",
      "SEEEFS\n",
      "[[None, None, None, 'E'], ['S', 'F', None, 'S'], ['A', 'D', 'E', 'E']]\n",
      "EEEFS\n",
      "[[None, None, None, 'E'], ['S', 'F', None, None], ['A', 'D', 'E', 'E']]\n",
      "EEFS\n",
      "[[None, None, None, None], ['S', 'F', None, None], ['A', 'D', 'E', 'E']]\n",
      "EEFS\n",
      "[[None, None, None, None], ['S', 'F', None, None], ['A', 'D', 'E', None]]\n",
      "EFS\n",
      "[[None, None, None, None], ['S', 'F', None, None], ['A', 'D', None, None]]\n",
      "BCESEEEFS\n",
      "[['A', 'B', 'C', 'E'], ['S', 'F', 'E', 'S'], [None, 'D', 'E', 'E']]\n"
     ]
    },
    {
     "data": {
      "text/plain": [
       "False"
      ]
     },
     "execution_count": 33,
     "metadata": {},
     "output_type": "execute_result"
    }
   ],
   "source": [
    "exist([[\"A\",\"B\",\"C\",\"E\"],[\"S\",\"F\",\"E\",\"S\"],[\"A\",\"D\",\"E\",\"E\"]],\\\n",
    "\"ABCESEEEFS\")"
   ]
  },
  {
   "cell_type": "code",
   "execution_count": 16,
   "metadata": {},
   "outputs": [],
   "source": [
    "import time\n",
    "def hey(n = 'a'):\n",
    "    dd = 'd'\n",
    "    def heyhey(b):\n",
    "        print(b+n)\n",
    "        time.sleep(1)\n",
    "        heyhey(b)\n",
    "    n = n*2\n",
    "    heyhey(n)\n",
    "    heyhey(n*2)"
   ]
  },
  {
   "cell_type": "code",
   "execution_count": 17,
   "metadata": {},
   "outputs": [
    {
     "name": "stdout",
     "output_type": "stream",
     "text": [
      "vvvv\n",
      "vvvv\n",
      "vvvv\n"
     ]
    },
    {
     "ename": "KeyboardInterrupt",
     "evalue": "",
     "output_type": "error",
     "traceback": [
      "\u001b[0;31m---------------------------------------------------------------------------\u001b[0m",
      "\u001b[0;31mKeyboardInterrupt\u001b[0m                         Traceback (most recent call last)",
      "\u001b[0;32m<ipython-input-17-7e7490c6faf6>\u001b[0m in \u001b[0;36m<module>\u001b[0;34m\u001b[0m\n\u001b[0;32m----> 1\u001b[0;31m \u001b[0mhey\u001b[0m\u001b[0;34m(\u001b[0m\u001b[0;34m'v'\u001b[0m\u001b[0;34m)\u001b[0m\u001b[0;34m\u001b[0m\u001b[0;34m\u001b[0m\u001b[0m\n\u001b[0m",
      "\u001b[0;32m<ipython-input-16-c8af3b3dea44>\u001b[0m in \u001b[0;36mhey\u001b[0;34m(n)\u001b[0m\n\u001b[1;32m      7\u001b[0m         \u001b[0mheyhey\u001b[0m\u001b[0;34m(\u001b[0m\u001b[0mb\u001b[0m\u001b[0;34m)\u001b[0m\u001b[0;34m\u001b[0m\u001b[0;34m\u001b[0m\u001b[0m\n\u001b[1;32m      8\u001b[0m     \u001b[0mn\u001b[0m \u001b[0;34m=\u001b[0m \u001b[0mn\u001b[0m\u001b[0;34m*\u001b[0m\u001b[0;36m2\u001b[0m\u001b[0;34m\u001b[0m\u001b[0;34m\u001b[0m\u001b[0m\n\u001b[0;32m----> 9\u001b[0;31m     \u001b[0mheyhey\u001b[0m\u001b[0;34m(\u001b[0m\u001b[0mn\u001b[0m\u001b[0;34m)\u001b[0m\u001b[0;34m\u001b[0m\u001b[0;34m\u001b[0m\u001b[0m\n\u001b[0m\u001b[1;32m     10\u001b[0m     \u001b[0mheyhey\u001b[0m\u001b[0;34m(\u001b[0m\u001b[0mn\u001b[0m\u001b[0;34m*\u001b[0m\u001b[0;36m2\u001b[0m\u001b[0;34m)\u001b[0m\u001b[0;34m\u001b[0m\u001b[0;34m\u001b[0m\u001b[0m\n",
      "\u001b[0;32m<ipython-input-16-c8af3b3dea44>\u001b[0m in \u001b[0;36mheyhey\u001b[0;34m(b)\u001b[0m\n\u001b[1;32m      5\u001b[0m         \u001b[0mprint\u001b[0m\u001b[0;34m(\u001b[0m\u001b[0mb\u001b[0m\u001b[0;34m+\u001b[0m\u001b[0mn\u001b[0m\u001b[0;34m)\u001b[0m\u001b[0;34m\u001b[0m\u001b[0;34m\u001b[0m\u001b[0m\n\u001b[1;32m      6\u001b[0m         \u001b[0mtime\u001b[0m\u001b[0;34m.\u001b[0m\u001b[0msleep\u001b[0m\u001b[0;34m(\u001b[0m\u001b[0;36m1\u001b[0m\u001b[0;34m)\u001b[0m\u001b[0;34m\u001b[0m\u001b[0;34m\u001b[0m\u001b[0m\n\u001b[0;32m----> 7\u001b[0;31m         \u001b[0mheyhey\u001b[0m\u001b[0;34m(\u001b[0m\u001b[0mb\u001b[0m\u001b[0;34m)\u001b[0m\u001b[0;34m\u001b[0m\u001b[0;34m\u001b[0m\u001b[0m\n\u001b[0m\u001b[1;32m      8\u001b[0m     \u001b[0mn\u001b[0m \u001b[0;34m=\u001b[0m \u001b[0mn\u001b[0m\u001b[0;34m*\u001b[0m\u001b[0;36m2\u001b[0m\u001b[0;34m\u001b[0m\u001b[0;34m\u001b[0m\u001b[0m\n\u001b[1;32m      9\u001b[0m     \u001b[0mheyhey\u001b[0m\u001b[0;34m(\u001b[0m\u001b[0mn\u001b[0m\u001b[0;34m)\u001b[0m\u001b[0;34m\u001b[0m\u001b[0;34m\u001b[0m\u001b[0m\n",
      "\u001b[0;32m<ipython-input-16-c8af3b3dea44>\u001b[0m in \u001b[0;36mheyhey\u001b[0;34m(b)\u001b[0m\n\u001b[1;32m      5\u001b[0m         \u001b[0mprint\u001b[0m\u001b[0;34m(\u001b[0m\u001b[0mb\u001b[0m\u001b[0;34m+\u001b[0m\u001b[0mn\u001b[0m\u001b[0;34m)\u001b[0m\u001b[0;34m\u001b[0m\u001b[0;34m\u001b[0m\u001b[0m\n\u001b[1;32m      6\u001b[0m         \u001b[0mtime\u001b[0m\u001b[0;34m.\u001b[0m\u001b[0msleep\u001b[0m\u001b[0;34m(\u001b[0m\u001b[0;36m1\u001b[0m\u001b[0;34m)\u001b[0m\u001b[0;34m\u001b[0m\u001b[0;34m\u001b[0m\u001b[0m\n\u001b[0;32m----> 7\u001b[0;31m         \u001b[0mheyhey\u001b[0m\u001b[0;34m(\u001b[0m\u001b[0mb\u001b[0m\u001b[0;34m)\u001b[0m\u001b[0;34m\u001b[0m\u001b[0;34m\u001b[0m\u001b[0m\n\u001b[0m\u001b[1;32m      8\u001b[0m     \u001b[0mn\u001b[0m \u001b[0;34m=\u001b[0m \u001b[0mn\u001b[0m\u001b[0;34m*\u001b[0m\u001b[0;36m2\u001b[0m\u001b[0;34m\u001b[0m\u001b[0;34m\u001b[0m\u001b[0m\n\u001b[1;32m      9\u001b[0m     \u001b[0mheyhey\u001b[0m\u001b[0;34m(\u001b[0m\u001b[0mn\u001b[0m\u001b[0;34m)\u001b[0m\u001b[0;34m\u001b[0m\u001b[0;34m\u001b[0m\u001b[0m\n",
      "\u001b[0;32m<ipython-input-16-c8af3b3dea44>\u001b[0m in \u001b[0;36mheyhey\u001b[0;34m(b)\u001b[0m\n\u001b[1;32m      4\u001b[0m     \u001b[0;32mdef\u001b[0m \u001b[0mheyhey\u001b[0m\u001b[0;34m(\u001b[0m\u001b[0mb\u001b[0m\u001b[0;34m)\u001b[0m\u001b[0;34m:\u001b[0m\u001b[0;34m\u001b[0m\u001b[0;34m\u001b[0m\u001b[0m\n\u001b[1;32m      5\u001b[0m         \u001b[0mprint\u001b[0m\u001b[0;34m(\u001b[0m\u001b[0mb\u001b[0m\u001b[0;34m+\u001b[0m\u001b[0mn\u001b[0m\u001b[0;34m)\u001b[0m\u001b[0;34m\u001b[0m\u001b[0;34m\u001b[0m\u001b[0m\n\u001b[0;32m----> 6\u001b[0;31m         \u001b[0mtime\u001b[0m\u001b[0;34m.\u001b[0m\u001b[0msleep\u001b[0m\u001b[0;34m(\u001b[0m\u001b[0;36m1\u001b[0m\u001b[0;34m)\u001b[0m\u001b[0;34m\u001b[0m\u001b[0;34m\u001b[0m\u001b[0m\n\u001b[0m\u001b[1;32m      7\u001b[0m         \u001b[0mheyhey\u001b[0m\u001b[0;34m(\u001b[0m\u001b[0mb\u001b[0m\u001b[0;34m)\u001b[0m\u001b[0;34m\u001b[0m\u001b[0;34m\u001b[0m\u001b[0m\n\u001b[1;32m      8\u001b[0m     \u001b[0mn\u001b[0m \u001b[0;34m=\u001b[0m \u001b[0mn\u001b[0m\u001b[0;34m*\u001b[0m\u001b[0;36m2\u001b[0m\u001b[0;34m\u001b[0m\u001b[0;34m\u001b[0m\u001b[0m\n",
      "\u001b[0;31mKeyboardInterrupt\u001b[0m: "
     ]
    }
   ],
   "source": [
    "hey('v')"
   ]
  },
  {
   "cell_type": "code",
   "execution_count": 20,
   "metadata": {},
   "outputs": [],
   "source": [
    "lst = ''"
   ]
  },
  {
   "cell_type": "code",
   "execution_count": 19,
   "metadata": {},
   "outputs": [],
   "source": [
    "x = [[1,2,3],[4,5,6]]"
   ]
  },
  {
   "cell_type": "code",
   "execution_count": 21,
   "metadata": {},
   "outputs": [],
   "source": [
    "y = [row[:] for row in x]"
   ]
  },
  {
   "cell_type": "code",
   "execution_count": 22,
   "metadata": {},
   "outputs": [
    {
     "data": {
      "text/plain": [
       "[[1, 2, 3], [4, 5, 6]]"
      ]
     },
     "execution_count": 22,
     "metadata": {},
     "output_type": "execute_result"
    }
   ],
   "source": [
    "y"
   ]
  },
  {
   "cell_type": "code",
   "execution_count": null,
   "metadata": {},
   "outputs": [],
   "source": []
  },
  {
   "cell_type": "code",
   "execution_count": null,
   "metadata": {},
   "outputs": [],
   "source": []
  },
  {
   "cell_type": "code",
   "execution_count": null,
   "metadata": {},
   "outputs": [],
   "source": []
  },
  {
   "cell_type": "code",
   "execution_count": null,
   "metadata": {},
   "outputs": [],
   "source": []
  },
  {
   "cell_type": "code",
   "execution_count": null,
   "metadata": {},
   "outputs": [],
   "source": []
  },
  {
   "cell_type": "code",
   "execution_count": null,
   "metadata": {},
   "outputs": [],
   "source": []
  },
  {
   "cell_type": "code",
   "execution_count": null,
   "metadata": {},
   "outputs": [],
   "source": []
  },
  {
   "cell_type": "code",
   "execution_count": null,
   "metadata": {},
   "outputs": [],
   "source": []
  }
 ],
 "metadata": {
  "kernelspec": {
   "display_name": "Python 3",
   "language": "python",
   "name": "python3"
  },
  "language_info": {
   "codemirror_mode": {
    "name": "ipython",
    "version": 3
   },
   "file_extension": ".py",
   "mimetype": "text/x-python",
   "name": "python",
   "nbconvert_exporter": "python",
   "pygments_lexer": "ipython3",
   "version": "3.7.7"
  }
 },
 "nbformat": 4,
 "nbformat_minor": 2
}
