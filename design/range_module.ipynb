{
 "cells": [
  {
   "cell_type": "raw",
   "metadata": {},
   "source": [
    "A Range Module is a module that tracks ranges of numbers. Your task is to design and implement the following interfaces in an efficient manner.\n",
    "\n",
    "\n",
    "addRange(int left, int right) Adds the half-open interval [left, right), tracking every real number in that \n",
    "                            interval. Adding an interval that partially overlaps with currently tracked numbers \n",
    "                           should add any numbers in the interval [left, right) that are not already tracked.\n",
    "\n",
    "queryRange(int left, int right) \n",
    "Returns true if and only if every real number in the interval [left, right) is currently being tracked.\n",
    "\n",
    "removeRange(int left, int right) \n",
    "Stops tracking every real number currently being tracked in the  interval [left, right).\n",
    "                                                                                                           \n",
    "Example 1:\n",
    "addRange(10, 20): null\n",
    "removeRange(14, 16): null\n",
    "queryRange(10, 14): true (Every number in [10, 14) is being tracked)\n",
    "queryRange(13, 15): false (Numbers like 14, 14.03, 14.17 in [13, 15) are not being tracked)\n",
    "queryRange(16, 17): true (The number 16 in [16, 17) is still being tracked, despite the remove operation)\n",
    "Note:\n",
    "\n",
    "A half open interval [left, right) denotes all real numbers left <= x < right.\n",
    "0 < left < right < 10^9 in all calls to addRange, queryRange, removeRange.\n",
    "The total number of calls to addRange in a single test case is at most 1000.\n",
    "The total number of calls to queryRange in a single test case is at most 5000.\n",
    "The total number of calls to removeRange in a single test case is at most 1000.\n"
   ]
  },
  {
   "cell_type": "code",
   "execution_count": null,
   "metadata": {},
   "outputs": [],
   "source": [
    "class RangeModule:\n",
    "\n",
    "    def __init__(self):\n",
    "        \n",
    "\n",
    "    def addRange(self, left: int, right: int) -> None:\n",
    "        \n",
    "\n",
    "    def queryRange(self, left: int, right: int) -> bool:\n",
    "        \n",
    "\n",
    "    def removeRange(self, left: int, right: int) -> None:\n",
    "        \n",
    "\n",
    "\n",
    "# Your RangeModule object will be instantiated and called as such:\n",
    "# obj = RangeModule()\n",
    "# obj.addRange(left,right)\n",
    "# param_2 = obj.queryRange(left,right)\n",
    "# obj.removeRange(left,right)"
   ]
  },
  {
   "cell_type": "code",
   "execution_count": null,
   "metadata": {},
   "outputs": [],
   "source": []
  }
 ],
 "metadata": {
  "kernelspec": {
   "display_name": "Python 3",
   "language": "python",
   "name": "python3"
  },
  "language_info": {
   "codemirror_mode": {
    "name": "ipython",
    "version": 3
   },
   "file_extension": ".py",
   "mimetype": "text/x-python",
   "name": "python",
   "nbconvert_exporter": "python",
   "pygments_lexer": "ipython3",
   "version": "3.7.7"
  }
 },
 "nbformat": 4,
 "nbformat_minor": 2
}
