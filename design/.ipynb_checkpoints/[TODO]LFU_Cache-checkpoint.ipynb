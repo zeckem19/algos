{
 "cells": [
  {
   "cell_type": "markdown",
   "metadata": {},
   "source": [
    "https://leetcode.com/problems/lfu-cache/"
   ]
  },
  {
   "cell_type": "raw",
   "metadata": {},
   "source": [
    "Design and implement a data structure for Least Frequently Used (LFU) cache.\n",
    "\n",
    "Implement the LFUCache class:\n",
    "\n",
    "LFUCache(int capacity) Initializes the object with the capacity of the data structure.\n",
    "int get(int key) Gets the value of the key if the key exists in the cache. Otherwise, returns -1.\n",
    "void put(int key, int value) Sets or inserts the value if the key is not already present. When the cache reaches its capacity, it should invalidate the least frequently used item before inserting a new item. For this problem, when there is a tie (i.e., two or more keys with the same frequency), the least recently used key would be evicted.\n",
    "Notice that the number of times an item is used is the number of calls to the get and put functions for that item since it was inserted. This number is set to zero when the item is removed.\n",
    "\n",
    " \n",
    "\n",
    "Example 1:\n",
    "\n",
    "Input\n",
    "[\"LFUCache\", \"put\", \"put\", \"get\", \"put\", \"get\", \"get\", \"put\", \"get\", \"get\", \"get\"]\n",
    "[[2], [1, 1], [2, 2], [1], [3, 3], [2], [3], [4, 4], [1], [3], [4]]\n",
    "\n",
    "Output\n",
    "[null, null, null, 1, null, -1, 3, null, -1, 3, 4]\n",
    "\n",
    "Explanation\n",
    "LFUCache lfu = new LFUCache(2);\n",
    "lfu.put(1, 1);\n",
    "lfu.put(2, 2);\n",
    "lfu.get(1);      // return 1\n",
    "lfu.put(3, 3);   // evicts key 2\n",
    "lfu.get(2);      // return -1 (not found)\n",
    "lfu.get(3);      // return 3\n",
    "lfu.put(4, 4);   // evicts key 1.\n",
    "lfu.get(1);      // return -1 (not found)\n",
    "lfu.get(3);      // return 3\n",
    "lfu.get(4);      // return 4"
   ]
  },
  {
   "cell_type": "code",
   "execution_count": null,
   "metadata": {},
   "outputs": [],
   "source": []
  },
  {
   "cell_type": "code",
   "execution_count": 7,
   "metadata": {},
   "outputs": [],
   "source": [
    "from collections import OrderedDict, defaultdict\n",
    "import heapq"
   ]
  },
  {
   "cell_type": "code",
   "execution_count": null,
   "metadata": {},
   "outputs": [],
   "source": [
    "[\"LFUCache\",\"put\",\"put\",\"get\",\"get\",\"get\",\"put\",\"put\",\"get\",\"get\",\"get\",\"get\"]\n",
    "[[3],[2,2],[1,1],[2],[1],[2],[3,3],[4,4],[3],[2],[1],[4]]"
   ]
  },
  {
   "cell_type": "code",
   "execution_count": 77,
   "metadata": {},
   "outputs": [],
   "source": [
    "class LFUCache:\n",
    "    def __init__(self, capacity: int):\n",
    "        '''\n",
    "        Initialise 2 dict data structures:\n",
    "        1. fkk -> { freq1: OD(key1, key2, ... keyn ),\n",
    "                   freq2: (key3,),\n",
    "                   ...}\n",
    "            dict of OrderedDicts ( Odicts preserves order in FIFO )\n",
    "        2. KVF -> {key: [value, frequency], ...}\n",
    "        3. fi -> {freq: index}\n",
    "        '''\n",
    "        self.cap = capacity\n",
    "        self.fkk = []\n",
    "        self.kvf = defaultdict(list)\n",
    "    \n",
    "    def put(self, key: int, value: int) -> None:\n",
    "        '''\n",
    "        If ( size > cap):\n",
    "            1. evict first item in ordered dict of first item in fkk\n",
    "            2. evict correspondign item in kvf\n",
    "        \n",
    "        1. insert into kvf -> k : [ v, 1 ]\n",
    "        2. insert into fkk -> 1 : { k: None } \n",
    "            a. if freq=1 already exists, this item need to promote to start of queue (no need if FIFO)\n",
    "        '''\n",
    "        if key in self.kvf:\n",
    "            return\n",
    "        \n",
    "        if len(self.kvf) >= self.cap:\n",
    "            # need to evict\n",
    "            \n",
    "            popped_key = self.fkk[0].popitem(last=False)\n",
    "            if not self.fkk[0][1]:\n",
    "                heapq.heappop(self.fkk)\n",
    "#             lowest_freq = next(iter(self.fkk))\n",
    "#             popped_key = self.fkk[lowest_freq].popitem(last=False)\n",
    "\n",
    "            del self.kvf[popped_key[0]]\n",
    "\n",
    "        # Insert\n",
    "        self.kvf[key] = [value, 1]\n",
    "        if self.fkk[0][0] == 1:\n",
    "            self.fkk[0][1][key] = None \n",
    "        else:\n",
    "            heapq.heappush(self.fkk, [1, OrderedDict.fromkeys([key])])\n",
    " \n",
    "    def get(self, key: int) -> int:\n",
    "        '''\n",
    "        If key not in kvf (trivial):\n",
    "            return -1\n",
    "            \n",
    "        else:\n",
    "            1. retrieve frequency, value from kvf\n",
    "            2. go to frequency, and pop it\n",
    "            3. go to next frequency if it exists and insert it and promote to start of queue (no need if FIFO)\n",
    "        '''\n",
    "        \n",
    "        if key not in self.kvf:\n",
    "            return -1\n",
    "        else:\n",
    "            val, freq = self.kvf[key][0], self.kvf[key][1]\n",
    "            self.fkk[freq].pop(key)\n",
    "            if not self.fkk[freq]:\n",
    "                del self.fkk[freq]\n",
    "            if freq+1 not in self.fkk:\n",
    "                self.fkk[freq+1] = OrderedDict.fromkeys([key])\n",
    "            else:\n",
    "                self.fkk[freq+1][key] = None\n",
    "            self.fkk.move_to_end(freq+1,last=True)\n",
    "            self.kvf[key][1] += 1\n",
    "        return val\n",
    "            \n",
    "            \n",
    "        "
   ]
  },
  {
   "cell_type": "code",
   "execution_count": 72,
   "metadata": {},
   "outputs": [],
   "source": [
    "d = OrderedDict.fromkeys([1])"
   ]
  },
  {
   "cell_type": "code",
   "execution_count": 73,
   "metadata": {},
   "outputs": [
    {
     "data": {
      "text/plain": [
       "OrderedDict([(1, None)])"
      ]
     },
     "execution_count": 73,
     "metadata": {},
     "output_type": "execute_result"
    }
   ],
   "source": [
    "d"
   ]
  },
  {
   "cell_type": "code",
   "execution_count": 78,
   "metadata": {},
   "outputs": [],
   "source": [
    "lfu = LFUCache(3)"
   ]
  },
  {
   "cell_type": "code",
   "execution_count": 79,
   "metadata": {},
   "outputs": [
    {
     "ename": "KeyError",
     "evalue": "1",
     "output_type": "error",
     "traceback": [
      "\u001b[0;31m---------------------------------------------------------------------------\u001b[0m",
      "\u001b[0;31mKeyError\u001b[0m                                  Traceback (most recent call last)",
      "\u001b[0;32m<ipython-input-79-bc4ceb6d071e>\u001b[0m in \u001b[0;36m<module>\u001b[0;34m\u001b[0m\n\u001b[1;32m      3\u001b[0m \u001b[0;34m\u001b[0m\u001b[0m\n\u001b[1;32m      4\u001b[0m \u001b[0mlfu\u001b[0m\u001b[0;34m.\u001b[0m\u001b[0mget\u001b[0m\u001b[0;34m(\u001b[0m\u001b[0;36m1\u001b[0m\u001b[0;34m)\u001b[0m\u001b[0;34m\u001b[0m\u001b[0;34m\u001b[0m\u001b[0m\n\u001b[0;32m----> 5\u001b[0;31m \u001b[0mlfu\u001b[0m\u001b[0;34m.\u001b[0m\u001b[0mget\u001b[0m\u001b[0;34m(\u001b[0m\u001b[0;36m2\u001b[0m\u001b[0;34m)\u001b[0m\u001b[0;34m\u001b[0m\u001b[0;34m\u001b[0m\u001b[0m\n\u001b[0m\u001b[1;32m      6\u001b[0m \u001b[0mlfu\u001b[0m\u001b[0;34m.\u001b[0m\u001b[0mget\u001b[0m\u001b[0;34m(\u001b[0m\u001b[0;36m2\u001b[0m\u001b[0;34m)\u001b[0m\u001b[0;34m\u001b[0m\u001b[0;34m\u001b[0m\u001b[0m\n\u001b[1;32m      7\u001b[0m \u001b[0mlfu\u001b[0m\u001b[0;34m.\u001b[0m\u001b[0mput\u001b[0m\u001b[0;34m(\u001b[0m\u001b[0;36m3\u001b[0m\u001b[0;34m,\u001b[0m\u001b[0;36m3\u001b[0m\u001b[0;34m)\u001b[0m\u001b[0;34m\u001b[0m\u001b[0;34m\u001b[0m\u001b[0m\n",
      "\u001b[0;32m<ipython-input-77-5adc2efbfe11>\u001b[0m in \u001b[0;36mget\u001b[0;34m(self, key)\u001b[0m\n\u001b[1;32m     54\u001b[0m         \u001b[0;32melse\u001b[0m\u001b[0;34m:\u001b[0m\u001b[0;34m\u001b[0m\u001b[0;34m\u001b[0m\u001b[0m\n\u001b[1;32m     55\u001b[0m             \u001b[0mval\u001b[0m\u001b[0;34m,\u001b[0m \u001b[0mfreq\u001b[0m \u001b[0;34m=\u001b[0m \u001b[0mself\u001b[0m\u001b[0;34m.\u001b[0m\u001b[0mkvf\u001b[0m\u001b[0;34m[\u001b[0m\u001b[0mkey\u001b[0m\u001b[0;34m]\u001b[0m\u001b[0;34m[\u001b[0m\u001b[0;36m0\u001b[0m\u001b[0;34m]\u001b[0m\u001b[0;34m,\u001b[0m \u001b[0mself\u001b[0m\u001b[0;34m.\u001b[0m\u001b[0mkvf\u001b[0m\u001b[0;34m[\u001b[0m\u001b[0mkey\u001b[0m\u001b[0;34m]\u001b[0m\u001b[0;34m[\u001b[0m\u001b[0;36m1\u001b[0m\u001b[0;34m]\u001b[0m\u001b[0;34m\u001b[0m\u001b[0;34m\u001b[0m\u001b[0m\n\u001b[0;32m---> 56\u001b[0;31m             \u001b[0mself\u001b[0m\u001b[0;34m.\u001b[0m\u001b[0mfkk\u001b[0m\u001b[0;34m[\u001b[0m\u001b[0mfreq\u001b[0m\u001b[0;34m]\u001b[0m\u001b[0;34m.\u001b[0m\u001b[0mpop\u001b[0m\u001b[0;34m(\u001b[0m\u001b[0mkey\u001b[0m\u001b[0;34m)\u001b[0m\u001b[0;34m\u001b[0m\u001b[0;34m\u001b[0m\u001b[0m\n\u001b[0m\u001b[1;32m     57\u001b[0m             \u001b[0;32mif\u001b[0m \u001b[0;32mnot\u001b[0m \u001b[0mself\u001b[0m\u001b[0;34m.\u001b[0m\u001b[0mfkk\u001b[0m\u001b[0;34m[\u001b[0m\u001b[0mfreq\u001b[0m\u001b[0;34m]\u001b[0m\u001b[0;34m:\u001b[0m\u001b[0;34m\u001b[0m\u001b[0;34m\u001b[0m\u001b[0m\n\u001b[1;32m     58\u001b[0m                 \u001b[0;32mdel\u001b[0m \u001b[0mself\u001b[0m\u001b[0;34m.\u001b[0m\u001b[0mfkk\u001b[0m\u001b[0;34m[\u001b[0m\u001b[0mfreq\u001b[0m\u001b[0;34m]\u001b[0m\u001b[0;34m\u001b[0m\u001b[0;34m\u001b[0m\u001b[0m\n",
      "\u001b[0;31mKeyError\u001b[0m: 1"
     ]
    }
   ],
   "source": [
    "lfu.put(2,2)\n",
    "lfu.put(1,1)\n",
    "\n",
    "lfu.get(1)\n",
    "lfu.get(2)\n",
    "lfu.get(2)\n",
    "lfu.put(3,3)\n",
    "print(lfu.fkk)\n",
    "print(lfu.kvf)\n",
    "lfu.put(4,4)"
   ]
  },
  {
   "cell_type": "code",
   "execution_count": 51,
   "metadata": {},
   "outputs": [
    {
     "data": {
      "text/plain": [
       "3"
      ]
     },
     "execution_count": 51,
     "metadata": {},
     "output_type": "execute_result"
    }
   ],
   "source": [
    "lfu.get(1)\n",
    "lfu.get(2)\n",
    "lfu.get(3)"
   ]
  },
  {
   "cell_type": "code",
   "execution_count": null,
   "metadata": {},
   "outputs": [],
   "source": []
  },
  {
   "cell_type": "code",
   "execution_count": 52,
   "metadata": {},
   "outputs": [
    {
     "data": {
      "text/plain": [
       "defaultdict(list, {2: [2, 4], 3: [3, 2], 4: [4, 1]})"
      ]
     },
     "execution_count": 52,
     "metadata": {},
     "output_type": "execute_result"
    }
   ],
   "source": [
    "lfu.kvf"
   ]
  },
  {
   "cell_type": "code",
   "execution_count": 19,
   "metadata": {},
   "outputs": [],
   "source": [
    "aa = OrderedDict()"
   ]
  },
  {
   "cell_type": "code",
   "execution_count": 22,
   "metadata": {},
   "outputs": [],
   "source": [
    "aa[2]=2"
   ]
  },
  {
   "cell_type": "code",
   "execution_count": 34,
   "metadata": {},
   "outputs": [
    {
     "data": {
      "text/plain": [
       "tuple"
      ]
     },
     "execution_count": 34,
     "metadata": {},
     "output_type": "execute_result"
    }
   ],
   "source": [
    "type(aa.popitem())"
   ]
  },
  {
   "cell_type": "code",
   "execution_count": 13,
   "metadata": {
    "scrolled": true
   },
   "outputs": [],
   "source": [
    "aa = {1:2,3:4}"
   ]
  },
  {
   "cell_type": "code",
   "execution_count": 15,
   "metadata": {},
   "outputs": [
    {
     "data": {
      "text/plain": [
       "1"
      ]
     },
     "execution_count": 15,
     "metadata": {},
     "output_type": "execute_result"
    }
   ],
   "source": [
    "next(iter(aa))"
   ]
  },
  {
   "cell_type": "code",
   "execution_count": null,
   "metadata": {},
   "outputs": [],
   "source": [
    "class LFUCache:\n",
    "\n",
    "    def __init__(self, capacity: int):\n",
    "        '''\n",
    "        1. kvfi: Dict for values : {key, [ val, frequency, index]}\n",
    "        2. List for order : [key1, key2, ...]\n",
    "        3. fnsi : {frequency: [num, start_index]}\n",
    "        '''\n",
    "        self.cap = capacity\n",
    "        self.kvfi = {}\n",
    "        self.order = []\n",
    "        \n",
    "    def get(self, key: int) -> int:\n",
    "        '''\n",
    "        if key in kvfi:\n",
    "        1. increase frequency in kvfi\n",
    "        2. if n > 1, promote it to start of frequencies\n",
    "        3. get value \n",
    "        '''\n",
    "        if key not in self.kvfi:\n",
    "            return -1\n",
    "        else:\n",
    "            self.kvfi[key][]\n",
    "\n",
    "    def put(self, key: int, value: int) -> None:\n",
    "        '''\n",
    "        if size < max:\n",
    "        1. insert key into kvfi with key: val, 1, len(order) -1\n",
    "        2. insert into order with freq 1\n",
    "            a. if n> 1 promote to start\n",
    "        else:\n",
    "        1. evict last in order. get key\n",
    "        2. change n of freq if n >1, otherwise delete from fnsi\n",
    "        3. insert key into kvfi with key: val, 1, len(order) -1\n",
    "        4. insert into order with freq 1\n",
    "            a. if n> 1 promote to start\n",
    "        '''\n",
    "        \n",
    "        if len(self.order) < self.cap:\n",
    "            self.kvfi[key] = [value, 1, len(self.order)-1]\n",
    "            self.order.append(key)\n",
    "            if 1 in self.fnsi:\n",
    "                self.fnsi[1][0] += 1\n",
    "                # Need to swap \n",
    "                self.order[]\n",
    "                \n",
    "            else:\n",
    "                self.fnsi[1] = [1, len(self.order) - 1]\n",
    "                \n",
    "        else:\n",
    "            s\n",
    "            \n",
    "            \n",
    "        \n",
    "        \n",
    "        \n",
    "\n",
    "\n",
    "# Your LFUCache object will be instantiated and called as such:\n",
    "# obj = LFUCache(capacity)\n",
    "# param_1 = obj.get(key)\n",
    "# obj.put(key,value)"
   ]
  }
 ],
 "metadata": {
  "kernelspec": {
   "display_name": "Python 3",
   "language": "python",
   "name": "python3"
  },
  "language_info": {
   "codemirror_mode": {
    "name": "ipython",
    "version": 3
   },
   "file_extension": ".py",
   "mimetype": "text/x-python",
   "name": "python",
   "nbconvert_exporter": "python",
   "pygments_lexer": "ipython3",
   "version": "3.6.9"
  }
 },
 "nbformat": 4,
 "nbformat_minor": 2
}
