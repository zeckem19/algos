{
 "cells": [
  {
   "cell_type": "markdown",
   "metadata": {},
   "source": [
    "https://leetcode.com/problems/all-oone-data-structure/"
   ]
  },
  {
   "cell_type": "raw",
   "metadata": {},
   "source": [
    "\n",
    "Implement a data structure supporting the following operations:\n",
    "\n",
    "Inc(Key) - Inserts a new key with value 1. Or increments an existing key by 1. Key is guaranteed to be a non-empty string.\n",
    "Dec(Key) - If Key's value is 1, remove it from the data structure. Otherwise decrements an existing key by 1. If the key does not exist, this function does nothing. Key is guaranteed to be a non-empty string.\n",
    "GetMaxKey() - Returns one of the keys with maximal value. If no element exists, return an empty string \"\". \n",
    "GetMinKey() - Returns one of the keys with minimal value. If no element exists, return an empty string \"\".\n",
    "Challenge: Perform all these in O(1) time complexity."
   ]
  },
  {
   "cell_type": "code",
   "execution_count": 9,
   "metadata": {},
   "outputs": [],
   "source": []
  },
  {
   "cell_type": "code",
   "execution_count": 6,
   "metadata": {},
   "outputs": [],
   "source": [
    "asd = defaultdict(dict)"
   ]
  },
  {
   "cell_type": "code",
   "execution_count": null,
   "metadata": {},
   "outputs": [],
   "source": []
  },
  {
   "cell_type": "code",
   "execution_count": null,
   "metadata": {},
   "outputs": [],
   "source": [
    "        \n",
    "#         if key in self.lookup:\n",
    "#             # Maintain lookup dict\n",
    "#             val = self.lookup[key][0]\n",
    "#             self.lookup[key][0] = val + 1\n",
    "\n",
    "#             index = self.lookup[key][1]\n",
    "#             # Maintain order indexes\n",
    "#             if val+1 not in self.order_index:\n",
    "#                 self.order_index[val+1] = self.order_index[val]\n",
    "#             self.order_index[val] += 1\n",
    "            \n",
    "#             # Maintain order list\n",
    "            \n",
    "#         else:\n",
    "#             self.lookup[key] = [1,len(self.order)]\n",
    "#             self.order.append(key)\n",
    "#             self.order_index[1] = self.order_index.get(1, len(self.order) - 1)\n",
    "        \n"
   ]
  },
  {
   "cell_type": "code",
   "execution_count": 81,
   "metadata": {},
   "outputs": [],
   "source": [
    "from collections import defaultdict"
   ]
  },
  {
   "cell_type": "code",
   "execution_count": 150,
   "metadata": {},
   "outputs": [],
   "source": [
    "class AllOne:\n",
    "\n",
    "    def __init__(self):\n",
    "        \"\"\"\n",
    "        Initialize your data structure here.\n",
    "        \n",
    "        1. Dict to store key-values\n",
    "        2. List to maintain order. \n",
    "            a. whenever there is an increment/ decrement, we check the neighbours and compare sizes.\n",
    "            b. if the order is wrong, we do a swap (similar to bubble sort)\n",
    "        3. Dict to track index of numbers in list\n",
    "        \n",
    "        1. key_values_index\n",
    "        {k1: [v1, i1], k2: [v2, i2], ..., kn: [vn, in]}\n",
    "                ->  i corresponds to index of list in 2 \n",
    "                \n",
    "        2. order\n",
    "        [k1, k2, ... kn]  -> i corresponds to index in this lsit\n",
    "        \n",
    "        3. value_number_index\n",
    "        {v1: [n1, i1], v2: [n2, i2], ... vn: [in, nn]}\n",
    "                ->  i corresponds to starting index correponding to value in list in 2 \n",
    "                ->  n corresponds number of k with value v\n",
    "                ->  v will be deleted when n falls to 0\n",
    "        \"\"\"\n",
    "        \n",
    "        self.kvi = defaultdict(list)\n",
    "        self.vni = defaultdict(list)\n",
    "        self.order = []\n",
    "\n",
    "    def inc(self, key: str) -> None:\n",
    "        \"\"\"\n",
    "        Inserts a new key <Key> with value 1. Or increments an existing key by 1.\n",
    "        \n",
    "        New key\n",
    "        1. create new key in kvi with val value = 1, index = len(order) -> [1, len(order)]\n",
    "        2. order appends new key\n",
    "        3. if 1 not in dict, vni[1] : [1, len(order)] else [n+1, i]\n",
    "        \n",
    "        Old key\n",
    "        1. lookup kvi\n",
    "            a.  get value and index\n",
    "        2. vni\n",
    "            a. get num and index, and next num and index\n",
    "            b. update current and next nums and index\n",
    "        3. order\n",
    "            a. swap current pos with front of values (index in vni)\n",
    "            b. update vni index (done in 2b)\n",
    "        4. kvi\n",
    "            a. update new kvi values\n",
    "        \"\"\"\n",
    "        \n",
    "        if key not in self.kvi:\n",
    "            self.kvi[key] = [1, len(self.order)]\n",
    "            self.order.append(key)\n",
    "            \n",
    "            if 1 not in self.vni:\n",
    "                self.vni[1] = [1, len(self.order) -1 ]\n",
    "            else:\n",
    "                self.vni[1][0] += 1\n",
    "        \n",
    "        else:\n",
    "            # Get values required to do stuff\n",
    "            old_val = self.kvi[key][0]\n",
    "            val = self.kvi[key][0] + 1\n",
    "            \n",
    "            old_index = self.kvi[key][1]\n",
    "            new_index = self.vni[old_val][1]\n",
    "            \n",
    "            swapped_key = self.order[new_index]\n",
    "            \n",
    "            # Update order list -> swap incremented key to front of values\n",
    "            self.order[old_index], self.order[new_index] = \\\n",
    "                        self.order[new_index], self.order[old_index]\n",
    "            \n",
    "            # Update old val in VNI\n",
    "            if self.vni[old_val][0] <= 1:\n",
    "                del self.vni[old_val]\n",
    "            else:\n",
    "                # reduce num of value\n",
    "                self.vni[old_val][0] -= 1\n",
    "                \n",
    "                # Change start index of this set of values\n",
    "                self.vni[old_val][1] += 1\n",
    "            \n",
    "            # Update new val in vni\n",
    "            if val in self.vni:\n",
    "                self.vni[val][0] += 1\n",
    "            else:\n",
    "                self.vni[val] = [1, new_index]\n",
    "            \n",
    "            # Update KVI for swapped indexes\n",
    "            self.kvi[key] = [val, new_index]\n",
    "            self.kvi[swapped_key][1] = old_index\n",
    "            print(self.order)\n",
    "              \n",
    "    def dec(self, key: str) -> None:\n",
    "        \"\"\"\n",
    "        Decrements an existing key by 1. \n",
    "        If Key's value is 1, remove it from the data structure.\n",
    "\n",
    "        New key\n",
    "        return \"\"\n",
    "        \n",
    "        Old key\n",
    "        1. lookup kvi to get old index\n",
    "        2. decrement value. \n",
    "        3. lookup vni to get new index\n",
    "        4. do swap on orders. check if value ==0 otherwise pop\n",
    "        5. update kvi, vni\n",
    "        \n",
    "        \"\"\"\n",
    "        if key not in self.kvi:\n",
    "            return\n",
    "        else:\n",
    "            old_value, old_index = self.kvi[key]\n",
    "            if self.vni[old_value][0] > 1 and old_index != (self.vni[old_value][0] + self.vni[old_value][1] - 1):\n",
    "                \n",
    "                # swap values\n",
    "                new_value, new_index = \\\n",
    "                    old_value - 1, self.vni[old_value][0] + self.vni[old_value][1] - 1\n",
    "                \n",
    "                self.order[old_index], self.order[new_index] = self.order[new_index], self.order[old_index]\n",
    "                \n",
    "                swapped_key = self.order[old_index]\n",
    "                self.kvi[swapped_key][1] = old_index\n",
    "                \n",
    "                self.vni[old_value][0] -= 1\n",
    "                \n",
    "                if new_value == 0:\n",
    "                    del self.kvi[key]\n",
    "                    self.order.pop()\n",
    "                    return\n",
    "                \n",
    "                elif new_value in self.vni:\n",
    "                    self.vni[new_value][0] += 1\n",
    "                    self.vni[new_value][1] -= 1\n",
    "                \n",
    "                else:\n",
    "                    self.vni[new_value] = [1, new_index]\n",
    "                    \n",
    "            else:\n",
    "                # Only 1 value in old value or its the last item in value, no need to swap\n",
    "                new_value, new_index = old_value - 1, old_index\n",
    "                \n",
    "                if self.vni[old_value][0] == 1:\n",
    "                    del self.vni[old_value]\n",
    "                else:\n",
    "                    self.vni[old_value][0] -= 1\n",
    "                    \n",
    "                if new_value == 0:\n",
    "                    del self.kvi[key]\n",
    "                    self.order.pop()\n",
    "                    return\n",
    "                \n",
    "                elif new_value in self.vni:\n",
    "                    self.vni[new_value][0] += 1\n",
    "                    self.vni[new_value][1] -= 1\n",
    "                \n",
    "                else:\n",
    "                    self.vni[new_value] = [1, new_index]\n",
    "            \n",
    "            self.kvi[key][0] = new_value\n",
    "            self.kvi[key][1] = new_index\n",
    "            \n",
    "    def getMaxKey(self) -> str:\n",
    "        \"\"\"\n",
    "        Returns one of the keys with maximal value.\n",
    "        \n",
    "        \"\"\"\n",
    "        if not self.order:\n",
    "            return ''\n",
    "        return self.order[0]\n",
    "\n",
    "    def getMinKey(self) -> str:\n",
    "        \"\"\"\n",
    "        Returns one of the keys with Minimal value.\n",
    "    \n",
    "        \"\"\"\n",
    "        \n",
    "        if not self.order:\n",
    "            return ''\n",
    "        return self.order[-1]\n",
    "\n",
    "\n",
    "# Your AllOne object will be instantiated and called as such:\n",
    "# obj = AllOne()\n",
    "# obj.inc(key)\n",
    "# obj.dec(key)\n",
    "# param_3 = obj.getMaxKey()\n",
    "# param_4 = obj.getMinKey()"
   ]
  },
  {
   "cell_type": "code",
   "execution_count": null,
   "metadata": {},
   "outputs": [],
   "source": [
    "[\"AllOne\",\"inc\",\"inc\",\"inc\",\"inc\",\"inc\",\"inc\",\"getMaxKey\",\"inc\",\"dec\",\"getMaxKey\",\"dec\",\"inc\",\"getMaxKey\",\"inc\",\"inc\",\"dec\",\"dec\",\"dec\",\"dec\",\"getMaxKey\",\"inc\",\"inc\",\"inc\",\"inc\",\"inc\",\"inc\",\"getMaxKey\",\"getMinKey\"]\n",
    "[[],[\"hello\"],[\"world\"],[\"leet\"],[\"code\"],[\"DS\"],[\"leet\"],[],[\"DS\"],[\"leet\"],[],[\"DS\"],[\"hello\"],[],[\"hello\"],[\"hello\"],[\"world\"],[\"leet\"],[\"code\"],[\"DS\"],[],[\"new\"],[\"new\"],[\"new\"],[\"new\"],[\"new\"],[\"new\"],[],[]]"
   ]
  },
  {
   "cell_type": "code",
   "execution_count": 151,
   "metadata": {},
   "outputs": [],
   "source": [
    "ao = AllOne()"
   ]
  },
  {
   "cell_type": "code",
   "execution_count": null,
   "metadata": {},
   "outputs": [],
   "source": [
    "[\"AllOne\",\"inc\",\"inc\",\"inc\",\"inc\",\"inc\",\"inc\",\"dec\", \"dec\",\"getMinKey\",\"dec\",\"getMaxKey\",\"getMinKey\"]\n",
    "[[],[\"a\"],[\"b\"],[\"b\"],[\"c\"],[\"c\"],[\"c\"],[\"b\"],[\"b\"],[],[\"a\"],[],[]]"
   ]
  },
  {
   "cell_type": "code",
   "execution_count": 152,
   "metadata": {},
   "outputs": [
    {
     "name": "stdout",
     "output_type": "stream",
     "text": [
      "['c', 'b', 'a', 'd', 'e']\n",
      "['c', 'e', 'a', 'd', 'b']\n",
      "['a', 'c', 'e', 'd', 'b']\n"
     ]
    }
   ],
   "source": [
    "ao.inc('a')\n",
    "ao.inc('b')\n",
    "ao.inc('c')\n",
    "ao.inc('d')\n",
    "ao.inc('e')\n",
    "ao.inc('c')\n",
    "ao.inc('e')\n",
    "ao.dec('c')\n",
    "ao.dec('e')\n",
    "ao.inc('a')"
   ]
  },
  {
   "cell_type": "code",
   "execution_count": 156,
   "metadata": {},
   "outputs": [],
   "source": [
    "# ao.inc('a')\n",
    "# ao.inc('a')\n",
    "# ao.dec('b')\n",
    "# ao.dec('c')\n",
    "ao.dec('d')\n",
    "ao.dec('e')"
   ]
  },
  {
   "cell_type": "code",
   "execution_count": 154,
   "metadata": {},
   "outputs": [
    {
     "data": {
      "text/plain": [
       "['a', 'd', 'e']"
      ]
     },
     "execution_count": 154,
     "metadata": {},
     "output_type": "execute_result"
    }
   ],
   "source": [
    "ao.order"
   ]
  },
  {
   "cell_type": "code",
   "execution_count": 155,
   "metadata": {},
   "outputs": [
    {
     "data": {
      "text/plain": [
       "defaultdict(list, {'a': [4, 0], 'd': [1, 1], 'e': [1, 2]})"
      ]
     },
     "execution_count": 155,
     "metadata": {},
     "output_type": "execute_result"
    }
   ],
   "source": [
    "ao.kvi"
   ]
  },
  {
   "cell_type": "code",
   "execution_count": null,
   "metadata": {},
   "outputs": [],
   "source": [
    "ao.inc('f')\n",
    "ao.inc('f')\n",
    "ao.inc('f')\n",
    "ao.inc('f')\n",
    "ao.inc('f')\n",
    "ao.inc('f')\n",
    "ao.inc('f')\n"
   ]
  },
  {
   "cell_type": "code",
   "execution_count": 137,
   "metadata": {},
   "outputs": [],
   "source": [
    "ao.dec('a')\n"
   ]
  },
  {
   "cell_type": "code",
   "execution_count": 127,
   "metadata": {},
   "outputs": [
    {
     "data": {
      "text/plain": [
       "defaultdict(list, {1: [1, 1], 3: [1, 0]})"
      ]
     },
     "execution_count": 127,
     "metadata": {},
     "output_type": "execute_result"
    }
   ],
   "source": [
    "ao.vni"
   ]
  },
  {
   "cell_type": "code",
   "execution_count": 128,
   "metadata": {},
   "outputs": [
    {
     "data": {
      "text/plain": [
       "defaultdict(list, {'a': [1, 2], 'c': [3, 0]})"
      ]
     },
     "execution_count": 128,
     "metadata": {},
     "output_type": "execute_result"
    }
   ],
   "source": [
    "ao.kvi"
   ]
  },
  {
   "cell_type": "code",
   "execution_count": 129,
   "metadata": {},
   "outputs": [
    {
     "data": {
      "text/plain": [
       "['c', 'a']"
      ]
     },
     "execution_count": 129,
     "metadata": {},
     "output_type": "execute_result"
    }
   ],
   "source": [
    "ao.order"
   ]
  },
  {
   "cell_type": "code",
   "execution_count": 74,
   "metadata": {},
   "outputs": [
    {
     "name": "stdout",
     "output_type": "stream",
     "text": [
      "['a', 'b', 'c', 'd']\n",
      "['a', 'b', 'c', 'd']\n",
      "['a', 'd', 'c', 'b']\n",
      "['a', 'd', 'c', 'b']\n",
      "['d', 'a', 'c', 'b']\n",
      "['d', 'a', 'c', 'b']\n"
     ]
    }
   ],
   "source": [
    "ao.inc('a')\n",
    "ao.inc('b')\n",
    "ao.inc('c')\n",
    "ao.inc('d')\n",
    "\n",
    "ao.inc('a')\n",
    "ao.inc('a')\n",
    "ao.inc('d')\n",
    "ao.inc('d')\n",
    "ao.inc('d')\n",
    "ao.inc('d')"
   ]
  },
  {
   "cell_type": "code",
   "execution_count": 75,
   "metadata": {},
   "outputs": [
    {
     "name": "stdout",
     "output_type": "stream",
     "text": [
      "['d', 'a', 'b', 'c']\n"
     ]
    }
   ],
   "source": [
    "ao.inc('b')"
   ]
  },
  {
   "cell_type": "code",
   "execution_count": 71,
   "metadata": {},
   "outputs": [
    {
     "name": "stdout",
     "output_type": "stream",
     "text": [
      "['d', 'b', 'c', 'a']\n"
     ]
    }
   ],
   "source": [
    "ao.inc('d')\n"
   ]
  },
  {
   "cell_type": "code",
   "execution_count": 53,
   "metadata": {},
   "outputs": [
    {
     "name": "stdout",
     "output_type": "stream",
     "text": [
      "['d', 'b', 'c', 'a']\n"
     ]
    }
   ],
   "source": [
    "ao.inc('d')\n"
   ]
  },
  {
   "cell_type": "code",
   "execution_count": 54,
   "metadata": {},
   "outputs": [
    {
     "name": "stdout",
     "output_type": "stream",
     "text": [
      "['d', 'c', 'b', 'a']\n"
     ]
    }
   ],
   "source": [
    "ao.inc('c')\n"
   ]
  },
  {
   "cell_type": "code",
   "execution_count": 72,
   "metadata": {},
   "outputs": [
    {
     "name": "stdout",
     "output_type": "stream",
     "text": [
      "['d', 'a', 'c', 'b']\n"
     ]
    }
   ],
   "source": [
    "ao.inc('a')\n"
   ]
  },
  {
   "cell_type": "code",
   "execution_count": 42,
   "metadata": {},
   "outputs": [
    {
     "data": {
      "text/plain": [
       "['c', 'b', 'd', 'a']"
      ]
     },
     "execution_count": 42,
     "metadata": {},
     "output_type": "execute_result"
    }
   ],
   "source": [
    "ao.order"
   ]
  },
  {
   "cell_type": "code",
   "execution_count": 76,
   "metadata": {},
   "outputs": [
    {
     "data": {
      "text/plain": [
       "defaultdict(list, {'a': [3, 1], 'b': [2, 2], 'c': [1, 3], 'd': [5, 0]})"
      ]
     },
     "execution_count": 76,
     "metadata": {},
     "output_type": "execute_result"
    }
   ],
   "source": [
    "ao.kvi"
   ]
  },
  {
   "cell_type": "code",
   "execution_count": 77,
   "metadata": {},
   "outputs": [
    {
     "data": {
      "text/plain": [
       "defaultdict(list, {1: [1, 3], 3: [1, 1], 5: [1, 0], 2: [1, 2]})"
      ]
     },
     "execution_count": 77,
     "metadata": {},
     "output_type": "execute_result"
    }
   ],
   "source": [
    "ao.vni"
   ]
  },
  {
   "cell_type": "code",
   "execution_count": 78,
   "metadata": {},
   "outputs": [],
   "source": [
    "a= [1,2]"
   ]
  },
  {
   "cell_type": "code",
   "execution_count": 79,
   "metadata": {},
   "outputs": [],
   "source": [
    "b,c = a"
   ]
  },
  {
   "cell_type": "code",
   "execution_count": 80,
   "metadata": {},
   "outputs": [
    {
     "data": {
      "text/plain": [
       "2"
      ]
     },
     "execution_count": 80,
     "metadata": {},
     "output_type": "execute_result"
    }
   ],
   "source": [
    "c"
   ]
  },
  {
   "cell_type": "code",
   "execution_count": null,
   "metadata": {},
   "outputs": [],
   "source": []
  }
 ],
 "metadata": {
  "kernelspec": {
   "display_name": "Python 3",
   "language": "python",
   "name": "python3"
  },
  "language_info": {
   "codemirror_mode": {
    "name": "ipython",
    "version": 3
   },
   "file_extension": ".py",
   "mimetype": "text/x-python",
   "name": "python",
   "nbconvert_exporter": "python",
   "pygments_lexer": "ipython3",
   "version": "3.6.9"
  }
 },
 "nbformat": 4,
 "nbformat_minor": 2
}
