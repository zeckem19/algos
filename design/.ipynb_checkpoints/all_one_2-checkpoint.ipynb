{
 "cells": [
  {
   "cell_type": "code",
   "execution_count": null,
   "metadata": {},
   "outputs": [],
   "source": [
    "https://leetcode.com/problems/all-oone-data-structure/"
   ]
  },
  {
   "cell_type": "markdown",
   "metadata": {},
   "source": [
    "\n",
    "Implement a data structure supporting the following operations:\n",
    "\n",
    "Inc(Key) - Inserts a new key with value 1. Or increments an existing key by 1. Key is guaranteed to be a non-empty string.\n",
    "Dec(Key) - If Key's value is 1, remove it from the data structure. Otherwise decrements an existing key by 1. If the key does not exist, this function does nothing. Key is guaranteed to be a non-empty string.\n",
    "GetMaxKey() - Returns one of the keys with maximal value. If no element exists, return an empty string \"\".\n",
    "GetMinKey() - Returns one of the keys with minimal value. If no element exists, return an empty string \"\".\n",
    "Challenge: Perform all these in O(1) time complexity."
   ]
  },
  {
   "cell_type": "code",
   "execution_count": null,
   "metadata": {},
   "outputs": [],
   "source": [
    "class AllOne:\n",
    "\n",
    "    def __init__(self):\n",
    "        \"\"\"\n",
    "        Initialize your data structure here.\n",
    "        \"\"\"\n",
    "        \n",
    "\n",
    "    def inc(self, key: str) -> None:\n",
    "        \"\"\"\n",
    "        Inserts a new key <Key> with value 1. Or increments an existing key by 1.\n",
    "        \"\"\"\n",
    "        \n",
    "\n",
    "    def dec(self, key: str) -> None:\n",
    "        \"\"\"\n",
    "        Decrements an existing key by 1. If Key's value is 1, remove it from the data structure.\n",
    "        \"\"\"\n",
    "        \n",
    "\n",
    "    def getMaxKey(self) -> str:\n",
    "        \"\"\"\n",
    "        Returns one of the keys with maximal value.\n",
    "        \"\"\"\n",
    "        \n",
    "\n",
    "    def getMinKey(self) -> str:\n",
    "        \"\"\"\n",
    "        Returns one of the keys with Minimal value.\n",
    "        \"\"\"\n",
    "        \n",
    "\n",
    "\n",
    "# Your AllOne object will be instantiated and called as such:\n",
    "# obj = AllOne()\n",
    "# obj.inc(key)\n",
    "# obj.dec(key)\n",
    "# param_3 = obj.getMaxKey()\n",
    "# param_4 = obj.getMinKey()"
   ]
  }
 ],
 "metadata": {
  "kernelspec": {
   "display_name": "Python 3",
   "language": "python",
   "name": "python3"
  },
  "language_info": {
   "codemirror_mode": {
    "name": "ipython",
    "version": 3
   },
   "file_extension": ".py",
   "mimetype": "text/x-python",
   "name": "python",
   "nbconvert_exporter": "python",
   "pygments_lexer": "ipython3",
   "version": "3.7.7"
  }
 },
 "nbformat": 4,
 "nbformat_minor": 2
}
