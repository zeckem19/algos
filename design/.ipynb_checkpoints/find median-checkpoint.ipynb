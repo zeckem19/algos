{
 "cells": [
  {
   "cell_type": "markdown",
   "metadata": {},
   "source": [
    "Median is the middle value in an ordered integer list. If the size of the list is even, there is no middle value. So the median is the mean of the two middle value.\n",
    "\n",
    "For example,\n",
    "[2,3,4], the median is 3\n",
    "\n",
    "[2,3], the median is (2 + 3) / 2 = 2.5\n",
    "\n",
    "Design a data structure that supports the following two operations:\n",
    "\n",
    "void addNum(int num) - Add a integer number from the data stream to the data structure.\n",
    "double findMedian() - Return the median of all elements so far."
   ]
  },
  {
   "cell_type": "markdown",
   "metadata": {},
   "source": [
    "Example:\n",
    "\n",
    "addNum(1)\n",
    "addNum(2)\n",
    "findMedian() -> 1.5\n",
    "addNum(3) \n",
    "findMedian() -> 2\n",
    " \n",
    "\n",
    "Follow up:\n",
    "\n",
    "If all integer numbers from the stream are between 0 and 100, how would you optimize it?\n",
    "If 99% of all integer numbers from the stream are between 0 and 100, how would you optimize it?"
   ]
  },
  {
   "cell_type": "code",
   "execution_count": null,
   "metadata": {},
   "outputs": [],
   "source": [
    "class MedianFinder:\n",
    "\n",
    "    def __init__(self):\n",
    "        \"\"\"\n",
    "        initialize your data structure here.\n",
    "        \"\"\"\n",
    "        \n",
    "\n",
    "    def addNum(self, num: int) -> None:\n",
    "        \n",
    "\n",
    "    def findMedian(self) -> float:\n",
    "        \n",
    "\n",
    "\n",
    "# Your MedianFinder object will be instantiated and called as such:\n",
    "# obj = MedianFinder()\n",
    "# obj.addNum(num)\n",
    "# param_2 = obj.findMedian()"
   ]
  }
 ],
 "metadata": {
  "kernelspec": {
   "display_name": "Python 3",
   "language": "python",
   "name": "python3"
  },
  "language_info": {
   "codemirror_mode": {
    "name": "ipython",
    "version": 3
   },
   "file_extension": ".py",
   "mimetype": "text/x-python",
   "name": "python",
   "nbconvert_exporter": "python",
   "pygments_lexer": "ipython3",
   "version": "3.7.7"
  }
 },
 "nbformat": 4,
 "nbformat_minor": 2
}
