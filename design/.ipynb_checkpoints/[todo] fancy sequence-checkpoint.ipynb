{
 "cells": [
  {
   "cell_type": "markdown",
   "metadata": {},
   "source": [
    "https://leetcode.com/problems/fancy-sequence/"
   ]
  },
  {
   "cell_type": "markdown",
   "metadata": {},
   "source": [
    "Write an API that generates fancy sequences using the append, addAll, and multAll operations.\n",
    "\n",
    "Implement the Fancy class:\n",
    "\n",
    "Fancy() Initializes the object with an empty sequence.\n",
    "void append(val) Appends an integer val to the end of the sequence.\n",
    "void addAll(inc) Increments all existing values in the sequence by an integer inc.\n",
    "void multAll(m) Multiplies all existing values in the sequence by an integer m.\n",
    "int getIndex(idx) Gets the current value at index idx (0-indexed) of the sequence modulo 109 + 7. If the index is greater or equal than the length of the sequence, return -1.\n",
    " \n",
    "\n",
    "Example 1:\n",
    "\n",
    "Input\n",
    "[\"Fancy\", \"append\", \"addAll\", \"append\", \"multAll\", \"getIndex\", \"addAll\", \"append\", \"multAll\", \"getIndex\", \"getIndex\", \"getIndex\"]\n",
    "[[], [2], [3], [7], [2], [0], [3], [10], [2], [0], [1], [2]]\n",
    "Output\n",
    "[null, null, null, null, null, 10, null, null, null, 26, 34, 20]\n",
    "\n",
    "Explanation\n",
    "Fancy fancy = new Fancy();\n",
    "fancy.append(2);   // fancy sequence: [2]\n",
    "fancy.addAll(3);   // fancy sequence: [2+3] -> [5]\n",
    "fancy.append(7);   // fancy sequence: [5, 7]\n",
    "fancy.multAll(2);  // fancy sequence: [5*2, 7*2] -> [10, 14]\n",
    "fancy.getIndex(0); // return 10\n",
    "fancy.addAll(3);   // fancy sequence: [10+3, 14+3] -> [13, 17]\n",
    "fancy.append(10);  // fancy sequence: [13, 17, 10]\n",
    "fancy.multAll(2);  // fancy sequence: [13*2, 17*2, 10*2] -> [26, 34, 20]\n",
    "fancy.getIndex(0); // return 26\n",
    "fancy.getIndex(1); // return 34\n",
    "fancy.getIndex(2); // return 20\n",
    " \n",
    "\n",
    "Constraints:\n",
    "\n",
    "1 <= val, inc, m <= 100\n",
    "0 <= idx <= 105\n",
    "At most 105 calls total will be made to append, addAll, multAll, and getIndex."
   ]
  },
  {
   "cell_type": "code",
   "execution_count": null,
   "metadata": {},
   "outputs": [],
   "source": [
    "class Fancy:\n",
    "\n",
    "    def __init__(self):\n",
    "        \n",
    "\n",
    "    def append(self, val: int) -> None:\n",
    "        \n",
    "\n",
    "    def addAll(self, inc: int) -> None:\n",
    "        \n",
    "\n",
    "    def multAll(self, m: int) -> None:\n",
    "        \n",
    "\n",
    "    def getIndex(self, idx: int) -> int:\n",
    "        \n",
    "\n",
    "\n",
    "# Your Fancy object will be instantiated and called as such:\n",
    "# obj = Fancy()\n",
    "# obj.append(val)\n",
    "# obj.addAll(inc)\n",
    "# obj.multAll(m)\n",
    "# param_4 = obj.getIndex(idx)"
   ]
  }
 ],
 "metadata": {
  "kernelspec": {
   "display_name": "Python 3",
   "language": "python",
   "name": "python3"
  },
  "language_info": {
   "codemirror_mode": {
    "name": "ipython",
    "version": 3
   },
   "file_extension": ".py",
   "mimetype": "text/x-python",
   "name": "python",
   "nbconvert_exporter": "python",
   "pygments_lexer": "ipython3",
   "version": "3.7.7"
  }
 },
 "nbformat": 4,
 "nbformat_minor": 2
}
