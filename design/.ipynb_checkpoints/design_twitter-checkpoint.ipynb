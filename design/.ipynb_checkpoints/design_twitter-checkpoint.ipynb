{
 "cells": [
  {
   "cell_type": "markdown",
   "metadata": {},
   "source": [
    "Design a simplified version of Twitter where users can post tweets, follow/unfollow another user and is able to see the 10 most recent tweets in the user's news feed. Your design should support the following methods:\n",
    "\n",
    "postTweet(userId, tweetId): Compose a new tweet.\n",
    "getNewsFeed(userId): Retrieve the 10 most recent tweet ids in the user's news feed. Each item in the news feed must be posted by users who the user followed or by the user herself. Tweets must be ordered from most recent to least recent.\n",
    "follow(followerId, followeeId): Follower follows a followee.\n",
    "unfollow(followerId, followeeId): Follower unfollows a followee.\n",
    "Example:\n",
    "\n",
    "Twitter twitter = new Twitter();\n",
    "\n",
    "// User 1 posts a new tweet (id = 5).\n",
    "twitter.postTweet(1, 5);\n",
    "\n",
    "// User 1's news feed should return a list with 1 tweet id -> [5].\n",
    "twitter.getNewsFeed(1);\n",
    "\n",
    "// User 1 follows user 2.\n",
    "twitter.follow(1, 2);\n",
    "\n",
    "// User 2 posts a new tweet (id = 6).\n",
    "twitter.postTweet(2, 6);\n",
    "\n",
    "// User 1's news feed should return a list with 2 tweet ids -> [6, 5].\n",
    "// Tweet id 6 should precede tweet id 5 because it is posted after tweet id 5.\n",
    "twitter.getNewsFeed(1);\n",
    "\n",
    "// User 1 unfollows user 2.\n",
    "twitter.unfollow(1, 2);\n",
    "\n",
    "// User 1's news feed should return a list with 1 tweet id -> [5],\n",
    "// since user 1 is no longer following user 2.\n",
    "twitter.getNewsFeed(1);"
   ]
  },
  {
   "cell_type": "code",
   "execution_count": 8,
   "metadata": {},
   "outputs": [],
   "source": [
    "from typing import List\n",
    "import heapq\n",
    "class Twitter:\n",
    "\n",
    "    def __init__(self):\n",
    "        \"\"\"\n",
    "        Initialize your data structure here.\n",
    "        \"\"\"\n",
    "        self.user_followers = {}\n",
    "        self.user_tweets = {}\n",
    "        self.counter = 0\n",
    "        \n",
    "    def createUser(self, userId):\n",
    "\n",
    "        self.user_followers[userId] = {userId}\n",
    "        self.user_tweets[userId] = []\n",
    "\n",
    "    def postTweet(self, userId: int, tweetId: int) -> None:\n",
    "        \"\"\"\n",
    "        Compose a new tweet.\n",
    "        \"\"\"\n",
    "        if userId not in self.user_followers:\n",
    "            self.createUser(userId)\n",
    "        \n",
    "        heapq.heappush(self.user_tweets[userId], (self.counter, tweetId))\n",
    "        \n",
    "        self.counter += 1\n",
    "        \n",
    "        \n",
    "\n",
    "    def getNewsFeed(self, userId: int) -> List[int]:\n",
    "        \"\"\"\n",
    "        Retrieve the 10 most recent tweet ids in the user's news feed. Each item \n",
    "        in the news feed must be posted by users who the user followed or by the \n",
    "        user herself. Tweets must be ordered from most recent to least recent.\n",
    "        \"\"\"\n",
    "        if userId not in self.user_followers:\n",
    "            return []\n",
    "        \n",
    "        newsfeed = list(heapq.merge(*[self.user_tweets[follow] for follow in self.user_followers[userId]]))\n",
    "        feed = heapq.nlargest(10,newsfeed)\n",
    "        return [tweet for counter,tweet in feed]\n",
    "        \n",
    "\n",
    "    def follow(self, followerId: int, followeeId: int) -> None:\n",
    "        \"\"\"\n",
    "        Follower follows a followee. If the operation is invalid, it should be a no-op.\n",
    "        \"\"\"\n",
    "        \n",
    "        if followerId not in self.user_followers:\n",
    "            self.createUser(followerId)\n",
    "        if followeeId not in self.user_followers:\n",
    "            self.createUser(followeeId)\n",
    "            \n",
    "        self.user_followers[followerId].add(followeeId)\n",
    "\n",
    "    def unfollow(self, followerId: int, followeeId: int) -> None:\n",
    "        \"\"\"\n",
    "        Follower unfollows a followee. If the operation is invalid, it should be a no-op.\n",
    "        \"\"\"\n",
    "        if followerId == followeeId:\n",
    "            return\n",
    "        \n",
    "        if followerId in self.user_followers and followeeId in self.user_followers:\n",
    "            if followeeId in self.user_followers[followerId]:\n",
    "                self.user_followers[followerId].remove(followeeId)\n",
    "        \n",
    "\n",
    "        \n",
    "\n",
    "\n",
    "# Your Twitter object will be instantiated and called as such:\n",
    "# obj = Twitter()\n",
    "# obj.postTweet(userId,tweetId)\n",
    "# param_2 = obj.getNewsFeed(userId)\n",
    "# obj.follow(followerId,followeeId)\n",
    "\n",
    "# obj.unfollow(followerId,followeeId)"
   ]
  },
  {
   "cell_type": "code",
   "execution_count": null,
   "metadata": {},
   "outputs": [],
   "source": []
  },
  {
   "cell_type": "code",
   "execution_count": 9,
   "metadata": {},
   "outputs": [],
   "source": [
    "twitter = Twitter()\n",
    "\n",
    "# // User 1 posts a new tweet (id = 5).\n",
    "twitter.postTweet(1, 10)\n",
    "twitter.postTweet(1, 2)\n",
    "\n",
    "# // User 1's news feed should return a list with 1 tweet id -> [5].\n",
    "# twitter.getNewsFeed(1);\n",
    "\n",
    "# // User 1 follows user 2.\n",
    "# twitter.follow(2, 1);\n",
    "\n",
    "# // User 2 posts a new tweet (id = 6).\n",
    "\n",
    "\n",
    "# // User 1's news feed should return a list with 2 tweet ids -> [6, 5].\n",
    "# // Tweet id 6 should precede tweet id 5 because it is posted after tweet id 5.\n",
    "# twitter.getNewsFeed(1);\n",
    "\n",
    "# # // User 1 unfollows user 2.\n",
    "# twitter.unfollow(1, 2);\n",
    "\n",
    "# # // User 1's news feed should return a list with 1 tweet id -> [5],\n",
    "# # // since user 1 is no longer following user 2.\n",
    "# twitter.getNewsFeed(1);"
   ]
  },
  {
   "cell_type": "code",
   "execution_count": null,
   "metadata": {},
   "outputs": [],
   "source": [
    "t"
   ]
  },
  {
   "cell_type": "code",
   "execution_count": 10,
   "metadata": {},
   "outputs": [
    {
     "data": {
      "text/plain": [
       "[2, 10]"
      ]
     },
     "execution_count": 10,
     "metadata": {},
     "output_type": "execute_result"
    }
   ],
   "source": [
    "twitter.getNewsFeed(1)"
   ]
  },
  {
   "cell_type": "code",
   "execution_count": 4,
   "metadata": {},
   "outputs": [
    {
     "data": {
      "text/plain": [
       "{1: [(0, 1)]}"
      ]
     },
     "execution_count": 4,
     "metadata": {},
     "output_type": "execute_result"
    }
   ],
   "source": [
    "twitter.user_tweets"
   ]
  },
  {
   "cell_type": "code",
   "execution_count": 99,
   "metadata": {},
   "outputs": [
    {
     "data": {
      "text/plain": [
       "{1, 2}"
      ]
     },
     "execution_count": 99,
     "metadata": {},
     "output_type": "execute_result"
    }
   ],
   "source": [
    "twitter.user_followers[]"
   ]
  },
  {
   "cell_type": "code",
   "execution_count": 100,
   "metadata": {},
   "outputs": [
    {
     "name": "stdout",
     "output_type": "stream",
     "text": [
      "[]\n"
     ]
    },
    {
     "data": {
      "text/plain": [
       "[]"
      ]
     },
     "execution_count": 100,
     "metadata": {},
     "output_type": "execute_result"
    }
   ],
   "source": [
    "twitter.getNewsFeed(2)"
   ]
  },
  {
   "cell_type": "code",
   "execution_count": 60,
   "metadata": {},
   "outputs": [
    {
     "data": {
      "text/plain": [
       "{1}"
      ]
     },
     "execution_count": 60,
     "metadata": {},
     "output_type": "execute_result"
    }
   ],
   "source": [
    "twitter.user_followers[1]"
   ]
  },
  {
   "cell_type": "code",
   "execution_count": 55,
   "metadata": {},
   "outputs": [
    {
     "data": {
      "text/plain": [
       "[5]"
      ]
     },
     "execution_count": 55,
     "metadata": {},
     "output_type": "execute_result"
    }
   ],
   "source": [
    "twitter.user_tweets"
   ]
  },
  {
   "cell_type": "code",
   "execution_count": 30,
   "metadata": {},
   "outputs": [],
   "source": [
    "twt = Twitter()\n",
    "twt.postTweet(1,1)"
   ]
  },
  {
   "cell_type": "code",
   "execution_count": 31,
   "metadata": {},
   "outputs": [],
   "source": [
    "twt.postTweet(2,2)"
   ]
  },
  {
   "cell_type": "code",
   "execution_count": 32,
   "metadata": {},
   "outputs": [],
   "source": [
    "twt.postTweet(1,3)"
   ]
  },
  {
   "cell_type": "code",
   "execution_count": 34,
   "metadata": {},
   "outputs": [
    {
     "data": {
      "text/plain": [
       "[2]"
      ]
     },
     "execution_count": 34,
     "metadata": {},
     "output_type": "execute_result"
    }
   ],
   "source": [
    "twt.user_tweets[2]"
   ]
  },
  {
   "cell_type": "code",
   "execution_count": 39,
   "metadata": {},
   "outputs": [
    {
     "data": {
      "text/plain": [
       "[1, 3]"
      ]
     },
     "execution_count": 39,
     "metadata": {},
     "output_type": "execute_result"
    }
   ],
   "source": [
    "twt.getNewsFeed(1)"
   ]
  },
  {
   "cell_type": "code",
   "execution_count": 40,
   "metadata": {},
   "outputs": [
    {
     "ename": "KeyError",
     "evalue": "2",
     "output_type": "error",
     "traceback": [
      "\u001b[0;31m---------------------------------------------------------------------------\u001b[0m",
      "\u001b[0;31mKeyError\u001b[0m                                  Traceback (most recent call last)",
      "\u001b[0;32m<ipython-input-40-38bf52fe5ecd>\u001b[0m in \u001b[0;36m<module>\u001b[0;34m\u001b[0m\n\u001b[0;32m----> 1\u001b[0;31m \u001b[0mtwt\u001b[0m\u001b[0;34m.\u001b[0m\u001b[0munfollow\u001b[0m\u001b[0;34m(\u001b[0m\u001b[0;36m1\u001b[0m\u001b[0;34m,\u001b[0m\u001b[0;36m2\u001b[0m\u001b[0;34m)\u001b[0m\u001b[0;34m\u001b[0m\u001b[0;34m\u001b[0m\u001b[0m\n\u001b[0m",
      "\u001b[0;32m<ipython-input-29-6ba656cd3466>\u001b[0m in \u001b[0;36munfollow\u001b[0;34m(self, followerId, followeeId)\u001b[0m\n\u001b[1;32m     45\u001b[0m         \"\"\"\n\u001b[1;32m     46\u001b[0m         \u001b[0;32mif\u001b[0m \u001b[0mfollowerId\u001b[0m \u001b[0;32min\u001b[0m \u001b[0mself\u001b[0m\u001b[0;34m.\u001b[0m\u001b[0muser_followers\u001b[0m \u001b[0;32mand\u001b[0m \u001b[0mfolloweeId\u001b[0m \u001b[0;32min\u001b[0m \u001b[0mself\u001b[0m\u001b[0;34m.\u001b[0m\u001b[0muser_followers\u001b[0m\u001b[0;34m:\u001b[0m\u001b[0;34m\u001b[0m\u001b[0;34m\u001b[0m\u001b[0m\n\u001b[0;32m---> 47\u001b[0;31m             \u001b[0mself\u001b[0m\u001b[0;34m.\u001b[0m\u001b[0muser_followers\u001b[0m\u001b[0;34m[\u001b[0m\u001b[0mfollowerId\u001b[0m\u001b[0;34m]\u001b[0m\u001b[0;34m.\u001b[0m\u001b[0mremove\u001b[0m\u001b[0;34m(\u001b[0m\u001b[0mfolloweeId\u001b[0m\u001b[0;34m)\u001b[0m\u001b[0;34m\u001b[0m\u001b[0;34m\u001b[0m\u001b[0m\n\u001b[0m\u001b[1;32m     48\u001b[0m \u001b[0;34m\u001b[0m\u001b[0m\n\u001b[1;32m     49\u001b[0m \u001b[0;34m\u001b[0m\u001b[0m\n",
      "\u001b[0;31mKeyError\u001b[0m: 2"
     ]
    }
   ],
   "source": [
    "twt.unfollow(1,2)"
   ]
  },
  {
   "cell_type": "code",
   "execution_count": null,
   "metadata": {},
   "outputs": [],
   "source": []
  },
  {
   "cell_type": "code",
   "execution_count": null,
   "metadata": {},
   "outputs": [],
   "source": [
    "obj = Twitter()\n",
    "obj.postTweet(1,1)\n",
    "param_2 = obj.getNewsFeed(1)\n",
    "obj.follow(followerId,followeeId)\n",
    "obj.unfollow(followerId,followeeId)"
   ]
  },
  {
   "cell_type": "code",
   "execution_count": 130,
   "metadata": {},
   "outputs": [],
   "source": [
    "a= []\n",
    "b=[]"
   ]
  },
  {
   "cell_type": "code",
   "execution_count": 131,
   "metadata": {},
   "outputs": [],
   "source": [
    "from heapq import heappush"
   ]
  },
  {
   "cell_type": "code",
   "execution_count": 135,
   "metadata": {},
   "outputs": [],
   "source": [
    "heappush(a,(1,1))\n",
    "# heappush(b,1)\n",
    "heappush(a,(2,2))\n",
    "# heappush(a,5)\n",
    "# heappush(a,6)\n",
    "# heappush(b,9)\n",
    "# heappush(a,11)"
   ]
  },
  {
   "cell_type": "code",
   "execution_count": 136,
   "metadata": {},
   "outputs": [
    {
     "data": {
      "text/plain": [
       "[(1, 1), (1, 1), (2, 2)]"
      ]
     },
     "execution_count": 136,
     "metadata": {},
     "output_type": "execute_result"
    }
   ],
   "source": [
    "a"
   ]
  },
  {
   "cell_type": "code",
   "execution_count": 7,
   "metadata": {},
   "outputs": [
    {
     "data": {
      "text/plain": [
       "[1, 9]"
      ]
     },
     "execution_count": 7,
     "metadata": {},
     "output_type": "execute_result"
    }
   ],
   "source": [
    "b"
   ]
  },
  {
   "cell_type": "code",
   "execution_count": 9,
   "metadata": {},
   "outputs": [],
   "source": [
    "import heapq"
   ]
  },
  {
   "cell_type": "code",
   "execution_count": 22,
   "metadata": {},
   "outputs": [],
   "source": [
    "\n",
    "c = heapq.merge(a,b)"
   ]
  },
  {
   "cell_type": "code",
   "execution_count": 23,
   "metadata": {},
   "outputs": [],
   "source": [
    "\n",
    "d = list(c)"
   ]
  },
  {
   "cell_type": "code",
   "execution_count": 25,
   "metadata": {},
   "outputs": [
    {
     "data": {
      "text/plain": [
       "[1, 1, 3, 5, 6, 9, 11]"
      ]
     },
     "execution_count": 25,
     "metadata": {},
     "output_type": "execute_result"
    }
   ],
   "source": [
    "d[:10]"
   ]
  },
  {
   "cell_type": "code",
   "execution_count": 43,
   "metadata": {},
   "outputs": [
    {
     "ename": "TypeError",
     "evalue": "nlargest() missing 1 required positional argument: 'iterable'",
     "output_type": "error",
     "traceback": [
      "\u001b[0;31m---------------------------------------------------------------------------\u001b[0m",
      "\u001b[0;31mTypeError\u001b[0m                                 Traceback (most recent call last)",
      "\u001b[0;32m<ipython-input-43-345cc8126402>\u001b[0m in \u001b[0;36m<module>\u001b[0;34m\u001b[0m\n\u001b[0;32m----> 1\u001b[0;31m \u001b[0mheapq\u001b[0m\u001b[0;34m.\u001b[0m\u001b[0mnlargest\u001b[0m\u001b[0;34m(\u001b[0m\u001b[0mlist\u001b[0m\u001b[0;34m(\u001b[0m\u001b[0mc\u001b[0m\u001b[0;34m)\u001b[0m\u001b[0;34m)\u001b[0m\u001b[0;34m\u001b[0m\u001b[0;34m\u001b[0m\u001b[0m\n\u001b[0m",
      "\u001b[0;31mTypeError\u001b[0m: nlargest() missing 1 required positional argument: 'iterable'"
     ]
    }
   ],
   "source": [
    "heapq.nlargest()"
   ]
  },
  {
   "cell_type": "code",
   "execution_count": null,
   "metadata": {},
   "outputs": [],
   "source": []
  }
 ],
 "metadata": {
  "kernelspec": {
   "display_name": "Python 3",
   "language": "python",
   "name": "python3"
  },
  "language_info": {
   "codemirror_mode": {
    "name": "ipython",
    "version": 3
   },
   "file_extension": ".py",
   "mimetype": "text/x-python",
   "name": "python",
   "nbconvert_exporter": "python",
   "pygments_lexer": "ipython3",
   "version": "3.7.3"
  }
 },
 "nbformat": 4,
 "nbformat_minor": 2
}
