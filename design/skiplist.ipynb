{
 "cells": [
  {
   "cell_type": "markdown",
   "metadata": {},
   "source": [
    "https://leetcode.com/problems/design-skiplist/"
   ]
  },
  {
   "cell_type": "markdown",
   "metadata": {},
   "source": [
    "Design a Skiplist without using any built-in libraries.\n",
    "\n",
    "A Skiplist is a data structure that takes O(log(n)) time to add, erase and search. Comparing with treap and red-black tree which has the same function and performance, the code length of Skiplist can be comparatively short and the idea behind Skiplists are just simple linked lists.\n",
    "\n",
    "For example: we have a Skiplist containing [30,40,50,60,70,90] and we want to add 80 and 45 into it. The Skiplist works this way:\n",
    "\n",
    "\n",
    "Artyom Kalinin [CC BY-SA 3.0], via Wikimedia Commons\n",
    "\n",
    "You can see there are many layers in the Skiplist. Each layer is a sorted linked list. With the help of the top layers, add , erase and search can be faster than O(n). It can be proven that the average time complexity for each operation is O(log(n)) and space complexity is O(n).\n",
    "\n",
    "To be specific, your design should include these functions:\n",
    "\n",
    "bool search(int target) : Return whether the target exists in the Skiplist or not.\n",
    "void add(int num): Insert a value into the SkipList. \n",
    "bool erase(int num): Remove a value in the Skiplist. If num does not exist in the Skiplist, do nothing and return false. If there exists multiple num values, removing any one of them is fine.\n",
    "See more about Skiplist : https://en.wikipedia.org/wiki/Skip_list\n",
    "\n",
    "Note that duplicates may exist in the Skiplist, your code needs to handle this situation.\n",
    "\n",
    " \n",
    "\n",
    "Example:\n",
    "\n",
    "Skiplist skiplist = new Skiplist();\n",
    "\n",
    "skiplist.add(1);\n",
    "skiplist.add(2);\n",
    "skiplist.add(3);\n",
    "skiplist.search(0);   // return false.\n",
    "skiplist.add(4);\n",
    "skiplist.search(1);   // return true.\n",
    "skiplist.erase(0);    // return false, 0 is not in skiplist.\n",
    "skiplist.erase(1);    // return true.\n",
    "skiplist.search(1);   // return false, 1 has already been erased.\n",
    " \n",
    "\n",
    "Constraints:\n",
    "\n",
    "0 <= num, target <= 20000\n",
    "At most 50000 calls will be made to search, add, and erase"
   ]
  },
  {
   "cell_type": "code",
   "execution_count": null,
   "metadata": {},
   "outputs": [],
   "source": [
    "class Skiplist:\n",
    "\n",
    "    def __init__(self):\n",
    "        \n",
    "\n",
    "    def search(self, target: int) -> bool:\n",
    "        \n",
    "\n",
    "    def add(self, num: int) -> None:\n",
    "        \n",
    "\n",
    "    def erase(self, num: int) -> bool:\n",
    "        \n",
    "\n",
    "\n",
    "# Your Skiplist object will be instantiated and called as such:\n",
    "# obj = Skiplist()\n",
    "# param_1 = obj.search(target)\n",
    "# obj.add(num)\n",
    "# param_3 = obj.erase(num)"
   ]
  }
 ],
 "metadata": {
  "kernelspec": {
   "display_name": "Python 3",
   "language": "python",
   "name": "python3"
  },
  "language_info": {
   "codemirror_mode": {
    "name": "ipython",
    "version": 3
   },
   "file_extension": ".py",
   "mimetype": "text/x-python",
   "name": "python",
   "nbconvert_exporter": "python",
   "pygments_lexer": "ipython3",
   "version": "3.7.7"
  }
 },
 "nbformat": 4,
 "nbformat_minor": 2
}
