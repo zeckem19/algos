{
 "cells": [
  {
   "cell_type": "markdown",
   "metadata": {},
   "source": [
    "https://leetcode.com/problems/design-skiplist/"
   ]
  },
  {
   "cell_type": "markdown",
   "metadata": {},
   "source": [
    "Design a Skiplist without using any built-in libraries.\n",
    "\n",
    "A Skiplist is a data structure that takes O(log(n)) time to add, erase and search. Comparing with treap and red-black tree which has the same function and performance, the code length of Skiplist can be comparatively short and the idea behind Skiplists are just simple linked lists.\n",
    "\n",
    "For example: we have a Skiplist containing [30,40,50,60,70,90] and we want to add 80 and 45 into it. The Skiplist works this way:\n",
    "\n",
    "\n",
    "Artyom Kalinin [CC BY-SA 3.0], via Wikimedia Commons\n",
    "\n",
    "You can see there are many layers in the Skiplist. Each layer is a sorted linked list. With the help of the top layers, add , erase and search can be faster than O(n). It can be proven that the average time complexity for each operation is O(log(n)) and space complexity is O(n).\n",
    "\n",
    "To be specific, your design should include these functions:\n",
    "\n",
    "bool search(int target) : Return whether the target exists in the Skiplist or not.\n",
    "void add(int num): Insert a value into the SkipList. \n",
    "bool erase(int num): Remove a value in the Skiplist. If num does not exist in the Skiplist, do nothing and return false. If there exists multiple num values, removing any one of them is fine.\n",
    "See more about Skiplist : https://en.wikipedia.org/wiki/Skip_list\n",
    "\n",
    "Note that duplicates may exist in the Skiplist, your code needs to handle this situation.\n",
    "\n",
    " \n",
    "\n",
    "Example:\n",
    "\n",
    "Skiplist skiplist = new Skiplist();\n",
    "\n",
    "skiplist.add(1);\n",
    "skiplist.add(2);\n",
    "skiplist.add(3);\n",
    "skiplist.search(0);   // return false.\n",
    "skiplist.add(4);\n",
    "skiplist.search(1);   // return true.\n",
    "skiplist.erase(0);    // return false, 0 is not in skiplist.\n",
    "skiplist.erase(1);    // return true.\n",
    "skiplist.search(1);   // return false, 1 has already been erased.\n",
    " \n",
    "\n",
    "Constraints:\n",
    "\n",
    "0 <= num, target <= 20000\n",
    "At most 50000 calls will be made to search, add, and erase"
   ]
  },
  {
   "cell_type": "code",
   "execution_count": 2,
   "metadata": {},
   "outputs": [],
   "source": [
    "from random import random\n",
    "import math"
   ]
  },
  {
   "cell_type": "code",
   "execution_count": 1,
   "metadata": {},
   "outputs": [],
   "source": [
    "class SLNode:\n",
    "    def __init__(self, val):\n",
    "        self.val = val\n",
    "        self.next = None\n",
    "        self.down = None"
   ]
  },
  {
   "cell_type": "code",
   "execution_count": null,
   "metadata": {},
   "outputs": [],
   "source": [
    "class Skiplist:\n",
    "    def __init__(self):\n",
    "        '''\n",
    "        layers comprise a list of starting node for each layer\n",
    "        '''\n",
    "        self.top_node = Node(-1)\n",
    "        self.first_nodes = [top_node]\n",
    "        \n",
    "    def search(self, target: int) -> bool:\n",
    "        start = self.top_node\n",
    "        return self.search_helper(target, start)\n",
    "    \n",
    "    def search_helper(self, target, node):\n",
    "        if node.val == target:\n",
    "            return True\n",
    "        elif node.next:\n",
    "            if node.next.val < target:\n",
    "                return search_helper(target, node.next)\n",
    "        elif node.down:\n",
    "            return search_helper(target, node.next)\n",
    "        else:\n",
    "            return False\n",
    "    \n",
    "    def insert_node(self, me, left, down=None):\n",
    "        if left.next:\n",
    "            me.next = left.next\n",
    "        left.next = me\n",
    "        if down:\n",
    "            me.down = down\n",
    "    \n",
    "    def find_node(self, target, node, record) -> list:\n",
    "        if node.val == target:\n",
    "            while node.down:\n",
    "                node = node.down\n",
    "                record.append(node)\n",
    "            return record\n",
    "        elif node.next:\n",
    "            if node.next.val < target:\n",
    "                return find_node(self, target, node.next)\n",
    "        elif node.down:\n",
    "            record.append(node)\n",
    "            return find_node(self, target, node.down)\n",
    "        else:\n",
    "            record.append(node)\n",
    "            return record\n",
    "        \n",
    "    def add(self, num: int) -> None:\n",
    "        nodes = self.find_node(num, first_nodes[-1])\n",
    "        new_node = SLNode(num)\n",
    "        self.insert_node(SLNode(num), nodes[i])\n",
    "        height = int(math.ceil(random() *len(self.first_nodes)))\n",
    "        for i in range(1, height):\n",
    "            new_node2 = SLNode(num)\n",
    "            self.insert_node(new_node2, nodes[i], new_node)\n",
    "            new_node = new_node2\n",
    "    \n",
    "#     def print_SL(self):\n",
    "        \n",
    "#     def erase(self, num: int) -> bool:\n",
    "        \n",
    "\n",
    "\n",
    "# Your Skiplist object will be instantiated and called as such:\n",
    "# obj = Skiplist()\n",
    "# param_1 = obj.search(target)\n",
    "# obj.add(num)\n",
    "# param_3 = obj.erase(num)"
   ]
  },
  {
   "cell_type": "code",
   "execution_count": 11,
   "metadata": {},
   "outputs": [],
   "source": [
    "age = '65'"
   ]
  },
  {
   "cell_type": "code",
   "execution_count": 4,
   "metadata": {},
   "outputs": [
    {
     "data": {
      "text/plain": [
       "65"
      ]
     },
     "execution_count": 4,
     "metadata": {},
     "output_type": "execute_result"
    }
   ],
   "source": [
    "int(age)"
   ]
  },
  {
   "cell_type": "code",
   "execution_count": 14,
   "metadata": {},
   "outputs": [
    {
     "name": "stdout",
     "output_type": "stream",
     "text": [
      "Help on built-in function isdigit:\n",
      "\n",
      "isdigit(...) method of builtins.str instance\n",
      "    S.isdigit() -> bool\n",
      "    \n",
      "    Return True if all characters in S are digits\n",
      "    and there is at least one character in S, False otherwise.\n",
      "\n"
     ]
    }
   ],
   "source": [
    "\n",
    "help(age.isdigit)"
   ]
  },
  {
   "cell_type": "code",
   "execution_count": null,
   "metadata": {},
   "outputs": [],
   "source": []
  }
 ],
 "metadata": {
  "kernelspec": {
   "display_name": "Python 3",
   "language": "python",
   "name": "python3"
  },
  "language_info": {
   "codemirror_mode": {
    "name": "ipython",
    "version": 3
   },
   "file_extension": ".py",
   "mimetype": "text/x-python",
   "name": "python",
   "nbconvert_exporter": "python",
   "pygments_lexer": "ipython3",
   "version": "3.6.9"
  }
 },
 "nbformat": 4,
 "nbformat_minor": 2
}
