{
 "cells": [
  {
   "cell_type": "markdown",
   "metadata": {},
   "source": [
    "https://leetcode.com/problems/insert-delete-getrandom-o1-duplicates-allowed/"
   ]
  },
  {
   "cell_type": "raw",
   "metadata": {},
   "source": [
    "    Design a data structure that supports all following operations in average O(1) time.\n",
    "\n",
    "Note: Duplicate elements are allowed.\n",
    "insert(val): Inserts an item val to the collection.\n",
    "remove(val): Removes an item val from the collection if present.\n",
    "getRandom: Returns a random element from current collection of elements. The probability of each element being returned is linearly related to the number of same value the collection contains.\n",
    "Example:\n",
    "\n",
    "// Init an empty collection.\n",
    "RandomizedCollection collection = new RandomizedCollection();\n",
    "\n",
    "// Inserts 1 to the collection. Returns true as the collection did not contain 1.\n",
    "collection.insert(1);\n",
    "\n",
    "// Inserts another 1 to the collection. Returns false as the collection contained 1. Collection now contains [1,1].\n",
    "collection.insert(1);\n",
    "\n",
    "// Inserts 2 to the collection, returns true. Collection now contains [1,1,2].\n",
    "collection.insert(2);\n",
    "\n",
    "// getRandom should return 1 with the probability 2/3, and returns 2 with the probability 1/3.\n",
    "collection.getRandom();\n",
    "\n",
    "// Removes 1 from the collection, returns true. Collection now contains [1,2].\n",
    "collection.remove(1);\n",
    "\n",
    "// getRandom should return 1 and 2 both equally likely.\n",
    "collection.getRandom();"
   ]
  },
  {
   "cell_type": "code",
   "execution_count": 1,
   "metadata": {},
   "outputs": [],
   "source": [
    "from collections import defaultdict\n",
    "from random import randrange"
   ]
  },
  {
   "cell_type": "code",
   "execution_count": 94,
   "metadata": {},
   "outputs": [],
   "source": [
    "class RandomizedCollection:\n",
    "\n",
    "    def __init__(self):\n",
    "        \"\"\"\n",
    "        Initialize your data structure here.\n",
    "        \n",
    "        1. dict for o(1) insert and deletes. keeps track of index in list and number of values\n",
    "        2. list to append new inserts. \n",
    "        3. getRandom -> generates random number over length of array. returns item corresponding to index\n",
    "        \"\"\"\n",
    "        self.vni = defaultdict(set)\n",
    "        self.collection = []\n",
    "        \n",
    "\n",
    "    def insert(self, val: int) -> bool:\n",
    "        \"\"\"\n",
    "        Inserts a value to the collection. Returns true if the collection did not already contain the specified element.\n",
    "        \"\"\"\n",
    "        val_exists = False\n",
    "        if val not in self.vni:\n",
    "            val_exists = True\n",
    "        self.vni[val].add(len(self.collection))\n",
    "        self.collection.append(val)\n",
    "        return val_exists\n",
    "        \n",
    "\n",
    "    def remove(self, val: int) -> bool:\n",
    "        \"\"\"\n",
    "        Removes a value from the collection. Returns true if the collection contained the specified element.\n",
    "        \"\"\"\n",
    "        if val in self.vni:\n",
    "            ind_to_rem = self.vni[val].pop()\n",
    "            if self.vni[val] == set():\n",
    "                del self.vni[val]\n",
    "            if ind_to_rem != len(self.collection) -1:\n",
    "                self.collection[ind_to_rem], self.collection[-1] = self.collection[-1], self.collection[ind_to_rem]\n",
    "                self.vni[self.collection[ind_to_rem]].discard(len(self.collection)-1)\n",
    "                self.vni[self.collection[ind_to_rem]].add(ind_to_rem)\n",
    "            self.collection.pop()\n",
    "            return True\n",
    "        else:\n",
    "            return False\n",
    "\n",
    "    def getRandom(self) -> int:\n",
    "        \"\"\"\n",
    "        Get a random element from the collection.\n",
    "        \"\"\"\n",
    "        ind = randrange(0,len(self.collection))\n",
    "        return self.collection[ind]\n",
    "\n",
    "\n",
    "# Your RandomizedCollection object will be instantiated and called as such:\n",
    "# obj = RandomizedCollection()\n",
    "# param_1 = obj.insert(val)\n",
    "# param_2 = obj.remove(val)\n",
    "# param_3 = obj.getRandom()"
   ]
  },
  {
   "cell_type": "code",
   "execution_count": 86,
   "metadata": {},
   "outputs": [],
   "source": [
    "o = RandomizedCollection()"
   ]
  },
  {
   "cell_type": "code",
   "execution_count": 81,
   "metadata": {},
   "outputs": [
    {
     "name": "stdout",
     "output_type": "stream",
     "text": [
      "[20, 30, 20]\n"
     ]
    },
    {
     "data": {
      "text/plain": [
       "True"
      ]
     },
     "execution_count": 81,
     "metadata": {},
     "output_type": "execute_result"
    }
   ],
   "source": [
    "o.insert(20)\n",
    "o.insert(30)\n",
    "o.insert(20)\n",
    "o.remove(30)"
   ]
  },
  {
   "cell_type": "code",
   "execution_count": 73,
   "metadata": {},
   "outputs": [
    {
     "data": {
      "text/plain": [
       "True"
      ]
     },
     "execution_count": 73,
     "metadata": {},
     "output_type": "execute_result"
    }
   ],
   "source": [
    "o.insert(0)\n",
    "o.insert(1)\n",
    "o.remove(0)\n",
    "o.insert(2)\n",
    "o.remove(1)"
   ]
  },
  {
   "cell_type": "code",
   "execution_count": 87,
   "metadata": {},
   "outputs": [
    {
     "data": {
      "text/plain": [
       "True"
      ]
     },
     "execution_count": 87,
     "metadata": {},
     "output_type": "execute_result"
    }
   ],
   "source": [
    "o.insert(10)\n",
    "o.insert(10)\n",
    "o.insert(20)\n",
    "o.insert(20)\n",
    "o.insert(30)\n",
    "o.insert(30)\n",
    "o.remove(10)\n",
    "o.remove(10)\n",
    "o.remove(30)\n",
    "o.remove(30)"
   ]
  },
  {
   "cell_type": "code",
   "execution_count": null,
   "metadata": {},
   "outputs": [],
   "source": [
    "o"
   ]
  },
  {
   "cell_type": "code",
   "execution_count": 74,
   "metadata": {},
   "outputs": [
    {
     "data": {
      "text/plain": [
       "[2]"
      ]
     },
     "execution_count": 74,
     "metadata": {},
     "output_type": "execute_result"
    }
   ],
   "source": [
    "o.collection"
   ]
  },
  {
   "cell_type": "code",
   "execution_count": 5,
   "metadata": {},
   "outputs": [
    {
     "data": {
      "text/plain": [
       "True"
      ]
     },
     "execution_count": 5,
     "metadata": {},
     "output_type": "execute_result"
    }
   ],
   "source": [
    "o.insert(2)"
   ]
  },
  {
   "cell_type": "code",
   "execution_count": 6,
   "metadata": {},
   "outputs": [
    {
     "data": {
      "text/plain": [
       "True"
      ]
     },
     "execution_count": 6,
     "metadata": {},
     "output_type": "execute_result"
    }
   ],
   "source": [
    "o.insert(3)"
   ]
  },
  {
   "cell_type": "code",
   "execution_count": 7,
   "metadata": {},
   "outputs": [
    {
     "data": {
      "text/plain": [
       "[1, 2, 3]"
      ]
     },
     "execution_count": 7,
     "metadata": {},
     "output_type": "execute_result"
    }
   ],
   "source": [
    "o.collection"
   ]
  },
  {
   "cell_type": "code",
   "execution_count": 8,
   "metadata": {},
   "outputs": [
    {
     "data": {
      "text/plain": [
       "True"
      ]
     },
     "execution_count": 8,
     "metadata": {},
     "output_type": "execute_result"
    }
   ],
   "source": [
    "o.remove(2)"
   ]
  },
  {
   "cell_type": "code",
   "execution_count": 9,
   "metadata": {},
   "outputs": [
    {
     "data": {
      "text/plain": [
       "[1, 3]"
      ]
     },
     "execution_count": 9,
     "metadata": {},
     "output_type": "execute_result"
    }
   ],
   "source": [
    "o.collection"
   ]
  },
  {
   "cell_type": "code",
   "execution_count": 13,
   "metadata": {},
   "outputs": [
    {
     "data": {
      "text/plain": [
       "1"
      ]
     },
     "execution_count": 13,
     "metadata": {},
     "output_type": "execute_result"
    }
   ],
   "source": [
    "o.getRandom()"
   ]
  },
  {
   "cell_type": "code",
   "execution_count": 88,
   "metadata": {},
   "outputs": [],
   "source": [
    "a = set()"
   ]
  },
  {
   "cell_type": "code",
   "execution_count": 92,
   "metadata": {},
   "outputs": [],
   "source": [
    "a.add(1)"
   ]
  },
  {
   "cell_type": "code",
   "execution_count": 93,
   "metadata": {},
   "outputs": [
    {
     "data": {
      "text/plain": [
       "False"
      ]
     },
     "execution_count": 93,
     "metadata": {},
     "output_type": "execute_result"
    }
   ],
   "source": [
    "a == set()\n",
    "    "
   ]
  },
  {
   "cell_type": "code",
   "execution_count": null,
   "metadata": {},
   "outputs": [],
   "source": []
  }
 ],
 "metadata": {
  "kernelspec": {
   "display_name": "Python 3",
   "language": "python",
   "name": "python3"
  },
  "language_info": {
   "codemirror_mode": {
    "name": "ipython",
    "version": 3
   },
   "file_extension": ".py",
   "mimetype": "text/x-python",
   "name": "python",
   "nbconvert_exporter": "python",
   "pygments_lexer": "ipython3",
   "version": "3.7.7"
  }
 },
 "nbformat": 4,
 "nbformat_minor": 2
}
