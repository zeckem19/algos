{
 "cells": [
  {
   "cell_type": "markdown",
   "metadata": {},
   "source": [
    "https://leetcode.com/problems/lfu-cache/"
   ]
  },
  {
   "cell_type": "markdown",
   "metadata": {},
   "source": [
    "Design and implement a data structure for Least Frequently Used (LFU) cache.\n",
    "\n",
    "Implement the LFUCache class:\n",
    "\n",
    "LFUCache(int capacity) Initializes the object with the capacity of the data structure.\n",
    "int get(int key) Gets the value of the key if the key exists in the cache. Otherwise, returns -1.\n",
    "void put(int key, int value) Sets or inserts the value if the key is not already present. When the cache reaches its capacity, it should invalidate the least frequently used item before inserting a new item. For this problem, when there is a tie (i.e., two or more keys with the same frequency), the least recently used key would be evicted.\n",
    "Notice that the number of times an item is used is the number of calls to the get and put functions for that item since it was inserted. This number is set to zero when the item is removed.\n",
    "\n",
    " \n",
    "\n",
    "Example 1:\n",
    "\n",
    "Input\n",
    "[\"LFUCache\", \"put\", \"put\", \"get\", \"put\", \"get\", \"get\", \"put\", \"get\", \"get\", \"get\"]\n",
    "[[2], [1, 1], [2, 2], [1], [3, 3], [2], [3], [4, 4], [1], [3], [4]]\n",
    "Output\n",
    "[null, null, null, 1, null, -1, 3, null, -1, 3, 4]\n",
    "\n",
    "Explanation\n",
    "LFUCache lfu = new LFUCache(2);\n",
    "lfu.put(1, 1);\n",
    "lfu.put(2, 2);\n",
    "lfu.get(1);      // return 1\n",
    "lfu.put(3, 3);   // evicts key 2\n",
    "lfu.get(2);      // return -1 (not found)\n",
    "lfu.get(3);      // return 3\n",
    "lfu.put(4, 4);   // evicts key 1.\n",
    "lfu.get(1);      // return -1 (not found)\n",
    "lfu.get(3);      // return 3\n",
    "lfu.get(4);      // return 4"
   ]
  },
  {
   "cell_type": "code",
   "execution_count": null,
   "metadata": {},
   "outputs": [],
   "source": [
    "class LFUCache:\n",
    "\n",
    "    def __init__(self, capacity: int):\n",
    "        \n",
    "\n",
    "    def get(self, key: int) -> int:\n",
    "        \n",
    "\n",
    "    def put(self, key: int, value: int) -> None:\n",
    "        \n",
    "\n",
    "\n",
    "# Your LFUCache object will be instantiated and called as such:\n",
    "# obj = LFUCache(capacity)\n",
    "# param_1 = obj.get(key)\n",
    "# obj.put(key,value)"
   ]
  }
 ],
 "metadata": {
  "kernelspec": {
   "display_name": "Python 3",
   "language": "python",
   "name": "python3"
  },
  "language_info": {
   "codemirror_mode": {
    "name": "ipython",
    "version": 3
   },
   "file_extension": ".py",
   "mimetype": "text/x-python",
   "name": "python",
   "nbconvert_exporter": "python",
   "pygments_lexer": "ipython3",
   "version": "3.7.7"
  }
 },
 "nbformat": 4,
 "nbformat_minor": 2
}
