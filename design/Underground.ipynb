{
 "cells": [
  {
   "cell_type": "markdown",
   "metadata": {},
   "source": [
    "https://leetcode.com/problems/design-underground-system/"
   ]
  },
  {
   "cell_type": "raw",
   "metadata": {},
   "source": [
    "Implement the class UndergroundSystem that supports three methods:\n",
    "\n",
    "1. checkIn(int id, string stationName, int t)\n",
    "\n",
    "A customer with id card equal to id, gets in the station stationName at time t.\n",
    "A customer can only be checked into one place at a time.\n",
    "2. checkOut(int id, string stationName, int t)\n",
    "\n",
    "A customer with id card equal to id, gets out from the station stationName at time t.\n",
    "3. getAverageTime(string startStation, string endStation) \n",
    "\n",
    "Returns the average time to travel between the startStation and the endStation.\n",
    "The average time is computed from all the previous traveling from startStation to endStation that happened directly.\n",
    "Call to getAverageTime is always valid.\n",
    "You can assume all calls to checkIn and checkOut methods are consistent. That is, if a customer gets in at time t1 at some station, then it gets out at time t2 with t2 > t1. All events happen in chronological order.\n",
    "\n",
    " \n",
    "\n",
    "Example 1:\n",
    "\n",
    "Input\n",
    "[\"UndergroundSystem\",\"checkIn\",\"checkIn\",\"checkIn\",\"checkOut\",\"checkOut\",\"checkOut\",\"getAverageTime\",\"getAverageTime\",\"checkIn\",\"getAverageTime\",\"checkOut\",\"getAverageTime\"]\n",
    "[[],[45,\"Leyton\",3],[32,\"Paradise\",8],[27,\"Leyton\",10],[45,\"Waterloo\",15],[27,\"Waterloo\",20],[32,\"Cambridge\",22],[\"Paradise\",\"Cambridge\"],[\"Leyton\",\"Waterloo\"],[10,\"Leyton\",24],[\"Leyton\",\"Waterloo\"],[10,\"Waterloo\",38],[\"Leyton\",\"Waterloo\"]]\n",
    "\n",
    "Output\n",
    "[null,null,null,null,null,null,null,14.00000,11.00000,null,11.00000,null,12.00000]\n",
    "\n",
    "Explanation\n",
    "UndergroundSystem undergroundSystem = new UndergroundSystem();\n",
    "undergroundSystem.checkIn(45, \"Leyton\", 3);\n",
    "undergroundSystem.checkIn(32, \"Paradise\", 8);\n",
    "undergroundSystem.checkIn(27, \"Leyton\", 10);\n",
    "undergroundSystem.checkOut(45, \"Waterloo\", 15);\n",
    "undergroundSystem.checkOut(27, \"Waterloo\", 20);\n",
    "undergroundSystem.checkOut(32, \"Cambridge\", 22);\n",
    "undergroundSystem.getAverageTime(\"Paradise\", \"Cambridge\");       // return 14.00000. There was only one travel from \"Paradise\" (at time 8) to \"Cambridge\" (at time 22)\n",
    "\n",
    "undergroundSystem.getAverageTime(\"Leyton\", \"Waterloo\");          // return 11.00000. There were two travels from \"Leyton\" to \"Waterloo\", a customer with id=45 from time=3 to time=15 and a customer with id=27 from time=10 to time=20.\n",
    "\n",
    "So the average time is ( (15-3) + (20-10) ) / 2 = 11.00000\n",
    "undergroundSystem.checkIn(10, \"Leyton\", 24);\n",
    "undergroundSystem.getAverageTime(\"Leyton\", \"Waterloo\");          // return 11.00000\n",
    "\n",
    "undergroundSystem.checkOut(10, \"Waterloo\", 38);\n",
    "undergroundSystem.getAverageTime(\"Leyton\", \"Waterloo\");          // return 12.00000"
   ]
  },
  {
   "cell_type": "markdown",
   "metadata": {},
   "source": [
    "https://leetcode.com/problems/design-underground-system/"
   ]
  },
  {
   "cell_type": "code",
   "execution_count": 1,
   "metadata": {},
   "outputs": [],
   "source": [
    "class UndergroundSystem:\n",
    "    def __init__(self):\n",
    "        self.travel_time = {}\n",
    "        self.check_ins = {}\n",
    "\n",
    "    def checkIn(self, id: int, stationName: str, t: int) -> None:\n",
    "        self.check_ins[id] = (stationName, t)\n",
    "\n",
    "    def checkOut(self, id: int, stationName: str, t: int) -> None:\n",
    "        start_s = self.check_ins[id][0]\n",
    "        start_t = self.check_ins[id][1]\n",
    "        combined_t = t - start_t\n",
    "        combined_s = f'{start_s}_{stationName}'\n",
    "        if combined_s in self.travel_time:\n",
    "            new_avg = ((self.travel_time[combined_s][0]*self.travel_time[combined_s][1])\\\n",
    "                        + combined_t) / (self.travel_time[combined_s][1]+1)\n",
    "            self.travel_time[combined_s] = [new_avg, self.travel_time[combined_s][1]+1]\n",
    "        else:\n",
    "            self.travel_time[combined_s] = [combined_t, 1]\n",
    "\n",
    "    def getAverageTime(self, startStation: str, endStation: str) -> float:\n",
    "        combined_s = f'{startStation}_{endStation}'\n",
    "        return self.travel_time[combined_s][0]\n",
    "\n",
    "# Your UndergroundSystem object will be instantiated and called as such:\n",
    "# obj = UndergroundSystem()\n",
    "# obj.checkIn(id,stationName,t)\n",
    "# obj.checkOut(id,stationName,t)\n",
    "# param_3 = obj.getAverageTime(startStation,endStation)"
   ]
  },
  {
   "cell_type": "code",
   "execution_count": 7,
   "metadata": {},
   "outputs": [],
   "source": [
    "undergroundSystem = UndergroundSystem();\n",
    "undergroundSystem.checkIn(45, \"Leyton\", 3);\n",
    "undergroundSystem.checkIn(32, \"Paradise\", 8);\n",
    "undergroundSystem.checkIn(27, \"Leyton\", 10);\n",
    "undergroundSystem.checkOut(45, \"Waterloo\", 15);\n",
    "undergroundSystem.checkOut(27, \"Waterloo\", 20);\n",
    "undergroundSystem.checkOut(32, \"Cambridge\", 22);\n"
   ]
  },
  {
   "cell_type": "code",
   "execution_count": 8,
   "metadata": {},
   "outputs": [],
   "source": [
    "undergroundSystem.checkIn(3, \"Paradise\", 25);"
   ]
  },
  {
   "cell_type": "code",
   "execution_count": 9,
   "metadata": {},
   "outputs": [],
   "source": [
    "undergroundSystem.checkOut(3, \"Cambridge\", 50);"
   ]
  },
  {
   "cell_type": "code",
   "execution_count": 10,
   "metadata": {},
   "outputs": [
    {
     "name": "stdout",
     "output_type": "stream",
     "text": [
      "19.5\n"
     ]
    }
   ],
   "source": [
    "print(undergroundSystem.getAverageTime(\"Paradise\", \"Cambridge\"))"
   ]
  },
  {
   "cell_type": "code",
   "execution_count": null,
   "metadata": {},
   "outputs": [],
   "source": []
  }
 ],
 "metadata": {
  "kernelspec": {
   "display_name": "Python 3",
   "language": "python",
   "name": "python3"
  },
  "language_info": {
   "codemirror_mode": {
    "name": "ipython",
    "version": 3
   },
   "file_extension": ".py",
   "mimetype": "text/x-python",
   "name": "python",
   "nbconvert_exporter": "python",
   "pygments_lexer": "ipython3",
   "version": "3.6.9"
  }
 },
 "nbformat": 4,
 "nbformat_minor": 2
}
