{
 "cells": [
  {
   "cell_type": "markdown",
   "metadata": {},
   "source": [
    "https://leetcode.com/problems/design-underground-system/"
   ]
  },
  {
   "cell_type": "markdown",
   "metadata": {},
   "source": [
    "Implement the class UndergroundSystem that supports three methods:\n",
    "\n",
    "1. checkIn(int id, string stationName, int t)\n",
    "\n",
    "A customer with id card equal to id, gets in the station stationName at time t.\n",
    "A customer can only be checked into one place at a time.\n",
    "2. checkOut(int id, string stationName, int t)\n",
    "\n",
    "A customer with id card equal to id, gets out from the station stationName at time t.\n",
    "3. getAverageTime(string startStation, string endStation) \n",
    "\n",
    "Returns the average time to travel between the startStation and the endStation.\n",
    "The average time is computed from all the previous traveling from startStation to endStation that happened directly.\n",
    "Call to getAverageTime is always valid.\n",
    "You can assume all calls to checkIn and checkOut methods are consistent. That is, if a customer gets in at time t1 at some station, then it gets out at time t2 with t2 > t1. All events happen in chronological order.\n",
    "\n",
    " \n",
    "\n",
    "Example 1:\n",
    "\n",
    "Input\n",
    "[\"UndergroundSystem\",\"checkIn\",\"checkIn\",\"checkIn\",\"checkOut\",\"checkOut\",\"checkOut\",\"getAverageTime\",\"getAverageTime\",\"checkIn\",\"getAverageTime\",\"checkOut\",\"getAverageTime\"]\n",
    "[[],[45,\"Leyton\",3],[32,\"Paradise\",8],[27,\"Leyton\",10],[45,\"Waterloo\",15],[27,\"Waterloo\",20],[32,\"Cambridge\",22],[\"Paradise\",\"Cambridge\"],[\"Leyton\",\"Waterloo\"],[10,\"Leyton\",24],[\"Leyton\",\"Waterloo\"],[10,\"Waterloo\",38],[\"Leyton\",\"Waterloo\"]]\n",
    "\n",
    "Output\n",
    "[null,null,null,null,null,null,null,14.00000,11.00000,null,11.00000,null,12.00000]\n",
    "\n",
    "Explanation\n",
    "UndergroundSystem undergroundSystem = new UndergroundSystem();\n",
    "undergroundSystem.checkIn(45, \"Leyton\", 3);\n",
    "undergroundSystem.checkIn(32, \"Paradise\", 8);\n",
    "undergroundSystem.checkIn(27, \"Leyton\", 10);\n",
    "undergroundSystem.checkOut(45, \"Waterloo\", 15);\n",
    "undergroundSystem.checkOut(27, \"Waterloo\", 20);\n",
    "undergroundSystem.checkOut(32, \"Cambridge\", 22);\n",
    "undergroundSystem.getAverageTime(\"Paradise\", \"Cambridge\");       // return 14.00000. There was only one travel from \"Paradise\" (at time 8) to \"Cambridge\" (at time 22)\n",
    "undergroundSystem.getAverageTime(\"Leyton\", \"Waterloo\");          // return 11.00000. There were two travels from \"Leyton\" to \"Waterloo\", a customer with id=45 from time=3 to time=15 and a customer with id=27 from time=10 to time=20. So the average time is ( (15-3) + (20-10) ) / 2 = 11.00000\n",
    "undergroundSystem.checkIn(10, \"Leyton\", 24);\n",
    "undergroundSystem.getAverageTime(\"Leyton\", \"Waterloo\");          // return 11.00000\n",
    "undergroundSystem.checkOut(10, \"Waterloo\", 38);\n",
    "undergroundSystem.getAverageTime(\"Leyton\", \"Waterloo\");          // return 12.00000"
   ]
  },
  {
   "cell_type": "markdown",
   "metadata": {},
   "source": [
    "https://leetcode.com/problems/design-underground-system/"
   ]
  },
  {
   "cell_type": "code",
   "execution_count": null,
   "metadata": {},
   "outputs": [],
   "source": [
    "class UndergroundSystem:\n",
    "\n",
    "    def __init__(self):\n",
    "        \n",
    "\n",
    "    def checkIn(self, id: int, stationName: str, t: int) -> None:\n",
    "        \n",
    "\n",
    "    def checkOut(self, id: int, stationName: str, t: int) -> None:\n",
    "        \n",
    "\n",
    "    def getAverageTime(self, startStation: str, endStation: str) -> float:\n",
    "        \n",
    "\n",
    "\n",
    "# Your UndergroundSystem object will be instantiated and called as such:\n",
    "# obj = UndergroundSystem()\n",
    "# obj.checkIn(id,stationName,t)\n",
    "# obj.checkOut(id,stationName,t)\n",
    "# param_3 = obj.getAverageTime(startStation,endStation)"
   ]
  }
 ],
 "metadata": {
  "kernelspec": {
   "display_name": "Python 3",
   "language": "python",
   "name": "python3"
  },
  "language_info": {
   "codemirror_mode": {
    "name": "ipython",
    "version": 3
   },
   "file_extension": ".py",
   "mimetype": "text/x-python",
   "name": "python",
   "nbconvert_exporter": "python",
   "pygments_lexer": "ipython3",
   "version": "3.7.7"
  }
 },
 "nbformat": 4,
 "nbformat_minor": 2
}
