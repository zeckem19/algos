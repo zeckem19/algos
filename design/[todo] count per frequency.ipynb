{
 "cells": [
  {
   "cell_type": "code",
   "execution_count": null,
   "metadata": {},
   "outputs": [],
   "source": [
    "https://leetcode.com/problems/tweet-counts-per-frequency/"
   ]
  },
  {
   "cell_type": "markdown",
   "metadata": {},
   "source": [
    "Implement the class TweetCounts that supports two methods:\n",
    "\n",
    "1. recordTweet(string tweetName, int time)\n",
    "\n",
    "Stores the tweetName at the recorded time (in seconds).\n",
    "2. getTweetCountsPerFrequency(string freq, string tweetName, int startTime, int endTime)\n",
    "\n",
    "Returns the total number of occurrences for the given tweetName per minute, hour, or day (depending on freq) starting from the startTime (in seconds) and ending at the endTime (in seconds).\n",
    "freq is always minute, hour or day, representing the time interval to get the total number of occurrences for the given tweetName.\n",
    "The first time interval always starts from the startTime, so the time intervals are [startTime, startTime + delta*1>,  [startTime + delta*1, startTime + delta*2>, [startTime + delta*2, startTime + delta*3>, ... , [startTime + delta*i, min(startTime + delta*(i+1), endTime + 1)> for some non-negative number i and delta (which depends on freq).  \n",
    " \n",
    "\n",
    "Example:\n",
    "\n",
    "Input\n",
    "[\"TweetCounts\",\"recordTweet\",\"recordTweet\",\"recordTweet\",\"getTweetCountsPerFrequency\",\"getTweetCountsPerFrequency\",\"recordTweet\",\"getTweetCountsPerFrequency\"]\n",
    "[[],[\"tweet3\",0],[\"tweet3\",60],[\"tweet3\",10],[\"minute\",\"tweet3\",0,59],[\"minute\",\"tweet3\",0,60],[\"tweet3\",120],[\"hour\",\"tweet3\",0,210]]\n",
    "\n",
    "Output\n",
    "[null,null,null,null,[2],[2,1],null,[4]]\n",
    "\n",
    "Explanation\n",
    "TweetCounts tweetCounts = new TweetCounts();\n",
    "tweetCounts.recordTweet(\"tweet3\", 0);\n",
    "tweetCounts.recordTweet(\"tweet3\", 60);\n",
    "tweetCounts.recordTweet(\"tweet3\", 10);                             // All tweets correspond to \"tweet3\" with recorded times at 0, 10 and 60.\n",
    "tweetCounts.getTweetCountsPerFrequency(\"minute\", \"tweet3\", 0, 59); // return [2]. The frequency is per minute (60 seconds), so there is one interval of time: 1) [0, 60> - > 2 tweets.\n",
    "tweetCounts.getTweetCountsPerFrequency(\"minute\", \"tweet3\", 0, 60); // return [2, 1]. The frequency is per minute (60 seconds), so there are two intervals of time: 1) [0, 60> - > 2 tweets, and 2) [60,61> - > 1 tweet.\n",
    "tweetCounts.recordTweet(\"tweet3\", 120);                            // All tweets correspond to \"tweet3\" with recorded times at 0, 10, 60 and 120.\n",
    "tweetCounts.getTweetCountsPerFrequency(\"hour\", \"tweet3\", 0, 210);  // return [4]. The frequency is per hour (3600 seconds), so there is one interval of time: 1) [0, 211> - > 4 tweets."
   ]
  },
  {
   "cell_type": "code",
   "execution_count": null,
   "metadata": {},
   "outputs": [],
   "source": [
    "class TweetCounts:\n",
    "\n",
    "    def __init__(self):\n",
    "        \n",
    "\n",
    "    def recordTweet(self, tweetName: str, time: int) -> None:\n",
    "        \n",
    "\n",
    "    def getTweetCountsPerFrequency(self, freq: str, tweetName: str, startTime: int, endTime: int) -> List[int]:\n",
    "        \n",
    "\n",
    "\n",
    "# Your TweetCounts object will be instantiated and called as such:\n",
    "# obj = TweetCounts()\n",
    "# obj.recordTweet(tweetName,time)\n",
    "# param_2 = obj.getTweetCountsPerFrequency(freq,tweetName,startTime,endTime)"
   ]
  }
 ],
 "metadata": {
  "kernelspec": {
   "display_name": "Python 3",
   "language": "python",
   "name": "python3"
  },
  "language_info": {
   "codemirror_mode": {
    "name": "ipython",
    "version": 3
   },
   "file_extension": ".py",
   "mimetype": "text/x-python",
   "name": "python",
   "nbconvert_exporter": "python",
   "pygments_lexer": "ipython3",
   "version": "3.7.7"
  }
 },
 "nbformat": 4,
 "nbformat_minor": 2
}
