{
 "cells": [
  {
   "cell_type": "markdown",
   "metadata": {},
   "source": [
    "https://leetcode.com/problems/dinner-plate-stacks/"
   ]
  },
  {
   "cell_type": "raw",
   "metadata": {},
   "source": [
    "You have an infinite number of stacks arranged in a row and numbered (left to right) from 0, each of the stacks has the same maximum capacity.\n",
    "\n",
    "Implement the DinnerPlates class:\n",
    "\n",
    "DinnerPlates(int capacity) Initializes the object with the maximum capacity of the stacks.\n",
    "void push(int val) Pushes the given positive integer val into the leftmost stack with size less than capacity.\n",
    "int pop() Returns the value at the top of the rightmost non-empty stack and removes it from that stack, and returns -1 if all stacks are empty.\n",
    "int popAtStack(int index) Returns the value at the top of the stack with the given index and removes it from that stack, and returns -1 if the stack with that given index is empty.\n",
    "Example:\n",
    "\n",
    "Input: \n",
    "[\"DinnerPlates\",\"push\",\"push\",\"push\",\"push\",\"push\",\"popAtStack\",\"push\",\"push\",\"popAtStack\",\"popAtStack\",\"pop\",\"pop\",\"pop\",\"pop\",\"pop\"]\n",
    "[[2],[1],[2],[3],[4],[5],[0],[20],[21],[0],[2],[],[],[],[],[]]\n",
    "Output: \n",
    "[null,null,null,null,null,null,2,null,null,20,21,5,4,3,1,-1]\n",
    "\n",
    "Explanation: \n",
    "DinnerPlates D = DinnerPlates(2);  // Initialize with capacity = 2\n",
    "D.push(1);\n",
    "D.push(2);\n",
    "D.push(3);\n",
    "D.push(4);\n",
    "D.push(5);         // The stacks are now:  2  4\n",
    "                                           1  3  5\n",
    "                                           ﹈ ﹈ ﹈\n",
    "D.popAtStack(0);   // Returns 2.  The stacks are now:     4\n",
    "                                                       1  3  5\n",
    "                                                       ﹈ ﹈ ﹈\n",
    "D.push(20);        // The stacks are now: 20  4\n",
    "                                           1  3  5\n",
    "                                           ﹈ ﹈ ﹈\n",
    "D.push(21);        // The stacks are now: 20  4 21\n",
    "                                           1  3  5\n",
    "                                           ﹈ ﹈ ﹈\n",
    "D.popAtStack(0);   // Returns 20.  The stacks are now:     4 21\n",
    "                                                        1  3  5\n",
    "                                                        ﹈ ﹈ ﹈\n",
    "D.popAtStack(2);   // Returns 21.  The stacks are now:     4\n",
    "                                                        1  3  5\n",
    "                                                        ﹈ ﹈ ﹈ \n",
    "D.pop()            // Returns 5.  The stacks are now:      4\n",
    "                                                        1  3 \n",
    "                                                        ﹈ ﹈  \n",
    "D.pop()            // Returns 4.  The stacks are now:   1  3 \n",
    "                                                        ﹈ ﹈   \n",
    "D.pop()            // Returns 3.  The stacks are now:   1 \n",
    "                                                        ﹈   \n",
    "D.pop()            // Returns 1.  There are no stacks.\n",
    "D.pop()            // Returns -1.  There are still no stacks.\n",
    "\n",
    "Constraints:\n",
    "\n",
    "1 <= capacity <= 20000\n",
    "1 <= val <= 20000\n",
    "0 <= index <= 100000\n",
    "At most 200000 calls will be made to push, pop, and popAtStack."
   ]
  },
  {
   "cell_type": "code",
   "execution_count": null,
   "metadata": {},
   "outputs": [],
   "source": [
    "\n",
    "[\"DinnerPlates\",\"push\",\"push\",\"popAtStack\",\"pop\",\"push\",\"push\",\"pop\",\"pop\"]\n",
    "[[1],[1],[2],[1],[],[1],[2],[],[]]"
   ]
  },
  {
   "cell_type": "code",
   "execution_count": 10,
   "metadata": {},
   "outputs": [],
   "source": [
    "import heapq"
   ]
  },
  {
   "cell_type": "code",
   "execution_count": 65,
   "metadata": {},
   "outputs": [],
   "source": [
    "class DinnerPlates:\n",
    "\n",
    "    def __init__(self, capacity: int):\n",
    "        '''\n",
    "        Initial approach:\n",
    "         1. List of stacks\n",
    "             i. when a stack is full, add to next stack\n",
    "         2. Optimised push: Keep minheap of empty slots\n",
    "             i. when a popatstack happens push empty slot onto min heap\n",
    "             ii. when pushing, push onto heap.pop\n",
    "        '''\n",
    "        self.plates = [[]]\n",
    "        self.track_empty = [] \n",
    "#         self.stack_template = [None for _ in range(capacity)]\n",
    "        self.cap = capacity\n",
    "    \n",
    "    def push(self, val: int) -> None:\n",
    "        '''\n",
    "        1. Try to get new position from min heap (which tracks empty slots)\n",
    "        2. If min heap is empty, need to create new position on the right\n",
    "            a. If cur stack is not full, append to stack\n",
    "            b. If cur stack is full, create a new stack and append to it\n",
    "        '''\n",
    "        if self.track_empty:\n",
    "            position = heapq.heappop(self.track_empty)\n",
    "            if position < len(self.plates):\n",
    "                self.plates[position].append(val)\n",
    "            else:\n",
    "                self.track_empty = []\n",
    "                self.push(val)\n",
    "        elif len(self.plates[-1]) < self.cap:\n",
    "            self.plates[-1].append(val)\n",
    "        else:\n",
    "            self.plates.append([val])\n",
    "        \n",
    "    def pop(self) -> int:\n",
    "        '''\n",
    "        1. Attempt to pop from rightmost `plates[-1][-1]` \n",
    "        2. if len(plates[-1]) == 0 after pop, delete the stack\n",
    "        3. otherwise, push index of stack to min heap\n",
    "        '''\n",
    "        while True:\n",
    "            if len(self.plates) == 0:\n",
    "                return -1\n",
    "            elif len(self.plates[-1]) > 0:\n",
    "                val = self.plates[-1].pop()\n",
    "                return val\n",
    "            elif len(self.plates[-1]) == 0:\n",
    "                self.plates.pop()\n",
    "\n",
    "\n",
    "    def popAtStack(self, index: int) -> int:\n",
    "        '''\n",
    "        1. attempt to pop from index, if empty, return -1\n",
    "        2. if exist, add index to minheap.\n",
    "        '''\n",
    "        if index >= len(self.plates):\n",
    "            return -1\n",
    "        \n",
    "        if len(self.plates[index]) == 0 :\n",
    "            return -1\n",
    "        else:\n",
    "            val = self.plates[index].pop()\n",
    "            heapq.heappush(self.track_empty, index)\n",
    "            return val\n",
    "\n",
    "        \n",
    "# Your DinnerPlates object will be instantiated and called as such:\n",
    "# obj = DinnerPlates(capacity)\n",
    "# obj.push(val)\n",
    "# param_2 = obj.pop()\n",
    "# param_3 = obj.popAtStack(index)"
   ]
  },
  {
   "cell_type": "code",
   "execution_count": 69,
   "metadata": {},
   "outputs": [],
   "source": [
    "D = DinnerPlates(1)"
   ]
  },
  {
   "cell_type": "code",
   "execution_count": 70,
   "metadata": {},
   "outputs": [],
   "source": [
    "D.push(1);\n",
    "D.push(2);\n",
    "D.push(3);\n",
    "D.push(4);\n",
    "D.push(5);\n",
    "D.push(6)\n",
    "D.push(7)"
   ]
  },
  {
   "cell_type": "code",
   "execution_count": 71,
   "metadata": {},
   "outputs": [
    {
     "data": {
      "text/plain": [
       "6"
      ]
     },
     "execution_count": 71,
     "metadata": {},
     "output_type": "execute_result"
    }
   ],
   "source": [
    "D.popAtStack(5)"
   ]
  },
  {
   "cell_type": "code",
   "execution_count": 76,
   "metadata": {},
   "outputs": [],
   "source": [
    "D.push(10)"
   ]
  },
  {
   "cell_type": "code",
   "execution_count": 78,
   "metadata": {},
   "outputs": [
    {
     "data": {
      "text/plain": [
       "10"
      ]
     },
     "execution_count": 78,
     "metadata": {},
     "output_type": "execute_result"
    }
   ],
   "source": [
    "D.pop()"
   ]
  }
 ],
 "metadata": {
  "kernelspec": {
   "display_name": "Python 3",
   "language": "python",
   "name": "python3"
  },
  "language_info": {
   "codemirror_mode": {
    "name": "ipython",
    "version": 3
   },
   "file_extension": ".py",
   "mimetype": "text/x-python",
   "name": "python",
   "nbconvert_exporter": "python",
   "pygments_lexer": "ipython3",
   "version": "3.6.9"
  }
 },
 "nbformat": 4,
 "nbformat_minor": 2
}
