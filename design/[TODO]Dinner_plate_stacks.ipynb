{
 "cells": [
  {
   "cell_type": "markdown",
   "metadata": {},
   "source": [
    "https://leetcode.com/problems/dinner-plate-stacks/"
   ]
  },
  {
   "cell_type": "markdown",
   "metadata": {},
   "source": [
    "You have an infinite number of stacks arranged in a row and numbered (left to right) from 0, each of the stacks has the same maximum capacity.\n",
    "\n",
    "Implement the DinnerPlates class:\n",
    "\n",
    "DinnerPlates(int capacity) Initializes the object with the maximum capacity of the stacks.\n",
    "void push(int val) Pushes the given positive integer val into the leftmost stack with size less than capacity.\n",
    "int pop() Returns the value at the top of the rightmost non-empty stack and removes it from that stack, and returns -1 if all stacks are empty.\n",
    "int popAtStack(int index) Returns the value at the top of the stack with the given index and removes it from that stack, and returns -1 if the stack with that given index is empty.\n",
    "Example:\n",
    "\n",
    "Input: \n",
    "[\"DinnerPlates\",\"push\",\"push\",\"push\",\"push\",\"push\",\"popAtStack\",\"push\",\"push\",\"popAtStack\",\"popAtStack\",\"pop\",\"pop\",\"pop\",\"pop\",\"pop\"]\n",
    "[[2],[1],[2],[3],[4],[5],[0],[20],[21],[0],[2],[],[],[],[],[]]\n",
    "Output: \n",
    "[null,null,null,null,null,null,2,null,null,20,21,5,4,3,1,-1]\n",
    "\n",
    "Explanation: \n",
    "DinnerPlates D = DinnerPlates(2);  // Initialize with capacity = 2\n",
    "D.push(1);\n",
    "D.push(2);\n",
    "D.push(3);\n",
    "D.push(4);\n",
    "D.push(5);         // The stacks are now:  2  4\n",
    "                                           1  3  5\n",
    "                                           ﹈ ﹈ ﹈\n",
    "D.popAtStack(0);   // Returns 2.  The stacks are now:     4\n",
    "                                                       1  3  5\n",
    "                                                       ﹈ ﹈ ﹈\n",
    "D.push(20);        // The stacks are now: 20  4\n",
    "                                           1  3  5\n",
    "                                           ﹈ ﹈ ﹈\n",
    "D.push(21);        // The stacks are now: 20  4 21\n",
    "                                           1  3  5\n",
    "                                           ﹈ ﹈ ﹈\n",
    "D.popAtStack(0);   // Returns 20.  The stacks are now:     4 21\n",
    "                                                        1  3  5\n",
    "                                                        ﹈ ﹈ ﹈\n",
    "D.popAtStack(2);   // Returns 21.  The stacks are now:     4\n",
    "                                                        1  3  5\n",
    "                                                        ﹈ ﹈ ﹈ \n",
    "D.pop()            // Returns 5.  The stacks are now:      4\n",
    "                                                        1  3 \n",
    "                                                        ﹈ ﹈  \n",
    "D.pop()            // Returns 4.  The stacks are now:   1  3 \n",
    "                                                        ﹈ ﹈   \n",
    "D.pop()            // Returns 3.  The stacks are now:   1 \n",
    "                                                        ﹈   \n",
    "D.pop()            // Returns 1.  There are no stacks.\n",
    "D.pop()            // Returns -1.  There are still no stacks.\n",
    "\n",
    "Constraints:\n",
    "\n",
    "1 <= capacity <= 20000\n",
    "1 <= val <= 20000\n",
    "0 <= index <= 100000\n",
    "At most 200000 calls will be made to push, pop, and popAtStack."
   ]
  },
  {
   "cell_type": "code",
   "execution_count": null,
   "metadata": {},
   "outputs": [],
   "source": [
    "class DinnerPlates:\n",
    "\n",
    "    def __init__(self, capacity: int):\n",
    "        \n",
    "\n",
    "    def push(self, val: int) -> None:\n",
    "        \n",
    "\n",
    "    def pop(self) -> int:\n",
    "        \n",
    "\n",
    "    def popAtStack(self, index: int) -> int:\n",
    "        \n",
    "\n",
    "\n",
    "# Your DinnerPlates object will be instantiated and called as such:\n",
    "# obj = DinnerPlates(capacity)\n",
    "# obj.push(val)\n",
    "# param_2 = obj.pop()\n",
    "# param_3 = obj.popAtStack(index)"
   ]
  }
 ],
 "metadata": {
  "kernelspec": {
   "display_name": "Python 3",
   "language": "python",
   "name": "python3"
  },
  "language_info": {
   "codemirror_mode": {
    "name": "ipython",
    "version": 3
   },
   "file_extension": ".py",
   "mimetype": "text/x-python",
   "name": "python",
   "nbconvert_exporter": "python",
   "pygments_lexer": "ipython3",
   "version": "3.7.7"
  }
 },
 "nbformat": 4,
 "nbformat_minor": 2
}
