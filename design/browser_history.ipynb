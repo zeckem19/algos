{
 "cells": [
  {
   "cell_type": "markdown",
   "metadata": {},
   "source": [
    "You have a browser of one tab where you start on the homepage and you can visit another url, get back in the history number of steps or move forward in the history number of steps.\n",
    "\n",
    "Implement the BrowserHistory class:\n",
    "\n",
    "BrowserHistory(string homepage) Initializes the object with the homepage of the browser.\n",
    "\n",
    "void visit(string url) Visits url from the current page. It clears up all the forward history.\n",
    "\n",
    "string back(int steps) Move steps back in history. If you can only return x steps in the history and steps > x, you will return only x steps. Return the current url after moving back in history at most  'steps'.\n",
    "\n",
    "string forward(int steps) Move 'steps' forward in history. If you can only forward x steps in the history and steps > x, you will forward only x steps. Return the current url after forwarding in history at most steps.\n",
    " \n",
    "\n",
    "Example:\n",
    "\n",
    "Input:\n",
    "[\"BrowserHistory\",\"visit\",\"visit\",\"visit\",\"back\",\"back\",\"forward\",\"visit\",\"forward\",\"back\",\"back\"]\n",
    "[[\"leetcode.com\"],[\"google.com\"],[\"facebook.com\"],[\"youtube.com\"],[1],[1],[1],[\"linkedin.com\"],[2],[2],[7]]\n",
    "Output:\n",
    "[null,null,null,null,\"facebook.com\",\"google.com\",\"facebook.com\",null,\"linkedin.com\",\"google.com\",\"leetcode.com\"]\n",
    "\n",
    "Explanation:\n",
    "BrowserHistory browserHistory = new BrowserHistory(\"leetcode.com\");\n",
    "browserHistory.visit(\"google.com\");       // You are in \"leetcode.com\". Visit \"google.com\"\n",
    "browserHistory.visit(\"facebook.com\");     // You are in \"google.com\". Visit \"facebook.com\"\n",
    "browserHistory.visit(\"youtube.com\");      // You are in \"facebook.com\". Visit \"youtube.com\"\n",
    "browserHistory.back(1);                   // You are in \"youtube.com\", move back to \"facebook.com\" return \"facebook.com\"\n",
    "browserHistory.back(1);                   // You are in \"facebook.com\", move back to \"google.com\" return \"google.com\"\n",
    "browserHistory.forward(1);                // You are in \"google.com\", move forward to \"facebook.com\" return \"facebook.com\"\n",
    "browserHistory.visit(\"linkedin.com\");     // You are in \"facebook.com\". Visit \"linkedin.com\"\n",
    "browserHistory.forward(2);                // You are in \"linkedin.com\", you cannot move forward any steps.\n",
    "browserHistory.back(2);                   // You are in \"linkedin.com\", move back two steps to \"facebook.com\" then to \"google.com\". return \"google.com\"\n",
    "browserHistory.back(7);                   // You are in \"google.com\", you can move back only one step to \"leetcode.com\". return \"leetcode.com\"\n",
    " \n",
    "\n",
    "Constraints:\n",
    "\n",
    "1 <= homepage.length <= 20\n",
    "1 <= url.length <= 20\n",
    "1 <= steps <= 100\n",
    "homepage and url consist of  '.' or lower case English letters.\n",
    "At most 5000 calls will be made to visit, back, and forward."
   ]
  },
  {
   "cell_type": "code",
   "execution_count": null,
   "metadata": {},
   "outputs": [],
   "source": [
    "\n",
    "class BrowserHistory:\n",
    "    ''' 1. use a list to store history\n",
    "        2. keep a pointer to point to the current site within array\n",
    "        3. back -> jump back `steps` number with pointer. return item at list index\n",
    "                     -> O(1) since we are accessing array by index\n",
    "        4. visit -> insert to current pointer in list. deletes rest of list that are greater than pointer\n",
    "        \n",
    "    '''\n",
    "    def __init__(self, homepage: str):\n",
    "        self.history = [homepage]\n",
    "        self.pointer = 1\n",
    "        \n",
    "    def visit(self, url: str) -> None:\n",
    "        self.history.insert(self.pointer, url)\n",
    "        self.pointer += 1\n",
    "        if len(self.history) > self.pointer:\n",
    "            self.history = self.history[:self.pointer]\n",
    "        \n",
    "    def back(self, steps: int) -> str:\n",
    "        self.pointer = self.pointer - steps\n",
    "        if self.pointer < 1:\n",
    "            self.pointer = 1\n",
    "        return self.history[self.pointer-1]\n",
    "\n",
    "    def forward(self, steps: int) -> str:\n",
    "        self.pointer = self.pointer + steps\n",
    "        if self.pointer > len(self.history):\n",
    "            self.pointer = len(self.history)\n",
    "        return self.history[self.pointer-1]\n",
    "        \n",
    "\n",
    "\n",
    "# Your BrowserHistory object will be instantiated and called as such:\n",
    "# obj = BrowserHistory(homepage)\n",
    "# obj.visit(url)\n",
    "# param_2 = obj.back(steps)\n",
    "# param_3 = obj.forward(steps)"
   ]
  },
  {
   "cell_type": "code",
   "execution_count": null,
   "metadata": {},
   "outputs": [],
   "source": []
  },
  {
   "cell_type": "code",
   "execution_count": 1,
   "metadata": {},
   "outputs": [],
   "source": [
    "aa = [1,2,3]"
   ]
  },
  {
   "cell_type": "code",
   "execution_count": 10,
   "metadata": {},
   "outputs": [],
   "source": [
    "\n",
    "aa.insert(1, 22222)"
   ]
  },
  {
   "cell_type": "code",
   "execution_count": 13,
   "metadata": {},
   "outputs": [
    {
     "data": {
      "text/plain": [
       "[1, 22222, 2, 3, 4, 4, 4, 8]"
      ]
     },
     "execution_count": 13,
     "metadata": {},
     "output_type": "execute_result"
    }
   ],
   "source": [
    "aa"
   ]
  },
  {
   "cell_type": "code",
   "execution_count": null,
   "metadata": {},
   "outputs": [],
   "source": []
  }
 ],
 "metadata": {
  "kernelspec": {
   "display_name": "Python 3",
   "language": "python",
   "name": "python3"
  },
  "language_info": {
   "codemirror_mode": {
    "name": "ipython",
    "version": 3
   },
   "file_extension": ".py",
   "mimetype": "text/x-python",
   "name": "python",
   "nbconvert_exporter": "python",
   "pygments_lexer": "ipython3",
   "version": "3.6.9"
  }
 },
 "nbformat": 4,
 "nbformat_minor": 2
}
