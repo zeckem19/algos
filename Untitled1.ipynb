{
 "cells": [
  {
   "cell_type": "code",
   "execution_count": 1,
   "metadata": {},
   "outputs": [],
   "source": [
    "import sys"
   ]
  },
  {
   "cell_type": "code",
   "execution_count": 2,
   "metadata": {},
   "outputs": [
    {
     "data": {
      "text/plain": [
       "28"
      ]
     },
     "execution_count": 2,
     "metadata": {},
     "output_type": "execute_result"
    }
   ],
   "source": [
    "\n",
    "sys.getsizeof(9)"
   ]
  },
  {
   "cell_type": "code",
   "execution_count": 10,
   "metadata": {},
   "outputs": [
    {
     "data": {
      "text/plain": [
       "24"
      ]
     },
     "execution_count": 10,
     "metadata": {},
     "output_type": "execute_result"
    }
   ],
   "source": [
    "\n",
    "\n",
    "sys.getsizeof(10e40)"
   ]
  },
  {
   "cell_type": "code",
   "execution_count": 11,
   "metadata": {},
   "outputs": [
    {
     "data": {
      "text/plain": [
       "float"
      ]
     },
     "execution_count": 11,
     "metadata": {},
     "output_type": "execute_result"
    }
   ],
   "source": [
    "type(10e40)"
   ]
  },
  {
   "cell_type": "code",
   "execution_count": 37,
   "metadata": {},
   "outputs": [
    {
     "data": {
      "text/plain": [
       "376"
      ]
     },
     "execution_count": 37,
     "metadata": {},
     "output_type": "execute_result"
    }
   ],
   "source": [
    "\n",
    "sys.getsizeof({1:2,3:4,5:6,2:3,4:8,5555432:'adfasdfamsoifjamsidfnasduvnakhbvdfkshbvksbfdkhvbfhsdbvksafvadsasdvmasdvmsifvndfubvudgbayufhnaleukfnaliuefjuiaenvmiuwvnrilaufjafewailnfaukwnfsdkjvhbakjdhbajkfasjdlkfasdfjasdfdsafsda'+'adfasdfamsoifjamsidfnasduvnakhbvdfkshbvksbfdkhvbfhsdbvksafvadsasdvmasdvmsifvndfubvudgbayufhnaleukfnaliuefjuiaenvmiuwvnrilaufjafewailnfaukwnfsdkjvhbakjdhbajkfasjdlkfasdfjasdfdsafsda'+'adfasdfamsoifjamsidfnasduvnakhbvdfkshbvksbfdkhvbfhsdbvksafvadsasdvmasdvmsifvndfubvudgbayufhnaleukfnaliuefjuiaenvmiuwvnrilaufjafewailnfaukwnfsdkjvhbakjdhbajkfasjdlkfasdfjasdfdsafsda'})"
   ]
  },
  {
   "cell_type": "code",
   "execution_count": 38,
   "metadata": {},
   "outputs": [
    {
     "data": {
      "text/plain": [
       "409"
      ]
     },
     "execution_count": 38,
     "metadata": {},
     "output_type": "execute_result"
    }
   ],
   "source": [
    "sys.getsizeof('adfasdfamsoifjamsidfnasduvnakhbvdfkshbvksbfdkhvbfhsdbvksafvadsasdvmasdvmsifvndfubvudgbayufhnaleukfnaliuefjuiaenvmiuwvnrilaufjafewailnfaukwnfsdkjvhbakjdhbajkfasjdlkfasdfjasdfdsafsda'+'adfasdfamsoifjamsidfnasduvnakhbvdfkshbvksbfdkhvbfhsdbvksafvadsasdvmasdvmsifvndfubvudgbayufhnaleukfnaliuefjuiaenvmiuwvnrilaufjafewailnfaukwnfsdkjvhbakjdhbajkfasjdlkfasdfjasdfdsafsda')"
   ]
  },
  {
   "cell_type": "code",
   "execution_count": 42,
   "metadata": {},
   "outputs": [
    {
     "data": {
      "text/plain": [
       "120"
      ]
     },
     "execution_count": 42,
     "metadata": {},
     "output_type": "execute_result"
    }
   ],
   "source": [
    "sys.getsizeof([1,2,3,4,5,6])"
   ]
  },
  {
   "cell_type": "code",
   "execution_count": 43,
   "metadata": {},
   "outputs": [
    {
     "data": {
      "text/plain": [
       "56"
      ]
     },
     "execution_count": 43,
     "metadata": {},
     "output_type": "execute_result"
    }
   ],
   "source": [
    "sys.getsizeof(())"
   ]
  },
  {
   "cell_type": "code",
   "execution_count": 46,
   "metadata": {},
   "outputs": [
    {
     "data": {
      "text/plain": [
       "53"
      ]
     },
     "execution_count": 46,
     "metadata": {},
     "output_type": "execute_result"
    }
   ],
   "source": [
    "sys.getsizeof('aaaa')"
   ]
  },
  {
   "cell_type": "code",
   "execution_count": null,
   "metadata": {},
   "outputs": [],
   "source": []
  }
 ],
 "metadata": {
  "kernelspec": {
   "display_name": "Python 3",
   "language": "python",
   "name": "python3"
  },
  "language_info": {
   "codemirror_mode": {
    "name": "ipython",
    "version": 3
   },
   "file_extension": ".py",
   "mimetype": "text/x-python",
   "name": "python",
   "nbconvert_exporter": "python",
   "pygments_lexer": "ipython3",
   "version": "3.7.7"
  }
 },
 "nbformat": 4,
 "nbformat_minor": 2
}
