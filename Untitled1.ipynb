{
 "cells": [
  {
   "cell_type": "code",
   "execution_count": 59,
   "metadata": {},
   "outputs": [
    {
     "ename": "IndentationError",
     "evalue": "expected an indented block (<ipython-input-59-0530ee45bfed>, line 17)",
     "output_type": "error",
     "traceback": [
      "\u001b[0;36m  File \u001b[0;32m\"<ipython-input-59-0530ee45bfed>\"\u001b[0;36m, line \u001b[0;32m17\u001b[0m\n\u001b[0;31m    def insert(self, data):\u001b[0m\n\u001b[0m    ^\u001b[0m\n\u001b[0;31mIndentationError\u001b[0m\u001b[0;31m:\u001b[0m expected an indented block\n"
     ]
    }
   ],
   "source": [
    "class Node:\n",
    "    def __init__(self, data, parent):\n",
    "        self.data = data\n",
    "        self.left = None\n",
    "        self.right = None\n",
    "        self.parent = parent\n",
    "\n",
    "class BST:\n",
    "    def __init__(self):\n",
    "        self.root = None\n",
    "        \n",
    "    def find(self,data):\n",
    "        if self.data == data:\n",
    "            return True\n",
    "        \n",
    "        \n",
    "#         if self.root == None: return None\n",
    "        \n",
    "#         ptr = self.root\n",
    "#         while ptr.data != data:\n",
    "#             if ptr.data > data and ptr.right != None:\n",
    "#                 ptr = ptr.right\n",
    "#             if ptr.data < data and ptr.left != None:\n",
    "#                 ptr = ptr.left\n",
    "            \n",
    "    \n",
    "    def insert(self, data):\n",
    "        n = Node(data)\n",
    "        if self.root == None\n",
    "            self.root = n\n",
    "        else:\n",
    "            if data > \n",
    "        "
   ]
  },
  {
   "cell_type": "code",
   "execution_count": null,
   "metadata": {},
   "outputs": [],
   "source": []
  }
 ],
 "metadata": {
  "kernelspec": {
   "display_name": "Python 3",
   "language": "python",
   "name": "python3"
  },
  "language_info": {
   "codemirror_mode": {
    "name": "ipython",
    "version": 3
   },
   "file_extension": ".py",
   "mimetype": "text/x-python",
   "name": "python",
   "nbconvert_exporter": "python",
   "pygments_lexer": "ipython3",
   "version": "3.7.7"
  }
 },
 "nbformat": 4,
 "nbformat_minor": 2
}
