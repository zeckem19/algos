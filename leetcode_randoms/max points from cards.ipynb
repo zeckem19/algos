{
 "cells": [
  {
   "cell_type": "markdown",
   "metadata": {},
   "source": [
    "1423. Maximum Points You Can Obtain from Cards\n",
    "Medium\n",
    "\n",
    "1026\n",
    "\n",
    "47\n",
    "\n",
    "Add to List\n",
    "\n",
    "Share\n",
    "There are several cards arranged in a row, and each card has an associated number of points The points are given in the integer array cardPoints.\n",
    "\n",
    "In one step, you can take one card from the beginning or from the end of the row. You have to take exactly k cards.\n",
    "\n",
    "Your score is the sum of the points of the cards you have taken.\n",
    "\n",
    "Given the integer array cardPoints and the integer k, return the maximum score you can obtain.\n",
    "\n",
    "https://leetcode.com/problems/maximum-points-you-can-obtain-from-cards/"
   ]
  },
  {
   "cell_type": "code",
   "execution_count": 1,
   "metadata": {},
   "outputs": [
    {
     "name": "stdout",
     "output_type": "stream",
     "text": [
      "[5, 4, 3]\n"
     ]
    }
   ],
   "source": [
    "arr = [1,2,3,4,5]\n",
    "k=3\n",
    "print(arr[len(arr)-1:len(arr)-k-1:-1])"
   ]
  },
  {
   "cell_type": "code",
   "execution_count": null,
   "metadata": {},
   "outputs": [],
   "source": [
    "[1,10,6,3,2,2,3,4]\n",
    "\n",
    "[1,4,6,3]\n",
    "[4,3,2,2]"
   ]
  },
  {
   "cell_type": "code",
   "execution_count": null,
   "metadata": {},
   "outputs": [],
   "source": [
    "[1,10,6,3,2,2,3,4]\n",
    "[2,2,3,4,1,10,6,3]"
   ]
  },
  {
   "cell_type": "code",
   "execution_count": null,
   "metadata": {},
   "outputs": [],
   "source": [
    "[10, 12, 15, 14]\n",
    "a = [15, 12, 10, 11]"
   ]
  },
  {
   "cell_type": "code",
   "execution_count": 3,
   "metadata": {},
   "outputs": [],
   "source": [
    "a = [15, 12, 10, 11]"
   ]
  },
  {
   "cell_type": "code",
   "execution_count": 7,
   "metadata": {},
   "outputs": [
    {
     "data": {
      "text/plain": [
       "[15, 12, 10]"
      ]
     },
     "execution_count": 7,
     "metadata": {},
     "output_type": "execute_result"
    }
   ],
   "source": [
    "a[:3]"
   ]
  },
  {
   "cell_type": "code",
   "execution_count": null,
   "metadata": {},
   "outputs": [],
   "source": [
    "[1,2,3,4,5,6,7,8,9,1]  [3,2,1,1,9,8]"
   ]
  },
  {
   "cell_type": "code",
   "execution_count": null,
   "metadata": {},
   "outputs": [],
   "source": [
    "[1,2,3,1,9,8]\n",
    "[1,9,8,1,2,3]"
   ]
  },
  {
   "cell_type": "code",
   "execution_count": null,
   "metadata": {},
   "outputs": [],
   "source": [
    "[1,79,80,1,200,1]"
   ]
  },
  {
   "cell_type": "code",
   "execution_count": 24,
   "metadata": {},
   "outputs": [],
   "source": [
    "class Solution:\n",
    "    def maxScore(self, cardPoints, k: int) -> int:\n",
    "        if len(cardPoints) == k:\n",
    "            return sum(cardPoints)\n",
    "        arr1 = cardPoints[:k]\n",
    "        arr2 = cardPoints[-k:]\n",
    "\n",
    "        arr = arr2+arr1\n",
    "        print(arr)\n",
    "        max_num = sum(arr[0:k])\n",
    "        prev_num = max_num\n",
    "        for i in range(0,len(arr)-k):\n",
    "            curr = prev_num-arr[i]+arr[i+k]\n",
    "            max_num = max(max_num, curr)\n",
    "            prev_num = curr\n",
    "            \n",
    "        return max_num\n",
    "        "
   ]
  },
  {
   "cell_type": "code",
   "execution_count": 25,
   "metadata": {},
   "outputs": [
    {
     "name": "stdout",
     "output_type": "stream",
     "text": [
      "[20, 86, 29, 72, 11, 49, 100, 20]\n",
      "0->4\n",
      "1->5\n",
      "2->6\n",
      "3->7\n"
     ]
    },
    {
     "data": {
      "text/plain": [
       "232"
      ]
     },
     "execution_count": 25,
     "metadata": {},
     "output_type": "execute_result"
    }
   ],
   "source": [
    "s = Solution()\n",
    "s.maxScore([11,49,100,20,86,29,72],4)"
   ]
  },
  {
   "cell_type": "code",
   "execution_count": null,
   "metadata": {},
   "outputs": [],
   "source": []
  }
 ],
 "metadata": {
  "kernelspec": {
   "display_name": "Python 3",
   "language": "python",
   "name": "python3"
  },
  "language_info": {
   "codemirror_mode": {
    "name": "ipython",
    "version": 3
   },
   "file_extension": ".py",
   "mimetype": "text/x-python",
   "name": "python",
   "nbconvert_exporter": "python",
   "pygments_lexer": "ipython3",
   "version": "3.7.7"
  }
 },
 "nbformat": 4,
 "nbformat_minor": 2
}
