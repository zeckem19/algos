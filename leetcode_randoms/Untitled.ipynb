{
 "cells": [
  {
   "cell_type": "markdown",
   "metadata": {},
   "source": [
    "Implement the class TweetCounts that supports two methods:\n",
    "\n",
    "1. recordTweet(string tweetName, int time)\n",
    "\n",
    "Stores the tweetName at the recorded time (in seconds).\n",
    "2. getTweetCountsPerFrequency(string freq, string tweetName, int startTime, int endTime)\n",
    "\n",
    "Returns the total number of occurrences for the given tweetName per minute, hour, or day (depending on freq) starting from the startTime (in seconds) and ending at the endTime (in seconds).\n",
    "freq is always minute, hour or day, representing the time interval to get the total number of occurrences for the given tweetName.\n",
    "The first time interval always starts from the startTime, so the time intervals are [startTime, startTime + delta*1>,  [startTime + delta*1, startTime + delta*2>, [startTime + delta*2, startTime + delta*3>, ... , [startTime + delta*i, min(startTime + delta*(i+1), endTime + 1)> for some non-negative number i and delta (which depends on freq"
   ]
  },
  {
   "cell_type": "code",
   "execution_count": null,
   "metadata": {},
   "outputs": [],
   "source": [
    "class TweetCounts:\n",
    "\n",
    "    def __init__(self):\n",
    "        \n",
    "\n",
    "    def recordTweet(self, tweetName: str, time: int) -> None:\n",
    "        \n",
    "\n",
    "    def getTweetCountsPerFrequency(self, freq: str, tweetName: str, startTime: int, endTime: int) -> List[int]:\n",
    "        \n",
    "\n",
    "\n",
    "# Your TweetCounts object will be instantiated and called as such:\n",
    "# obj = TweetCounts()\n",
    "# obj.recordTweet(tweetName,time)\n",
    "# param_2 = obj.getTweetCountsPerFrequency(freq,tweetName,startTime,endTime)"
   ]
  }
 ],
 "metadata": {
  "kernelspec": {
   "display_name": "Python 3",
   "language": "python",
   "name": "python3"
  },
  "language_info": {
   "codemirror_mode": {
    "name": "ipython",
    "version": 3
   },
   "file_extension": ".py",
   "mimetype": "text/x-python",
   "name": "python",
   "nbconvert_exporter": "python",
   "pygments_lexer": "ipython3",
   "version": "3.7.7"
  }
 },
 "nbformat": 4,
 "nbformat_minor": 2
}
