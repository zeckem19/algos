{
 "cells": [
  {
   "cell_type": "markdown",
   "metadata": {},
   "source": [
    "https://leetcode.com/problems/insert-interval/"
   ]
  },
  {
   "cell_type": "code",
   "execution_count": null,
   "metadata": {},
   "outputs": [],
   "source": [
    "[[2,3],[4,5],[6,7],[8,9],[1,10]]"
   ]
  },
  {
   "cell_type": "code",
   "execution_count": 11,
   "metadata": {},
   "outputs": [],
   "source": [
    "import heapq\n",
    "from typing import List\n",
    "class Solution:\n",
    "    def merge(self, intervals: List[List[int]]) -> List[List[int]]:\n",
    "        result = [[intervals[0][1] - intervals[0][0],intervals[0][0],intervals[0][1]]]\n",
    "        # over lap cases:\n",
    "        # case 1: incoming upper is greater than lower and smaller than upper  \n",
    "        # case 2: if incoming lower is greater than existing lower and smaller than existing upper\n",
    "        # case 3: No overlap- add interval into processed intervals\n",
    "        for ind in range(1, len(intervals)):\n",
    "            print(result)\n",
    "            incoming_upper = intervals[ind][1]\n",
    "            incoming_lower = intervals[ind][0]\n",
    "            print(f'{incoming_lower},{incoming_upper}')\n",
    "            added = False\n",
    "            for result_index, (_, lower, upper) in enumerate(result):\n",
    "                if incoming_upper >= upper and incoming_lower <= lower:\n",
    "                    result[result_index][1] = min(incoming_lower, lower)\n",
    "                    result[result_index][2] = max(incoming_upper, upper)\n",
    "                    added = True\n",
    "                    break\n",
    "                elif incoming_upper >= lower and incoming_upper <= upper:\n",
    "                    #extend range downwards if its lower\n",
    "                    added = True\n",
    "                    result[result_index][1] = min(incoming_lower, lower)\n",
    "                    result[result_index][2] = max(incoming_upper, upper)\n",
    "                    break\n",
    "                elif incoming_lower >= lower and incoming_lower <= upper:\n",
    "                    #extend range upwards\n",
    " \n",
    "                    added = True\n",
    "                    result[result_index][1] = min(incoming_lower, lower)\n",
    "                    result[result_index][2] = max(incoming_upper, upper)\n",
    "                    break\n",
    "                elif incoming_lower > lower and incoming_upper< upper:\n",
    "                    added = True\n",
    "                    break\n",
    "            if not added:\n",
    "                heapq.heappush(result, [incoming_upper-incoming_lower,incoming_lower,incoming_upper])\n",
    "        \n",
    "        #clean up\n",
    "        res2 = []\n",
    "        for i,j,k in result:\n",
    "            res2.append([j,k])\n",
    "        \n",
    "        return sorted(res2)"
   ]
  },
  {
   "cell_type": "code",
   "execution_count": 13,
   "metadata": {},
   "outputs": [
    {
     "name": "stdout",
     "output_type": "stream",
     "text": [
      "[[1, 2, 3]]\n",
      "4,5\n",
      "[[1, 2, 3], [1, 4, 5]]\n",
      "6,7\n",
      "[[1, 2, 3], [1, 4, 5], [1, 6, 7]]\n",
      "8,9\n",
      "[[1, 2, 3], [1, 4, 5], [1, 6, 7], [1, 8, 9]]\n",
      "1,10\n"
     ]
    },
    {
     "data": {
      "text/plain": [
       "[[1, 10], [4, 5], [6, 7], [8, 9]]"
      ]
     },
     "execution_count": 13,
     "metadata": {},
     "output_type": "execute_result"
    }
   ],
   "source": [
    "sol = Solution()\n",
    "sol.merge([[2,3],[4,5],[6,7],[8,9],[1,10]])"
   ]
  },
  {
   "cell_type": "code",
   "execution_count": 2,
   "metadata": {},
   "outputs": [],
   "source": [
    "abc = [1,2,3]\n",
    "\n",
    "for i in abc:\n",
    "    i = 4"
   ]
  },
  {
   "cell_type": "code",
   "execution_count": 3,
   "metadata": {},
   "outputs": [
    {
     "data": {
      "text/plain": [
       "[1, 2, 3]"
      ]
     },
     "execution_count": 3,
     "metadata": {},
     "output_type": "execute_result"
    }
   ],
   "source": [
    "abc"
   ]
  },
  {
   "cell_type": "code",
   "execution_count": 4,
   "metadata": {},
   "outputs": [],
   "source": [
    "abc = [[3,4],[2,3]]"
   ]
  },
  {
   "cell_type": "code",
   "execution_count": 5,
   "metadata": {},
   "outputs": [
    {
     "data": {
      "text/plain": [
       "[[2, 3], [3, 4]]"
      ]
     },
     "execution_count": 5,
     "metadata": {},
     "output_type": "execute_result"
    }
   ],
   "source": [
    "sorted(abc)"
   ]
  },
  {
   "cell_type": "code",
   "execution_count": null,
   "metadata": {},
   "outputs": [],
   "source": []
  },
  {
   "cell_type": "code",
   "execution_count": null,
   "metadata": {},
   "outputs": [],
   "source": []
  },
  {
   "cell_type": "code",
   "execution_count": null,
   "metadata": {},
   "outputs": [],
   "source": []
  },
  {
   "cell_type": "code",
   "execution_count": null,
   "metadata": {},
   "outputs": [],
   "source": [
    "class Solution:\n",
    "    def merge(self, intervals: List[List[int]]) -> List[List[int]]:\n",
    "        result = []\n",
    "        sorted_intervals = sorted(intervals)\n",
    "        for interval in sorted_intervals:\n",
    "            if result and result[-1][0] <= interval[1]\n",
    "                if interval[1]>result[-1][1]:\n",
    "                    result[-1][1] = interval[1]\n",
    "            else:\n",
    "                result.append(interval)\n",
    "        return result"
   ]
  },
  {
   "cell_type": "code",
   "execution_count": 19,
   "metadata": {},
   "outputs": [],
   "source": [
    "from typing import List\n",
    "\n",
    "class Solution:\n",
    "    def insert(self, intervals: List[List[int]], newInterval: List[int]) -> List[List[int]]:\n",
    "        flag = False\n",
    "        result = []\n",
    "        for ind, (lower,upper) in enumerate(intervals):\n",
    "            if not flag:\n",
    "                if lower <= newInterval[0] and upper>= newInterval[0]:\n",
    "                    flag = True\n",
    "                    if newInterval[1] > upper:\n",
    "                        upper = newInterval[1]\n",
    "                    else:\n",
    "                        break\n",
    "                result.append([lower,upper])\n",
    "            else:\n",
    "                print(result)\n",
    "                if lower <= result[-1][1] and upper > result[-1][1]:\n",
    "                    result[-1][1] = upper\n",
    "                if lower <= result[-1][1] and upper <= result[-1][1]:\n",
    "                    continue\n",
    "                else:\n",
    "                    result.append([lower,upper])            \n",
    "        return result"
   ]
  },
  {
   "cell_type": "code",
   "execution_count": 36,
   "metadata": {},
   "outputs": [],
   "source": [
    "so = Solution()"
   ]
  },
  {
   "cell_type": "code",
   "execution_count": 37,
   "metadata": {},
   "outputs": [
    {
     "data": {
      "text/plain": [
       "[[0, 5], [7, 16]]"
      ]
     },
     "execution_count": 37,
     "metadata": {},
     "output_type": "execute_result"
    }
   ],
   "source": [
    "so.insert([[0,5],[9,12]],[7,16])"
   ]
  },
  {
   "cell_type": "code",
   "execution_count": 21,
   "metadata": {},
   "outputs": [
    {
     "name": "stdout",
     "output_type": "stream",
     "text": [
      "[[1, 2], [3, 8]]\n",
      "[[1, 2], [3, 8]]\n",
      "[[1, 2], [3, 10]]\n"
     ]
    },
    {
     "data": {
      "text/plain": [
       "[[1, 2], [3, 10], [12, 16]]"
      ]
     },
     "execution_count": 21,
     "metadata": {},
     "output_type": "execute_result"
    }
   ],
   "source": [
    "so.insert([[1,2],[3,5],[6,7],[8,10],[12,16]],[4,8])"
   ]
  },
  {
   "cell_type": "code",
   "execution_count": null,
   "metadata": {},
   "outputs": [],
   "source": []
  },
  {
   "cell_type": "code",
   "execution_count": 38,
   "metadata": {},
   "outputs": [
    {
     "ename": "IndentationError",
     "evalue": "expected an indented block (<ipython-input-38-baecdd44346e>, line 31)",
     "output_type": "error",
     "traceback": [
      "\u001b[0;36m  File \u001b[0;32m\"<ipython-input-38-baecdd44346e>\"\u001b[0;36m, line \u001b[0;32m31\u001b[0m\n\u001b[0;31m    result.append([lower,upper])\u001b[0m\n\u001b[0m         ^\u001b[0m\n\u001b[0;31mIndentationError\u001b[0m\u001b[0;31m:\u001b[0m expected an indented block\n"
     ]
    }
   ],
   "source": [
    "from typing import List\n",
    "\n",
    "class Solution:\n",
    "    def insert(self, intervals: List[List[int]], newInterval: List[int]) -> List[List[int]]:\n",
    "        flag = False\n",
    "        result = []\n",
    "        if not intervals:\n",
    "            return [newInterval]\n",
    "        elif intervals[0][0] > newInterval[1]:\n",
    "            result.append(newInterval)\n",
    "            result.extend(intervals)\n",
    "            return result\n",
    "        elif intervals[0][0] > newInterval[0]:\n",
    "            result.append([min(newInterval[0], intervals[0][0]), max(newInterval[1],intervals[0][1])])\n",
    "            flag = True\n",
    "        for ind, (lower,upper) in enumerate(intervals):\n",
    "            if not flag:\n",
    "                if lower <= newInterval[0] and upper>= newInterval[0]:\n",
    "                    flag = True\n",
    "                    # extend upwards\n",
    "                    if newInterval[1] > upper:\n",
    "                        upper = newInterval[1]\n",
    "                    #extend downwards\n",
    "                elif lower > newInterval[0] and lower < newInterval[1] and upper>= newInterval[1]:\n",
    "                    flag = True\n",
    "                    lower = newInterval[0]\n",
    "                elif lower > newInterval[0] and upper < newInterval[1]:\n",
    "                    flag = True\n",
    "                    lower = newInterval[0]\n",
    "                    upper = newInterval[1]\n",
    "                elif lower > newInterval[0] and lower > newInterval[1]:\n",
    "                    flag = True\n",
    "                    result.append(newInterval)\n",
    "                    result.extend(intervals[ind:])\n",
    "                    break\n",
    "                result.append([lower,upper])\n",
    "            else:\n",
    "                print(result)\n",
    "                if lower <= result[-1][1] and upper > result[-1][1]:\n",
    "                    result[-1][1] = upper\n",
    "                if lower <= result[-1][1] and upper <= result[-1][1]:\n",
    "                    continue\n",
    "                else:\n",
    "                    result.append([lower,upper])\n",
    "        # # If newInterval[0]> last starting interval or lesser than first starting interval\n",
    "        if not flag:\n",
    "            if newInterval[0]>intervals[-1][1]:\n",
    "                result.append(newInterval)\n",
    "\n",
    "        return result"
   ]
  },
  {
   "cell_type": "code",
   "execution_count": 23,
   "metadata": {},
   "outputs": [],
   "source": [
    " a = [[1,2]].extend([[2,3]])"
   ]
  },
  {
   "cell_type": "code",
   "execution_count": 28,
   "metadata": {},
   "outputs": [],
   "source": [
    "a = [[1,2]]"
   ]
  },
  {
   "cell_type": "code",
   "execution_count": 29,
   "metadata": {},
   "outputs": [],
   "source": [
    "a.extend([[2,3]])"
   ]
  },
  {
   "cell_type": "code",
   "execution_count": 31,
   "metadata": {},
   "outputs": [
    {
     "ename": "AttributeError",
     "evalue": "'NoneType' object has no attribute 'extend'",
     "output_type": "error",
     "traceback": [
      "\u001b[0;31m---------------------------------------------------------------------------\u001b[0m",
      "\u001b[0;31mAttributeError\u001b[0m                            Traceback (most recent call last)",
      "\u001b[0;32m<ipython-input-31-4c5347ad5707>\u001b[0m in \u001b[0;36m<module>\u001b[0;34m\u001b[0m\n\u001b[1;32m      1\u001b[0m \u001b[0;34m\u001b[0m\u001b[0m\n\u001b[0;32m----> 2\u001b[0;31m \u001b[0ma\u001b[0m\u001b[0;34m.\u001b[0m\u001b[0mappend\u001b[0m\u001b[0;34m(\u001b[0m\u001b[0;34m[\u001b[0m\u001b[0;36m3\u001b[0m\u001b[0;34m,\u001b[0m\u001b[0;36m4\u001b[0m\u001b[0;34m]\u001b[0m\u001b[0;34m)\u001b[0m\u001b[0;34m.\u001b[0m\u001b[0mextend\u001b[0m\u001b[0;34m(\u001b[0m\u001b[0;34m[\u001b[0m\u001b[0;34m[\u001b[0m\u001b[0;36m2\u001b[0m\u001b[0;34m,\u001b[0m\u001b[0;36m3\u001b[0m\u001b[0;34m]\u001b[0m\u001b[0;34m]\u001b[0m\u001b[0;34m)\u001b[0m\u001b[0;34m\u001b[0m\u001b[0;34m\u001b[0m\u001b[0m\n\u001b[0m",
      "\u001b[0;31mAttributeError\u001b[0m: 'NoneType' object has no attribute 'extend'"
     ]
    }
   ],
   "source": [
    "\n",
    "a.append([3,4]).extend([[2,3]])"
   ]
  },
  {
   "cell_type": "code",
   "execution_count": null,
   "metadata": {},
   "outputs": [],
   "source": []
  },
  {
   "cell_type": "code",
   "execution_count": 41,
   "metadata": {},
   "outputs": [],
   "source": [
    "a = {'b':{'c':{'d':[1]}}}\n",
    "a2 = {'b':{'c':{'d':[2]}}}"
   ]
  },
  {
   "cell_type": "code",
   "execution_count": 42,
   "metadata": {},
   "outputs": [
    {
     "data": {
      "text/plain": [
       "False"
      ]
     },
     "execution_count": 42,
     "metadata": {},
     "output_type": "execute_result"
    }
   ],
   "source": [
    "a==a2"
   ]
  },
  {
   "cell_type": "code",
   "execution_count": null,
   "metadata": {},
   "outputs": [],
   "source": []
  }
 ],
 "metadata": {
  "kernelspec": {
   "display_name": "Python 3",
   "language": "python",
   "name": "python3"
  },
  "language_info": {
   "codemirror_mode": {
    "name": "ipython",
    "version": 3
   },
   "file_extension": ".py",
   "mimetype": "text/x-python",
   "name": "python",
   "nbconvert_exporter": "python",
   "pygments_lexer": "ipython3",
   "version": "3.6.9"
  }
 },
 "nbformat": 4,
 "nbformat_minor": 2
}
