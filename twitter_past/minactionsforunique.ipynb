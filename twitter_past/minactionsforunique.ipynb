{
 "cells": [
  {
   "cell_type": "code",
   "execution_count": null,
   "metadata": {},
   "outputs": [],
   "source": [
    "# Given an array of integers A,\n",
    "# a move consists of choosing any A[i], and incrementing it by 1.\n",
    "\n",
    "# Return the least number of moves to make every value in A unique."
   ]
  },
  {
   "cell_type": "markdown",
   "metadata": {},
   "source": [
    "Example 1:\n",
    "\n",
    "Input: [1,2,2]\n",
    "Output: 1\n",
    "Explanation:  After 1 move, the array could be [1, 2, 3]."
   ]
  },
  {
   "cell_type": "markdown",
   "metadata": {},
   "source": [
    "Example 2:\n",
    "\n",
    "Input: [3,2,1,2,1,7]\n",
    "Output: 6\n",
    "Explanation:  After 6 moves, the array could be [3, 4, 1, 2, 5, 7].\n",
    "It can be shown with 5 or less moves that it is impossible for the array to have all unique values."
   ]
  },
  {
   "cell_type": "code",
   "execution_count": null,
   "metadata": {},
   "outputs": [],
   "source": [
    "        \n",
    "        # [1000,2000,3000,1000]\n",
    "        # sort array\n",
    "        # take first and last item, \n",
    "        # Keep a list of available numbers (how?)"
   ]
  },
  {
   "cell_type": "code",
   "execution_count": 2,
   "metadata": {},
   "outputs": [],
   "source": [
    "from typing import List"
   ]
  },
  {
   "cell_type": "code",
   "execution_count": 3,
   "metadata": {},
   "outputs": [],
   "source": [
    "\n",
    "\n",
    "class Solution:\n",
    "    def minIncrementForUnique(self, A: List[int]) -> int:\n",
    "        # Naive solution:\n",
    "        # for each item, iterate through for duplicates and then\n",
    "        # iterate again to find next smallest available number. O(n^2)\n",
    "        \n",
    "        # slightly faster solution: \n",
    "        # as we iterate, store values into a set. When an item is already\n",
    "        # in the set, increment it iteratively until its not in the set\n",
    "        # also ~O(n^2)\n",
    "        # [3,2,1] -> 4\n",
    "        \n",
    "        # even faster solution:\n",
    "        # sort, duplicates need to be prev +1. \n",
    "        # if later numbers clash, they can subsequently +1 too\n",
    "        \n",
    "        lookup = set()\n",
    "        moves = 0\n",
    "        for num in A:\n",
    "            while num in lookup:\n",
    "                num+=1\n",
    "                moves+=1\n",
    "            lookup.add(num)\n",
    "        return moves"
   ]
  },
  {
   "cell_type": "code",
   "execution_count": 51,
   "metadata": {},
   "outputs": [],
   "source": [
    "\n",
    "\n",
    "class Solution:\n",
    "    def minIncrementForUnique(self, A: List[int]) -> int:\n",
    "        # Naive solution:\n",
    "        # for each item, iterate through for duplicates and then\n",
    "        # iterate again to find next smallest available number. O(n^2)\n",
    "        \n",
    "        # slightly faster solution: \n",
    "        # as we iterate, store values into a set. When an item is already\n",
    "        # in the set, increment it iteratively until its not in the set\n",
    "        # also ~O(n^2)\n",
    "        # [3,2,1] -> 4\n",
    "        \n",
    "        # even faster solution:\n",
    "        # sort, duplicates need to be prev +1. \n",
    "        # if later numbers clash, they can subsequently +1 too\n",
    "        if not A:\n",
    "            return 0\n",
    "        lst = sorted(A)\n",
    "        moves = 0\n",
    "        lookup = set()\n",
    "        lookup.add(lst[0])\n",
    "        for i in range(1,len(lst)):\n",
    "            if lst[i] in lookup:\n",
    "                amt_to_add = lst[i-1]+1-lst[i]\n",
    "                lst[i] += amt_to_add\n",
    "                moves += amt_to_add\n",
    "            lookup.add(lst[i])\n",
    "        print(lst)\n",
    "        return moves"
   ]
  },
  {
   "cell_type": "code",
   "execution_count": 57,
   "metadata": {},
   "outputs": [],
   "source": [
    "\n",
    "\n",
    "class Solution:\n",
    "    def minIncrementForUnique(self, A: List[int]) -> int:\n",
    "        # Naive solution:\n",
    "        # for each item, iterate through for duplicates and then\n",
    "        # iterate again to find next smallest available number. O(n^2)\n",
    "        \n",
    "        # slightly faster solution: \n",
    "        # as we iterate, store values into a set. When an item is already\n",
    "        # in the set, increment it iteratively until its not in the set\n",
    "        # also ~O(n^2)\n",
    "        # [3,2,1] -> 4\n",
    "        \n",
    "        # even faster solution:\n",
    "        # sort, duplicates need to be prev +1. \n",
    "        # if later numbers clash, they can subsequently +1 too\n",
    "        if not A:\n",
    "            return 0\n",
    "        lst = sorted(A)\n",
    "        moves = 0\n",
    "\n",
    "        for i in range(1,len(lst)):\n",
    "            if lst[i] <= lst[i-1]:\n",
    "                amt = lst[i-1]-lst[i]\n",
    "                lst[i] += amt+1\n",
    "                moves += amt+1\n",
    "        return moves"
   ]
  },
  {
   "cell_type": "code",
   "execution_count": 58,
   "metadata": {},
   "outputs": [],
   "source": [
    "a = Solution()"
   ]
  },
  {
   "cell_type": "code",
   "execution_count": 59,
   "metadata": {},
   "outputs": [
    {
     "data": {
      "text/plain": [
       "12"
      ]
     },
     "execution_count": 59,
     "metadata": {},
     "output_type": "execute_result"
    }
   ],
   "source": [
    "a.minIncrementForUnique([4,4,7,5,1,9,4,7,3,8])"
   ]
  },
  {
   "cell_type": "code",
   "execution_count": null,
   "metadata": {},
   "outputs": [],
   "source": []
  }
 ],
 "metadata": {
  "kernelspec": {
   "display_name": "Python 3",
   "language": "python",
   "name": "python3"
  },
  "language_info": {
   "codemirror_mode": {
    "name": "ipython",
    "version": 3
   },
   "file_extension": ".py",
   "mimetype": "text/x-python",
   "name": "python",
   "nbconvert_exporter": "python",
   "pygments_lexer": "ipython3",
   "version": "3.7.7"
  }
 },
 "nbformat": 4,
 "nbformat_minor": 2
}
