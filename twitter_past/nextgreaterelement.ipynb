{
 "cells": [
  {
   "cell_type": "code",
   "execution_count": 1,
   "metadata": {},
   "outputs": [],
   "source": [
    "import itertools"
   ]
  },
  {
   "cell_type": "code",
   "execution_count": 2,
   "metadata": {},
   "outputs": [],
   "source": [
    "n = 1234"
   ]
  },
  {
   "cell_type": "code",
   "execution_count": 5,
   "metadata": {},
   "outputs": [],
   "source": []
  },
  {
   "cell_type": "code",
   "execution_count": 7,
   "metadata": {},
   "outputs": [
    {
     "data": {
      "text/plain": [
       "[('1', '2', '3', '4'),\n",
       " ('1', '2', '4', '3'),\n",
       " ('1', '3', '2', '4'),\n",
       " ('1', '3', '4', '2'),\n",
       " ('1', '4', '2', '3'),\n",
       " ('1', '4', '3', '2'),\n",
       " ('2', '1', '3', '4'),\n",
       " ('2', '1', '4', '3'),\n",
       " ('2', '3', '1', '4'),\n",
       " ('2', '3', '4', '1'),\n",
       " ('2', '4', '1', '3'),\n",
       " ('2', '4', '3', '1'),\n",
       " ('3', '1', '2', '4'),\n",
       " ('3', '1', '4', '2'),\n",
       " ('3', '2', '1', '4'),\n",
       " ('3', '2', '4', '1'),\n",
       " ('3', '4', '1', '2'),\n",
       " ('3', '4', '2', '1'),\n",
       " ('4', '1', '2', '3'),\n",
       " ('4', '1', '3', '2'),\n",
       " ('4', '2', '1', '3'),\n",
       " ('4', '2', '3', '1'),\n",
       " ('4', '3', '1', '2'),\n",
       " ('4', '3', '2', '1')]"
      ]
     },
     "execution_count": 7,
     "metadata": {},
     "output_type": "execute_result"
    }
   ],
   "source": [
    "lst"
   ]
  },
  {
   "cell_type": "code",
   "execution_count": 16,
   "metadata": {},
   "outputs": [],
   "source": [
    "def tail(n):\n",
    "    if n == 1:\n",
    "        return\n",
    "    print(n)\n",
    "    tail(n-1)\n"
   ]
  },
  {
   "cell_type": "code",
   "execution_count": 18,
   "metadata": {},
   "outputs": [],
   "source": [
    "def head(n):\n",
    "    if n==1:\n",
    "        return\n",
    "    head(n-1)\n",
    "    print(n)"
   ]
  },
  {
   "cell_type": "code",
   "execution_count": 20,
   "metadata": {},
   "outputs": [],
   "source": [
    "def factorial(N):\n",
    "    if N == 1:\n",
    "        return 1\n",
    "    return N*factorial(N-1)"
   ]
  },
  {
   "cell_type": "code",
   "execution_count": 23,
   "metadata": {},
   "outputs": [],
   "source": [
    "def tail_fac(N,res):\n",
    "    if N==1:\n",
    "        return res\n",
    "    return tail_fac(N-1,N*res)"
   ]
  },
  {
   "cell_type": "code",
   "execution_count": 26,
   "metadata": {},
   "outputs": [],
   "source": [
    "def tail_fib(N, accum):\n",
    "    '''calcs the Nth fib num'''\n",
    "    if N==1:\n",
    "        return accum\n",
    "    if N==2:\n",
    "        return accum\n",
    "    accum = \n",
    "    \n",
    "    return "
   ]
  },
  {
   "cell_type": "code",
   "execution_count": 29,
   "metadata": {},
   "outputs": [
    {
     "data": {
      "text/plain": [
       "55"
      ]
     },
     "execution_count": 29,
     "metadata": {},
     "output_type": "execute_result"
    }
   ],
   "source": [
    "tail_fib(10,1)"
   ]
  },
  {
   "cell_type": "code",
   "execution_count": 25,
   "metadata": {},
   "outputs": [
    {
     "data": {
      "text/plain": [
       "120"
      ]
     },
     "execution_count": 25,
     "metadata": {},
     "output_type": "execute_result"
    }
   ],
   "source": [
    "tail_fac(5,1)"
   ]
  },
  {
   "cell_type": "code",
   "execution_count": 22,
   "metadata": {},
   "outputs": [
    {
     "name": "stdout",
     "output_type": "stream",
     "text": [
      "24\n"
     ]
    }
   ],
   "source": [
    "print(factorial(4))"
   ]
  },
  {
   "cell_type": "code",
   "execution_count": 19,
   "metadata": {},
   "outputs": [
    {
     "name": "stdout",
     "output_type": "stream",
     "text": [
      "2\n",
      "3\n",
      "4\n",
      "5\n",
      "6\n",
      "7\n",
      "8\n",
      "9\n",
      "10\n"
     ]
    }
   ],
   "source": [
    "head(10)"
   ]
  },
  {
   "cell_type": "code",
   "execution_count": 17,
   "metadata": {},
   "outputs": [
    {
     "name": "stdout",
     "output_type": "stream",
     "text": [
      "10\n",
      "9\n",
      "8\n",
      "7\n",
      "6\n",
      "5\n",
      "4\n",
      "3\n",
      "2\n"
     ]
    }
   ],
   "source": [
    "tail(10)"
   ]
  },
  {
   "cell_type": "code",
   "execution_count": 14,
   "metadata": {},
   "outputs": [
    {
     "data": {
      "text/plain": [
       "[1234,\n",
       " 1243,\n",
       " 1324,\n",
       " 1342,\n",
       " 1423,\n",
       " 1432,\n",
       " 2134,\n",
       " 2143,\n",
       " 2314,\n",
       " 2341,\n",
       " 2413,\n",
       " 2431,\n",
       " 3124,\n",
       " 3142,\n",
       " 3214,\n",
       " 3241,\n",
       " 3412,\n",
       " 3421,\n",
       " 4123,\n",
       " 4132,\n",
       " 4213,\n",
       " 4231,\n",
       " 4312,\n",
       " 4321]"
      ]
     },
     "execution_count": 14,
     "metadata": {},
     "output_type": "execute_result"
    }
   ],
   "source": [
    "\n",
    "class QueensProblem:\n",
    "    def __init__(self, numOfQueens):\n",
    "        self.numOfQueens = numOfQueens\n",
    "        self.chessTable = [[None for i in range(numOfQueens)] for j in range(numOfQueens)]\n",
    "\t\t\n",
    "\tdef solveQueensProblem(self):\n",
    "\t\t\n",
    "\t\tif self.solve(0):\n",
    "\t\t\tself.printQueens()\n",
    "\t\telse:\n",
    "\t\t\tprint('There is no solution...')\n",
    "\t\n",
    "\tdef solve(self, colIndex):\n",
    "\t\t\n",
    "\t\tif colIndex == self.numOfQueens:\n",
    "\t\t\treturn True\n",
    "\t\t\n",
    "\t\tfor rowIndex in range(self.numOfQueens):\n",
    "\t\t\n",
    "\t\t\tif self.isPlaceValid(rowIndex, colIndex):\n",
    "\t\t\t\t\n",
    "\t\t\t\tself.chessTable[rowIndex][colIndex] =  1\n",
    "\t\t\t\t\n",
    "\t\t\t\tif self.solve(colIndex+1):\n",
    "\t\t\t\t\treturn True\n",
    "\n",
    "\t\t\t\t# BACKTRACK\n",
    "\t\t\t\tself.chessTable[rowIndex][colIndex] = 0\n",
    "\t\t\t\t\n",
    "\t\treturn False\n",
    "\t\t\t\n",
    "\tdef isPlaceValid(self, rowIndex, columnIndex):\n",
    "\t\t\n",
    "\t\t#same row\n",
    "\t\tfor i in range(columnIndex):\n",
    "\t\t\tif self.chessTable[rowIndex][i] == 1:\n",
    "\t\t\t\treturn False\n",
    "\t\t\t\t\n",
    "\t\t#from top left to bottom right\n",
    "\t\tj = columnIndex\n",
    "\t\tfor i in range(rowIndex,-1,-1):\n",
    "\t\t\t\n",
    "\t\t\tif j < 0:\n",
    "\t\t\t\tbreak\n",
    "\t\t\t\t\n",
    "\t\t\tif self.chessTable[i][j] == 1:\n",
    "\t\t\t\treturn False\n",
    "\t\t\t\n",
    "\t\t\tj = j -1\n",
    "\t\t\t\n",
    "\t\t#from bottom left to top right\n",
    "\t\tj = columnIndex\n",
    "\t\tfor i in range(rowIndex,len(self.chessTable)):\n",
    "\t\t\t\n",
    "\t\t\tif j < 0:\n",
    "\t\t\t\tbreak\n",
    "\t\t\t\t\n",
    "\t\t\tif self.chessTable[i][j] == 1:\n",
    "\t\t\t\treturn False\n",
    "\t\t\t\n",
    "\t\t\tj = j -1\n",
    "\t\t\t\n",
    "\t\treturn True\t\n",
    "\t\t\n",
    "\tdef printQueens(self):\n",
    "\n",
    "\t\tfor i in range(self.numOfQueens):\n",
    "\t\t\tfor j in range(self.numOfQueens):\n",
    "\t\t\t\n",
    "\t\t\t\tif self.chessTable[i][j] == 1:\n",
    "\t\t\t\t\tprint(' * ', end=\"\"),\n",
    "\t\t\t\telse:\n",
    "\t\t\t\t\tprint(' - ', end=\"\"),\n",
    "\t\t\t\t\n",
    "\t\t\tprint('\\n')\n",
    "\t\t\n",
    "if __name__ == \"__main__\":\n",
    "\n",
    "\tqueensProblem = QueensProblem(100)\n",
    "\tqueensProblem.solveQueensProblem()\n",
    "\t\t\n",
    "\n"
   ]
  },
  {
   "cell_type": "code",
   "execution_count": 23,
   "metadata": {},
   "outputs": [],
   "source": [
    "class QueensProblem:\n",
    "    def __init__(self, numOfQueens):\n",
    "        self.num_of_queens = numOfQueens\n",
    "        self.chess_table = [[None for i in range(numOfQueens)] for j in range(numOfQueens)]\n",
    "    def solve_queens(self):\n",
    "        if self.solve(0):\n",
    "            self.print_queens()\n",
    "        else:\n",
    "            print('There is no solution...')\n",
    "            \n",
    "    def solve(self, col):\n",
    "        if col == self.num_of_queens:\n",
    "            return True\n",
    "        for row in range(self.num_of_queens):\n",
    "            if self.check_valid(row, col):\n",
    "                self.chess_table[row][col] = 1\n",
    "#                 print(f'R {row} C{col}')\n",
    "                if self.solve(col+1):\n",
    "                    return True\n",
    "                self.chess_table[row][col] = 0\n",
    "            \n",
    "        return False\n",
    "    \n",
    "    def check_valid(self,row,col):\n",
    "        for x in range(self.num_of_queens):\n",
    "            if x==col:\n",
    "                continue\n",
    "            if self.chess_table[row][x]:\n",
    "                return False\n",
    "        \n",
    "        \n",
    "        x,y= row,col\n",
    "        while (x<self.num_of_queens-1 and x >= 0) and\\\n",
    "                (y<self.num_of_queens-1 and y >= 0):\n",
    "            x+=1\n",
    "            y+=1\n",
    "            if self.chess_table[x][y]:\n",
    "                return False\n",
    "            \n",
    "        x,y= row,col           \n",
    "        while (x<self.num_of_queens and x > 0) and\\\n",
    "            (y<self.num_of_queens and y > 0):\n",
    "            x-=1\n",
    "            y-=1\n",
    "            if self.chess_table[x][y]:\n",
    "                return False\n",
    "            \n",
    "        x,y= row,col\n",
    "        while (x<self.num_of_queens-1 and x >= 0) and\\\n",
    "                (y<self.num_of_queens and y > 0):\n",
    "            x+=1\n",
    "            y-=1\n",
    "            if self.chess_table[x][y]:\n",
    "                return False\n",
    "            \n",
    "        x,y= row,col           \n",
    "        while (x<self.num_of_queens and x > 0) and\\\n",
    "            (y<self.num_of_queens-1 and y >= 0):\n",
    "            x-=1\n",
    "            y+=1\n",
    "            if self.chess_table[x][y]:\n",
    "                return False\n",
    "        \n",
    "        return True\n",
    "    \n",
    "    def print_queens(self):\n",
    "        for i in range(self.num_of_queens):\n",
    "            for j in range(self.num_of_queens):\n",
    "                if self.chess_table[i][j] == 1:\n",
    "                    print(' * ', end='')\n",
    "                else:\n",
    "                    print(' - ', end='')\n",
    "\n",
    "            print('\\n')\n"
   ]
  },
  {
   "cell_type": "code",
   "execution_count": 32,
   "metadata": {},
   "outputs": [],
   "source": [
    "QP2= QueensProblem(18)"
   ]
  },
  {
   "cell_type": "code",
   "execution_count": 33,
   "metadata": {},
   "outputs": [
    {
     "name": "stdout",
     "output_type": "stream",
     "text": [
      " *  -  -  -  -  -  -  -  -  -  -  -  -  -  -  -  -  - \n",
      "\n",
      " -  -  -  *  -  -  -  -  -  -  -  -  -  -  -  -  -  - \n",
      "\n",
      " -  *  -  -  -  -  -  -  -  -  -  -  -  -  -  -  -  - \n",
      "\n",
      " -  -  -  -  -  -  -  -  -  -  -  -  -  *  -  -  -  - \n",
      "\n",
      " -  -  *  -  -  -  -  -  -  -  -  -  -  -  -  -  -  - \n",
      "\n",
      " -  -  -  -  -  -  -  -  -  -  *  -  -  -  -  -  -  - \n",
      "\n",
      " -  -  -  -  -  -  -  -  -  -  -  -  *  -  -  -  -  - \n",
      "\n",
      " -  -  -  -  *  -  -  -  -  -  -  -  -  -  -  -  -  - \n",
      "\n",
      " -  -  -  -  -  -  -  -  -  -  -  -  -  -  -  *  -  - \n",
      "\n",
      " -  -  -  -  -  -  -  -  -  -  -  -  -  -  -  -  -  * \n",
      "\n",
      " -  -  -  -  -  -  -  -  -  -  -  -  -  -  *  -  -  - \n",
      "\n",
      " -  -  -  -  -  -  *  -  -  -  -  -  -  -  -  -  -  - \n",
      "\n",
      " -  -  -  -  -  -  -  -  *  -  -  -  -  -  -  -  -  - \n",
      "\n",
      " -  -  -  -  -  -  -  -  -  -  -  -  -  -  -  -  *  - \n",
      "\n",
      " -  -  -  -  -  *  -  -  -  -  -  -  -  -  -  -  -  - \n",
      "\n",
      " -  -  -  -  -  -  -  *  -  -  -  -  -  -  -  -  -  - \n",
      "\n",
      " -  -  -  -  -  -  -  -  -  *  -  -  -  -  -  -  -  - \n",
      "\n",
      " -  -  -  -  -  -  -  -  -  -  -  *  -  -  -  -  -  - \n",
      "\n"
     ]
    }
   ],
   "source": [
    "QP2.solve_queens()"
   ]
  },
  {
   "cell_type": "code",
   "execution_count": null,
   "metadata": {},
   "outputs": [],
   "source": []
  }
 ],
 "metadata": {
  "kernelspec": {
   "display_name": "Python 3",
   "language": "python",
   "name": "python3"
  },
  "language_info": {
   "codemirror_mode": {
    "name": "ipython",
    "version": 3
   },
   "file_extension": ".py",
   "mimetype": "text/x-python",
   "name": "python",
   "nbconvert_exporter": "python",
   "pygments_lexer": "ipython3",
   "version": "3.7.7"
  }
 },
 "nbformat": 4,
 "nbformat_minor": 2
}
