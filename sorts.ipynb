{
 "cells": [
  {
   "cell_type": "code",
   "execution_count": 7,
   "metadata": {},
   "outputs": [],
   "source": [
    "from typing import List, Sequence\n",
    "def bubble_sort(slist: Sequence) -> List:\n",
    "    for i in range(len(slist)):\n",
    "        for j in range(len(slist) -i-1):\n",
    "            if slist[j] > slist[j+1]:\n",
    "                slist[j],slist[j+1] = slist[j+1],slist[j]\n",
    "    return slist"
   ]
  },
  {
   "cell_type": "code",
   "execution_count": 10,
   "metadata": {},
   "outputs": [
    {
     "data": {
      "text/plain": [
       "[0, 1, 2, 3, 4]"
      ]
     },
     "execution_count": 10,
     "metadata": {},
     "output_type": "execute_result"
    }
   ],
   "source": [
    "bubble_sort([4,3,2,1,0])"
   ]
  },
  {
   "cell_type": "code",
   "execution_count": 15,
   "metadata": {},
   "outputs": [],
   "source": [
    "def sel_sort(slist: Sequence) -> List:\n",
    "    for i in range(len(slist)):\n",
    "        num = slist[i]\n",
    "        ind = i\n",
    "        for j in range(i,len(slist)):\n",
    "            if slist[j]<num:\n",
    "                ind = j\n",
    "        if i != ind:\n",
    "            slist[i],slist[ind] = slist[ind],slist[i]\n",
    "    return slist"
   ]
  },
  {
   "cell_type": "code",
   "execution_count": 16,
   "metadata": {},
   "outputs": [
    {
     "data": {
      "text/plain": [
       "[1, 2, 3, 4, 5]"
      ]
     },
     "execution_count": 16,
     "metadata": {},
     "output_type": "execute_result"
    }
   ],
   "source": [
    "sel_sort([5,4,3,2,1])"
   ]
  },
  {
   "cell_type": "code",
   "execution_count": 17,
   "metadata": {},
   "outputs": [],
   "source": [
    "def quicksort(slist: Sequence):\n",
    "    qs(slist,0,len(slist)-1)\n",
    "    return slist\n",
    "    \n",
    "def qs(slist,l,r):\n",
    "    if l>=r:\n",
    "        return\n",
    "    position = partition(slist,l,r)\n",
    "    qs(slist,0,position-1)\n",
    "    qs(slist,position+1,r)\n",
    "\n",
    "def partition(slist,l,r):\n",
    "    pivot = (l+r)//2\n",
    "    slist[pivot], slist[r] = slist[r], slist[pivot]\n",
    "    ind = l-1\n",
    "    for i in range(l,r):\n",
    "        if slist[i]<slist[r]:\n",
    "            ind+=1\n",
    "            if i != ind:\n",
    "                slist[ind],slist[i] = slist[i],slist[ind]\n",
    "#         if slist[i]>=slist[r]:\n",
    "#             continue\n",
    "    slist[r], slist[ind+1] = slist[ind+1],slist[r]\n",
    "    return ind+1\n",
    "    \n"
   ]
  },
  {
   "cell_type": "code",
   "execution_count": 18,
   "metadata": {},
   "outputs": [
    {
     "data": {
      "text/plain": [
       "[1, 2, 3, 4, 5, 6, 7, 8]"
      ]
     },
     "execution_count": 18,
     "metadata": {},
     "output_type": "execute_result"
    }
   ],
   "source": [
    "quicksort([3,4,5,1,2,7,8,6])"
   ]
  },
  {
   "cell_type": "code",
   "execution_count": 46,
   "metadata": {},
   "outputs": [],
   "source": [
    "def mergesort(slist: Sequence) -> List:\n",
    "    ms(slist)\n",
    "    return slist\n",
    "    \n",
    "def ms(lst):\n",
    "    if len(lst) == 1:\n",
    "        return lst\n",
    "    else:\n",
    "        return merge(ms(lst[:len(lst)//2]),ms(lst[len(lst)//2:]))\n",
    "        \n",
    "def merge(lst1,lst2):\n",
    "    j = 0\n",
    "    mlist = []\n",
    "    for i in range(len(lst1)):\n",
    "        if len(lst2) == j:\n",
    "            mlist.append(lst1[i])\n",
    "            continue\n",
    "        if lst1[i]>=lst2[j]:\n",
    "            mlist.append(lst1[i])            \n",
    "        else:\n",
    "            while lst1[i]<lst2[j]:\n",
    "                mlist.append(lst2[j])\n",
    "                j+=1\n",
    "                if len(lst2) == j:\n",
    "                    break\n",
    "    print(mlist)\n",
    "    return mlist\n",
    "    "
   ]
  },
  {
   "cell_type": "code",
   "execution_count": 47,
   "metadata": {},
   "outputs": [],
   "source": [
    "lst = [8,4,3,9,1,2]"
   ]
  },
  {
   "cell_type": "code",
   "execution_count": 48,
   "metadata": {},
   "outputs": [
    {
     "name": "stdout",
     "output_type": "stream",
     "text": [
      "[4]\n",
      "[8]\n",
      "[2]\n",
      "[9]\n",
      "[9]\n"
     ]
    },
    {
     "data": {
      "text/plain": [
       "[8, 4, 3, 9, 1, 2]"
      ]
     },
     "execution_count": 48,
     "metadata": {},
     "output_type": "execute_result"
    }
   ],
   "source": [
    "mergesort(lst)"
   ]
  },
  {
   "cell_type": "code",
   "execution_count": 21,
   "metadata": {},
   "outputs": [
    {
     "name": "stdout",
     "output_type": "stream",
     "text": [
      "[1, 2, 3]\n"
     ]
    }
   ],
   "source": [
    "print(lst[:len(lst)//2])"
   ]
  },
  {
   "cell_type": "code",
   "execution_count": 24,
   "metadata": {},
   "outputs": [
    {
     "data": {
      "text/plain": [
       "[4, 5, 6, 7]"
      ]
     },
     "execution_count": 24,
     "metadata": {},
     "output_type": "execute_result"
    }
   ],
   "source": [
    "lst[len(lst)//2:]"
   ]
  },
  {
   "cell_type": "code",
   "execution_count": null,
   "metadata": {},
   "outputs": [],
   "source": []
  }
 ],
 "metadata": {
  "kernelspec": {
   "display_name": "Python 3",
   "language": "python",
   "name": "python3"
  },
  "language_info": {
   "codemirror_mode": {
    "name": "ipython",
    "version": 3
   },
   "file_extension": ".py",
   "mimetype": "text/x-python",
   "name": "python",
   "nbconvert_exporter": "python",
   "pygments_lexer": "ipython3",
   "version": "3.7.7"
  }
 },
 "nbformat": 4,
 "nbformat_minor": 2
}
