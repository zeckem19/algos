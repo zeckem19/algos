{
 "cells": [
  {
   "cell_type": "code",
   "execution_count": 106,
   "metadata": {},
   "outputs": [],
   "source": [
    "class Node:\n",
    "    def __init__(self, data):\n",
    "        self.data = data\n",
    "        self.left = None\n",
    "        self.right = None\n",
    "        self.parent = None\n",
    "\n",
    "class BST:\n",
    "    def __init__(self):\n",
    "        self.root = None\n",
    "        \n",
    "    def find(self,data):\n",
    "        if self.root == None:\n",
    "            return None\n",
    "        else:\n",
    "            return self.find_rec(self.root, data)\n",
    "            \n",
    "    def find_rec(self, node, data):\n",
    "        if node.data == data:\n",
    "            print(node.data)\n",
    "            return node\n",
    "        \n",
    "        elif node.data < data:\n",
    "            if node.right:\n",
    "                return self.find_rec(node.right, data)\n",
    "            else:\n",
    "                return None\n",
    "\n",
    "        elif node.data > data:\n",
    "            if node.left:\n",
    "                return self.find_rec(node.left, data)\n",
    "            else:\n",
    "                return None\n",
    "            \n",
    "        \n",
    "#         if self.root == None: return None\n",
    "        \n",
    "#         ptr = self.root\n",
    "#         while ptr.data != data:\n",
    "#             if ptr.data > data and ptr.right != None:\n",
    "#                 ptr = ptr.right\n",
    "#             if ptr.data < data and ptr.left != None:\n",
    "#                 ptr = ptr.left\n",
    "            \n",
    "    \n",
    "    def insert(self, data):\n",
    "        n = Node(data)\n",
    "        if self.root == None:\n",
    "            self.root = n\n",
    "        else:\n",
    "            self.insert_rec(n, self.root)\n",
    "            \n",
    "    def insert_rec(self, node, ptr):\n",
    "        if node.data < ptr.data:\n",
    "            if ptr.left == None:\n",
    "                ptr.left = node\n",
    "                node.parent = ptr\n",
    "            else:\n",
    "                self.insert_rec(node, ptr.left)\n",
    "    \n",
    "        if node.data > ptr.data:\n",
    "            if ptr.right == None:\n",
    "                ptr.right = node\n",
    "                node.parent = ptr\n",
    "            else:\n",
    "                self.insert_rec(node, ptr.right)\n",
    "        \n",
    "    \n",
    "    def io_traverse(self):\n",
    "        \n",
    "        if self.root == None:\n",
    "            print(None)\n",
    "        else:\n",
    "            self.print_tree(self.root)\n",
    "    \n",
    "    def print_tree(self, node):\n",
    "        if node.left != None:\n",
    "            self.print_tree(node.left)\n",
    "        print(node.data)\n",
    "        if node.right != None:\n",
    "            self.print_tree(node.right)       \n",
    "    \n",
    "    def get_max(self):\n",
    "        if self.root == None:\n",
    "            return None\n",
    "        else:\n",
    "            return self.get_rightmost(self.root)\n",
    "            \n",
    "    def get_rightmost(self, node):\n",
    "        if node.right:\n",
    "            return self.get_rightmost(node.right)\n",
    "        else:\n",
    "            return node.data\n",
    "        \n",
    "            \n",
    "    def remove(self, data):\n",
    "        node = self.find(data)\n",
    "        if node:\n",
    "            return None\n",
    "        \n",
    "        #No child nodes, just remove\n",
    "        elif not node.right and not node.left:\n",
    "            parent = node.parent\n",
    "            if data > parent.data:\n",
    "                parent.right = None\n",
    "            else:\n",
    "                parent.left = None\n",
    "                \n",
    "        # 1 child, need to readjust\n",
    "        \n",
    "        \n",
    "        \n",
    "        \n",
    "        "
   ]
  },
  {
   "cell_type": "code",
   "execution_count": 107,
   "metadata": {},
   "outputs": [],
   "source": [
    "bst = BST()"
   ]
  },
  {
   "cell_type": "code",
   "execution_count": 108,
   "metadata": {},
   "outputs": [],
   "source": [
    "bst.insert(4)"
   ]
  },
  {
   "cell_type": "code",
   "execution_count": 109,
   "metadata": {},
   "outputs": [],
   "source": [
    "bst.insert(5)\n"
   ]
  },
  {
   "cell_type": "code",
   "execution_count": 110,
   "metadata": {},
   "outputs": [],
   "source": [
    "bst.insert(3)\n"
   ]
  },
  {
   "cell_type": "code",
   "execution_count": 111,
   "metadata": {},
   "outputs": [
    {
     "data": {
      "text/plain": [
       "<__main__.Node at 0x7f1405ba36d8>"
      ]
     },
     "execution_count": 111,
     "metadata": {},
     "output_type": "execute_result"
    }
   ],
   "source": [
    "bst.root.right"
   ]
  },
  {
   "cell_type": "code",
   "execution_count": 112,
   "metadata": {},
   "outputs": [
    {
     "name": "stdout",
     "output_type": "stream",
     "text": [
      "3\n"
     ]
    },
    {
     "data": {
      "text/plain": [
       "<__main__.Node at 0x7f1405ba3c88>"
      ]
     },
     "execution_count": 112,
     "metadata": {},
     "output_type": "execute_result"
    }
   ],
   "source": [
    "bst.find(3)"
   ]
  },
  {
   "cell_type": "code",
   "execution_count": 76,
   "metadata": {},
   "outputs": [
    {
     "name": "stdout",
     "output_type": "stream",
     "text": [
      "3\n",
      "4\n",
      "5\n"
     ]
    }
   ],
   "source": [
    "bst.io_traverse()\n"
   ]
  },
  {
   "cell_type": "code",
   "execution_count": 84,
   "metadata": {},
   "outputs": [
    {
     "name": "stdout",
     "output_type": "stream",
     "text": [
      "right\n",
      "5\n"
     ]
    }
   ],
   "source": [
    "bst.get_max()"
   ]
  },
  {
   "cell_type": "code",
   "execution_count": 81,
   "metadata": {},
   "outputs": [
    {
     "data": {
      "text/plain": [
       "4"
      ]
     },
     "execution_count": 81,
     "metadata": {},
     "output_type": "execute_result"
    }
   ],
   "source": [
    "\n",
    "bst.root.data"
   ]
  },
  {
   "cell_type": "code",
   "execution_count": 82,
   "metadata": {},
   "outputs": [
    {
     "data": {
      "text/plain": [
       "5"
      ]
     },
     "execution_count": 82,
     "metadata": {},
     "output_type": "execute_result"
    }
   ],
   "source": [
    "bst.root.right.data"
   ]
  },
  {
   "cell_type": "code",
   "execution_count": null,
   "metadata": {},
   "outputs": [],
   "source": []
  }
 ],
 "metadata": {
  "kernelspec": {
   "display_name": "Python 3",
   "language": "python",
   "name": "python3"
  },
  "language_info": {
   "codemirror_mode": {
    "name": "ipython",
    "version": 3
   },
   "file_extension": ".py",
   "mimetype": "text/x-python",
   "name": "python",
   "nbconvert_exporter": "python",
   "pygments_lexer": "ipython3",
   "version": "3.6.9"
  }
 },
 "nbformat": 4,
 "nbformat_minor": 2
}
