{
 "cells": [
  {
   "cell_type": "code",
   "execution_count": 38,
   "metadata": {},
   "outputs": [],
   "source": [
    "class Solution:\n",
    "    def uniquePaths(self, m: int, n: int) -> int:\n",
    "        #initialised a 2d DP array to store number of ways to \n",
    "        #end at each position\n",
    "        \n",
    "        \n",
    "        dp = [[None]*(n+1) for _ in range(m+1)]\n",
    "\n",
    "        for i in range(n+1):\n",
    "            dp[0][i] = 0\n",
    "        for i in range(m+1):\n",
    "            dp[i][0] = 0\n",
    "            \n",
    "        dp[1][1] = 1\n",
    "        \n",
    "        for y in range(1,n+1):\n",
    "            for x in range(1,m+1):\n",
    "                if x==1 and y==1:\n",
    "                    continue\n",
    "                dp[x][y] = dp[x-1][y] + dp[x][y-1]\n",
    "            \n",
    "        return dp[-1][-1]"
   ]
  },
  {
   "cell_type": "code",
   "execution_count": 39,
   "metadata": {},
   "outputs": [
    {
     "name": "stdout",
     "output_type": "stream",
     "text": [
      "[[0, 0, 0, 0, 0, 0, 0, 0], [0, 1, 1, 1, 1, 1, 1, 1], [0, 1, 2, 3, 4, 5, 6, 7], [0, 1, 3, 6, 10, 15, 21, 28]]\n"
     ]
    }
   ],
   "source": [
    "s = Solution()\n",
    "s.uniquePaths(3,7)"
   ]
  },
  {
   "cell_type": "code",
   "execution_count": 15,
   "metadata": {},
   "outputs": [],
   "source": [
    "a = [[1,2,3],[4,5,6]]"
   ]
  },
  {
   "cell_type": "code",
   "execution_count": 19,
   "metadata": {},
   "outputs": [],
   "source": [
    "a[0][0] = 10"
   ]
  },
  {
   "cell_type": "code",
   "execution_count": 20,
   "metadata": {},
   "outputs": [
    {
     "data": {
      "text/plain": [
       "[[10, 2, 3], [4, 5, 6]]"
      ]
     },
     "execution_count": 20,
     "metadata": {},
     "output_type": "execute_result"
    }
   ],
   "source": [
    "a"
   ]
  },
  {
   "cell_type": "code",
   "execution_count": null,
   "metadata": {},
   "outputs": [],
   "source": [
    "class Solution:\n",
    "    def uniquePathsWithObstacles(self, obstacleGrid: List[List[int]]) -> int:\n",
    "        n = len(obstacleGrid[0])\n",
    "        m = len(obstacleGrid)\n",
    "        \n",
    "        dp = [[None]*(n+1) for _ in range(m+1)]\n",
    "        \n",
    "        for i in range(n+1):\n",
    "            dp[0][i] = 0\n",
    "        for i in range(m+1):\n",
    "            dp[i][0] = 0\n",
    "            \n",
    "        for y in range(1,n+1):\n",
    "            for x in range(1,m+1):\n",
    "                if obstacleGrid[x-1][y-1] == 1:\n",
    "                    dp[x][y] = 0\n",
    "                \n",
    "        dp[1][1] = 1\n",
    "        \n",
    "        for y in range(1,n+1):\n",
    "            for x in range(1,m+1):\n",
    "                if x==1 and y==1:\n",
    "                    continue\n",
    "                if dp[x][y] == 0:\n",
    "                    continue\n",
    "                dp[x][y] = dp[x-1][y] + dp[x][y-1]\n",
    "            \n",
    "        return dp[-1][-1]  "
   ]
  }
 ],
 "metadata": {
  "kernelspec": {
   "display_name": "Python 3",
   "language": "python",
   "name": "python3"
  },
  "language_info": {
   "codemirror_mode": {
    "name": "ipython",
    "version": 3
   },
   "file_extension": ".py",
   "mimetype": "text/x-python",
   "name": "python",
   "nbconvert_exporter": "python",
   "pygments_lexer": "ipython3",
   "version": "3.7.7"
  }
 },
 "nbformat": 4,
 "nbformat_minor": 2
}
