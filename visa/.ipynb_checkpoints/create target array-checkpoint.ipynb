{
 "cells": [
  {
   "cell_type": "markdown",
   "metadata": {},
   "source": [
    "https://leetcode.com/problems/create-target-array-in-the-given-order/"
   ]
  },
  {
   "cell_type": "code",
   "execution_count": null,
   "metadata": {},
   "outputs": [],
   "source": [
    "class Solution:\n",
    "    def createTargetArray(self, nums: List[int], index: List[int]) -> List[int]:\n",
    "        '''\n",
    "        naive method: \n",
    "        1. iterate through nums, find its index,\n",
    "            a. if index not equal len(new array) append, old to new\n",
    "        2. not in place, but O(n)\n",
    "        '''\n",
    "        reordered_nums = []\n",
    "        for i, new_i in enumerate(index):\n",
    "            if new_i != len(reordered_nums):\n",
    "                reordered_nums = reordered_nums[:new_i] + [nums[i]] + reordered_nums[new_i:]\n",
    "            else:\n",
    "                reordered_nums.append(nums[i])\n",
    "                \n",
    "        return reordered_nums"
   ]
  }
 ],
 "metadata": {
  "kernelspec": {
   "display_name": "Python 3",
   "language": "python",
   "name": "python3"
  },
  "language_info": {
   "codemirror_mode": {
    "name": "ipython",
    "version": 3
   },
   "file_extension": ".py",
   "mimetype": "text/x-python",
   "name": "python",
   "nbconvert_exporter": "python",
   "pygments_lexer": "ipython3",
   "version": "3.6.9"
  }
 },
 "nbformat": 4,
 "nbformat_minor": 4
}
