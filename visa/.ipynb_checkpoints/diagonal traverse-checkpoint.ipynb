{
 "cells": [
  {
   "cell_type": "markdown",
   "metadata": {},
   "source": [
    "https://leetcode.com/problems/diagonal-traverse/"
   ]
  },
  {
   "cell_type": "markdown",
   "metadata": {},
   "source": [
    "Given a matrix of M x N elements (M rows, N columns), return all elements of the matrix in diagonal order as shown in the below image.\n",
    "\n",
    " \n",
    "\n",
    "Example:\n",
    "\n",
    "Input:\n",
    "[\n",
    " [ 1, 2, 3 ],\n",
    " [ 4, 5, 6 ],\n",
    " [ 7, 8, 9 ]\n",
    "]\n",
    "\n",
    "Output:  [1,2,4,7,5,3,6,8,9]\n",
    "\n",
    "Explanation:\n",
    "\n",
    " \n",
    "\n",
    "Note:\n",
    "\n",
    "The total number of elements of the given matrix will not exceed 10,000."
   ]
  },
  {
   "cell_type": "code",
   "execution_count": 2,
   "metadata": {},
   "outputs": [],
   "source": [
    "from typing import List"
   ]
  },
  {
   "cell_type": "code",
   "execution_count": 72,
   "metadata": {},
   "outputs": [],
   "source": [
    "class Solution:\n",
    "    def findDiagonalOrder(self, matrix: List[List[int]]) -> List[int]:\n",
    "        '''\n",
    "        3x3\n",
    "        [\n",
    "        [1, 2, 3],\n",
    "        [4, 5, 6],\n",
    "        [7, 8, 9]\n",
    "        ]\n",
    "        steps = g[0][0]\n",
    "                g[0][1] g[1][0]\n",
    "                g[2][0] g[1][1] g[0][2]\n",
    "                g[1][2] g[2][1]\n",
    "                g[2][2]\n",
    "        3x4\n",
    "        \n",
    "        [\n",
    "        [1, 2, 3, 4],\n",
    "        [5, 6, 7, 8],\n",
    "        [9,10,11,12]\n",
    "        ]\n",
    "\n",
    "        stesp = \n",
    "        iterate alternatively from [0 to step][len(matrix)-step to 0]\n",
    "                g[0][0]\n",
    "                g[0][1] g[1][0]\n",
    "                g[2][0] g[1][1] g[0][2]\n",
    "                \n",
    "        Once step > min(len(matrix), len(matrix[0]))\n",
    "        iterate alternatively from [(step - len(matrix[0])-1) to (len(matrix))][len(matrix[0])-1 to 0]            \n",
    "                g[0][3] g[1][2] g[2][1]\n",
    "                g[2][2] g[1][3]\n",
    "                g[2][3]\n",
    "        \n",
    "        each step has indexes that sum up to corresponding step\n",
    "        number of steps correspond to number of m+n -1\n",
    "        \n",
    "        [\n",
    "        [1, 2, 3, 4, 5, 6],\n",
    "        [7, 8, 9, 10,11,12]\n",
    "        ]\n",
    "        \n",
    "        steps:\n",
    "        iterate on step (0,1,2,3):\n",
    "\n",
    "          0   g[0][0]\n",
    "          1   g[0][1] g[1][0]\n",
    "          \n",
    "  iterate alternatively from g[len(matrix)-1 to 0][step-(len(matrix)-1) to step]\n",
    "          2   g[1][1] g[0][2]\n",
    "          3   g[0][3] g[1][2]\n",
    "          4   g[1][3] g[0][4]\n",
    "             \n",
    "             \n",
    "        [\n",
    "        [1, 2],\n",
    "        [3, 4],\n",
    "        [5, 6],\n",
    "        [7, 8]\n",
    "        ]\n",
    "        \n",
    "          0   g[0][0]\n",
    "          1   g[0][1] g[1][0]\n",
    "          \n",
    "        after min is met\n",
    "          2   g[2][0] g[1][1]\n",
    "          3   g[2][1] g[3][0]\n",
    "          4   g[3][1]\n",
    "          \n",
    "        '''\n",
    "        down = True\n",
    "        nums = []\n",
    "        if matrix == []:\n",
    "            return\n",
    "        long = False\n",
    "        tall = False\n",
    "        if len(matrix)<len(matrix[0]):\n",
    "            long = True\n",
    "        if len(matrix)>len(matrix[0]):\n",
    "            tall = True\n",
    "        for step in range(len(matrix)+len(matrix[0])-2):\n",
    "            if step < min(len(matrix),len(matrix[0])):\n",
    "                for index in range((step if down else 0),(-1 if down else step+1),(-1 if down else 1)):\n",
    "                    nums.append(matrix[index][step-index])\n",
    "            else:\n",
    "                if long:\n",
    "                    if step <= len(matrix[0]):\n",
    "                        end = 0\n",
    "                    else:\n",
    "                        end = step - len(matrix[0]) + 1\n",
    "                    print(end)\n",
    "                    for index in range((len(matrix)-1 if down else end),(end-1 if down else len(matrix)),(-1 if down else 1)):\n",
    "                        print(f'{matrix[index][step-index]}index [{index}] [{step-index}]')\n",
    "                        nums.append(matrix[index][step-index])\n",
    "                elif tall:\n",
    "                    for index in range((len(matrix[0])-1 if down else 0),(-1 if down else len(matrix[0])-1),(-1 if down else 1)):\n",
    "                        nums.append(matrix[step-index][index])\n",
    "                    \n",
    "            print(nums)\n",
    "            down = not down\n",
    "        nums.append(matrix[-1][-1])\n",
    "        print(nums)"
   ]
  },
  {
   "cell_type": "code",
   "execution_count": 73,
   "metadata": {},
   "outputs": [],
   "source": [
    "s= Solution()"
   ]
  },
  {
   "cell_type": "code",
   "execution_count": 75,
   "metadata": {},
   "outputs": [
    {
     "name": "stdout",
     "output_type": "stream",
     "text": [
      "[1]\n",
      "[1, 2, 5]\n",
      "[1, 2, 5, 9, 6, 3]\n",
      "0\n",
      "4index [0] [3]\n",
      "7index [1] [2]\n",
      "10index [2] [1]\n",
      "[1, 2, 5, 9, 6, 3, 4, 7, 10]\n",
      "0\n",
      "11index [2] [2]\n",
      "8index [1] [3]\n"
     ]
    },
    {
     "ename": "IndexError",
     "evalue": "list index out of range",
     "output_type": "error",
     "traceback": [
      "\u001b[0;31m---------------------------------------------------------------------------\u001b[0m",
      "\u001b[0;31mIndexError\u001b[0m                                Traceback (most recent call last)",
      "\u001b[0;32m<ipython-input-75-b67f3f61ca01>\u001b[0m in \u001b[0;36m<module>\u001b[0;34m\u001b[0m\n\u001b[1;32m      2\u001b[0m         \u001b[0;34m[\u001b[0m\u001b[0;36m1\u001b[0m\u001b[0;34m,\u001b[0m \u001b[0;36m2\u001b[0m\u001b[0;34m,\u001b[0m \u001b[0;36m3\u001b[0m\u001b[0;34m,\u001b[0m \u001b[0;36m4\u001b[0m\u001b[0;34m]\u001b[0m\u001b[0;34m,\u001b[0m\u001b[0;34m\u001b[0m\u001b[0;34m\u001b[0m\u001b[0m\n\u001b[1;32m      3\u001b[0m         \u001b[0;34m[\u001b[0m\u001b[0;36m5\u001b[0m\u001b[0;34m,\u001b[0m \u001b[0;36m6\u001b[0m\u001b[0;34m,\u001b[0m \u001b[0;36m7\u001b[0m\u001b[0;34m,\u001b[0m \u001b[0;36m8\u001b[0m\u001b[0;34m]\u001b[0m\u001b[0;34m,\u001b[0m\u001b[0;34m\u001b[0m\u001b[0;34m\u001b[0m\u001b[0m\n\u001b[0;32m----> 4\u001b[0;31m         \u001b[0;34m[\u001b[0m\u001b[0;36m9\u001b[0m\u001b[0;34m,\u001b[0m\u001b[0;36m10\u001b[0m\u001b[0;34m,\u001b[0m\u001b[0;36m11\u001b[0m\u001b[0;34m,\u001b[0m\u001b[0;36m12\u001b[0m\u001b[0;34m]\u001b[0m\u001b[0;34m\u001b[0m\u001b[0;34m\u001b[0m\u001b[0m\n\u001b[0m\u001b[1;32m      5\u001b[0m         ])\n",
      "\u001b[0;32m<ipython-input-72-1bb0c47fc06c>\u001b[0m in \u001b[0;36mfindDiagonalOrder\u001b[0;34m(self, matrix)\u001b[0m\n\u001b[1;32m     91\u001b[0m                     \u001b[0mprint\u001b[0m\u001b[0;34m(\u001b[0m\u001b[0mend\u001b[0m\u001b[0;34m)\u001b[0m\u001b[0;34m\u001b[0m\u001b[0;34m\u001b[0m\u001b[0m\n\u001b[1;32m     92\u001b[0m                     \u001b[0;32mfor\u001b[0m \u001b[0mindex\u001b[0m \u001b[0;32min\u001b[0m \u001b[0mrange\u001b[0m\u001b[0;34m(\u001b[0m\u001b[0;34m(\u001b[0m\u001b[0mlen\u001b[0m\u001b[0;34m(\u001b[0m\u001b[0mmatrix\u001b[0m\u001b[0;34m)\u001b[0m\u001b[0;34m-\u001b[0m\u001b[0;36m1\u001b[0m \u001b[0;32mif\u001b[0m \u001b[0mdown\u001b[0m \u001b[0;32melse\u001b[0m \u001b[0mend\u001b[0m\u001b[0;34m)\u001b[0m\u001b[0;34m,\u001b[0m\u001b[0;34m(\u001b[0m\u001b[0mend\u001b[0m\u001b[0;34m-\u001b[0m\u001b[0;36m1\u001b[0m \u001b[0;32mif\u001b[0m \u001b[0mdown\u001b[0m \u001b[0;32melse\u001b[0m \u001b[0mlen\u001b[0m\u001b[0;34m(\u001b[0m\u001b[0mmatrix\u001b[0m\u001b[0;34m)\u001b[0m\u001b[0;34m)\u001b[0m\u001b[0;34m,\u001b[0m\u001b[0;34m(\u001b[0m\u001b[0;34m-\u001b[0m\u001b[0;36m1\u001b[0m \u001b[0;32mif\u001b[0m \u001b[0mdown\u001b[0m \u001b[0;32melse\u001b[0m \u001b[0;36m1\u001b[0m\u001b[0;34m)\u001b[0m\u001b[0;34m)\u001b[0m\u001b[0;34m:\u001b[0m\u001b[0;34m\u001b[0m\u001b[0;34m\u001b[0m\u001b[0m\n\u001b[0;32m---> 93\u001b[0;31m                         \u001b[0mprint\u001b[0m\u001b[0;34m(\u001b[0m\u001b[0;34mf'{matrix[index][step-index]}index [{index}] [{step-index}]'\u001b[0m\u001b[0;34m)\u001b[0m\u001b[0;34m\u001b[0m\u001b[0;34m\u001b[0m\u001b[0m\n\u001b[0m\u001b[1;32m     94\u001b[0m                         \u001b[0mnums\u001b[0m\u001b[0;34m.\u001b[0m\u001b[0mappend\u001b[0m\u001b[0;34m(\u001b[0m\u001b[0mmatrix\u001b[0m\u001b[0;34m[\u001b[0m\u001b[0mindex\u001b[0m\u001b[0;34m]\u001b[0m\u001b[0;34m[\u001b[0m\u001b[0mstep\u001b[0m\u001b[0;34m-\u001b[0m\u001b[0mindex\u001b[0m\u001b[0;34m]\u001b[0m\u001b[0;34m)\u001b[0m\u001b[0;34m\u001b[0m\u001b[0;34m\u001b[0m\u001b[0m\n\u001b[1;32m     95\u001b[0m                 \u001b[0;32melif\u001b[0m \u001b[0mtall\u001b[0m\u001b[0;34m:\u001b[0m\u001b[0;34m\u001b[0m\u001b[0;34m\u001b[0m\u001b[0m\n",
      "\u001b[0;31mIndexError\u001b[0m: list index out of range"
     ]
    }
   ],
   "source": [
    "s.findDiagonalOrder(        [\n",
    "        [1, 2, 3, 4],\n",
    "        [5, 6, 7, 8],\n",
    "        [9,10,11,12]\n",
    "        ])"
   ]
  },
  {
   "cell_type": "code",
   "execution_count": null,
   "metadata": {},
   "outputs": [],
   "source": []
  }
 ],
 "metadata": {
  "kernelspec": {
   "display_name": "Python 3",
   "language": "python",
   "name": "python3"
  },
  "language_info": {
   "codemirror_mode": {
    "name": "ipython",
    "version": 3
   },
   "file_extension": ".py",
   "mimetype": "text/x-python",
   "name": "python",
   "nbconvert_exporter": "python",
   "pygments_lexer": "ipython3",
   "version": "3.7.7"
  }
 },
 "nbformat": 4,
 "nbformat_minor": 2
}
