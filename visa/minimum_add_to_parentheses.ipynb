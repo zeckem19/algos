{
 "cells": [
  {
   "cell_type": "markdown",
   "metadata": {},
   "source": [
    "https://leetcode.com/problems/minimum-add-to-make-parentheses-valid/"
   ]
  },
  {
   "cell_type": "markdown",
   "metadata": {},
   "source": [
    "Given a string S of '(' and ')' parentheses, we add the minimum number of parentheses ( '(' or ')', and in any positions ) so that the resulting parentheses string is valid.\n",
    "\n",
    "Formally, a parentheses string is valid if and only if:\n",
    "\n",
    "It is the empty string, or\n",
    "It can be written as AB (A concatenated with B), where A and B are valid strings, or\n",
    "It can be written as (A), where A is a valid string.\n",
    "Given a parentheses string, return the minimum number of parentheses we must add to make the resulting string valid.\n",
    "\n",
    " \n",
    "\n",
    "Example 1:\n",
    "\n",
    "Input: \"())\"\n",
    "Output: 1\n",
    "Example 2:\n",
    "\n",
    "Input: \"(((\"\n",
    "Output: 3\n",
    "Example 3:\n",
    "\n",
    "Input: \"()\"\n",
    "Output: 0\n",
    "Example 4:\n",
    "\n",
    "Input: \"()))((\"\n",
    "Output: 4"
   ]
  },
  {
   "cell_type": "code",
   "execution_count": 4,
   "metadata": {},
   "outputs": [],
   "source": [
    "class Solution:\n",
    "    def minAddToMakeValid(self, S: str) -> int:\n",
    "        '''\n",
    "        Stack strategy\n",
    "        1. add opens to stack\n",
    "        2. pop valid closes from stack, otherwise add close to stack\n",
    "        3. count remaining in stack\n",
    "        '''\n",
    "        stack = []\n",
    "        for b in S:\n",
    "            if b == '(':\n",
    "                stack.append(b)\n",
    "            elif b == ')':\n",
    "                if len(stack) == 0:\n",
    "                    stack.append(b)\n",
    "                elif stack[-1] == '(':\n",
    "                    stack.pop()\n",
    "                else:\n",
    "                    stack.append(b)\n",
    "        return len(stack)\n",
    "        "
   ]
  },
  {
   "cell_type": "code",
   "execution_count": 5,
   "metadata": {},
   "outputs": [],
   "source": [
    "s = Solution()"
   ]
  },
  {
   "cell_type": "code",
   "execution_count": 7,
   "metadata": {},
   "outputs": [
    {
     "data": {
      "text/plain": [
       "3"
      ]
     },
     "execution_count": 7,
     "metadata": {},
     "output_type": "execute_result"
    }
   ],
   "source": [
    "s.minAddToMakeValid(\"(((\")"
   ]
  },
  {
   "cell_type": "code",
   "execution_count": null,
   "metadata": {},
   "outputs": [],
   "source": []
  }
 ],
 "metadata": {
  "kernelspec": {
   "display_name": "Python 3",
   "language": "python",
   "name": "python3"
  },
  "language_info": {
   "codemirror_mode": {
    "name": "ipython",
    "version": 3
   },
   "file_extension": ".py",
   "mimetype": "text/x-python",
   "name": "python",
   "nbconvert_exporter": "python",
   "pygments_lexer": "ipython3",
   "version": "3.7.7"
  }
 },
 "nbformat": 4,
 "nbformat_minor": 2
}
