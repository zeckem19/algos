{
 "cells": [
  {
   "cell_type": "markdown",
   "metadata": {},
   "source": [
    "https://leetcode.com/problems/number-of-islands/\n",
    "    "
   ]
  },
  {
   "cell_type": "markdown",
   "metadata": {},
   "source": [
    "Given an m x n 2d grid map of '1's (land) and '0's (water), return the number of islands.\n",
    "\n",
    "An island is surrounded by water and is formed by connecting adjacent lands horizontally or vertically. You may assume all four edges of the grid are all surrounded by water.\n",
    "\n",
    " \n",
    "\n",
    "Example 1:\n",
    "\n",
    "Input: grid = [\n",
    "  [\"1\",\"1\",\"1\",\"1\",\"0\"],\n",
    "  [\"1\",\"1\",\"0\",\"1\",\"0\"],\n",
    "  [\"1\",\"1\",\"0\",\"0\",\"0\"],\n",
    "  [\"0\",\"0\",\"0\",\"0\",\"0\"]\n",
    "]\n",
    "Output: 1"
   ]
  },
  {
   "cell_type": "code",
   "execution_count": 39,
   "metadata": {},
   "outputs": [],
   "source": [
    "from typing import List\n",
    "class Solution:\n",
    "\n",
    "    grid = None\n",
    "    \n",
    "    def seek(self,r,c):\n",
    "        if self.grid[r][c] == '1':\n",
    "            self.grid[r][c] = '2'\n",
    "            # Up\n",
    "            if r > 0:\n",
    "                self.seek(r-1,c)\n",
    "            #down\n",
    "            if r < len(self.grid)-1:\n",
    "                self.seek(r+1,c)\n",
    "                \n",
    "            #left\n",
    "            if c > 0:\n",
    "                self.seek(r,c-1)\n",
    "                \n",
    "            #right\n",
    "            if c < len(self.grid[0])-1:\n",
    "                self.seek(r,c+1)\n",
    "                \n",
    "        else:\n",
    "            return\n",
    "        \n",
    "        \n",
    "    def numIslands(self, grid: List[List[str]]) -> int:\n",
    "        '''\n",
    "        Strategy:\n",
    "        1. iterate through 2d array\n",
    "        2. if element is 1 add to count, start DFS for island:\n",
    "            a. for each discovered 1 node, mark it as 2\n",
    "            b. for each discoverd 0 node return \n",
    "            c. search in 4 directions, up down left right\n",
    "        3. return count\n",
    "        '''\n",
    "        self.grid = grid\n",
    "        count = 0\n",
    "        for r in range(len(grid)):\n",
    "            for c in range(len(grid[0])):\n",
    "                if self.grid[r][c] == '1':\n",
    "                    count+=1\n",
    "                    self.seek(r,c)\n",
    "        print(self.grid)\n",
    "        return count\n",
    "        "
   ]
  },
  {
   "cell_type": "code",
   "execution_count": 40,
   "metadata": {},
   "outputs": [],
   "source": [
    "\n",
    "s = Solution()"
   ]
  },
  {
   "cell_type": "code",
   "execution_count": 41,
   "metadata": {},
   "outputs": [],
   "source": [
    "grid = [\n",
    "  [\"1\",\"1\",\"0\",\"0\",\"0\"],\n",
    "  [\"1\",\"1\",\"0\",\"0\",\"0\"],\n",
    "  [\"0\",\"0\",\"1\",\"0\",\"0\"],\n",
    "  [\"0\",\"0\",\"0\",\"1\",\"1\"]\n",
    "]"
   ]
  },
  {
   "cell_type": "code",
   "execution_count": 42,
   "metadata": {},
   "outputs": [
    {
     "name": "stdout",
     "output_type": "stream",
     "text": [
      "[['2', '2', '0', '0', '0'], ['2', '2', '0', '0', '0'], ['0', '0', '2', '0', '0'], ['0', '0', '0', '2', '2']]\n"
     ]
    },
    {
     "data": {
      "text/plain": [
       "3"
      ]
     },
     "execution_count": 42,
     "metadata": {},
     "output_type": "execute_result"
    }
   ],
   "source": [
    "\n",
    "s.numIslands(grid)"
   ]
  },
  {
   "cell_type": "code",
   "execution_count": null,
   "metadata": {},
   "outputs": [],
   "source": []
  }
 ],
 "metadata": {
  "kernelspec": {
   "display_name": "Python 3",
   "language": "python",
   "name": "python3"
  },
  "language_info": {
   "codemirror_mode": {
    "name": "ipython",
    "version": 3
   },
   "file_extension": ".py",
   "mimetype": "text/x-python",
   "name": "python",
   "nbconvert_exporter": "python",
   "pygments_lexer": "ipython3",
   "version": "3.7.7"
  }
 },
 "nbformat": 4,
 "nbformat_minor": 2
}
