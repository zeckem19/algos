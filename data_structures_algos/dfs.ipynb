{
 "cells": [
  {
   "cell_type": "code",
   "execution_count": null,
   "metadata": {},
   "outputs": [],
   "source": [
    "class Node:\n",
    "    def __init__(self,name):\n",
    "        self.name = name\n",
    "        self.neighbours = []\n",
    "        self.visited = False\n",
    "\n",
    "class dfs:\n",
    "    def traverse(self, startNode):\n",
    "        stack = []\n",
    "        stack.append(startNode)\n",
    "        \n",
    "        while not stack:\n",
    "            node = stack.pop()\n",
    "            node.visited = True\n",
    "            for n in node.neighbours:\n",
    "                if n.visited == False:\n",
    "                    stack.append(n)\n",
    "\n",
    "    def traverse_rec(self, node):\n",
    "        node.visited = True\n",
    "        for n in node.neighbours:\n",
    "            if n.visited == False:\n",
    "                traverse_rec(n)\n",
    "        return\n",
    "                \n",
    "        "
   ]
  }
 ],
 "metadata": {
  "kernelspec": {
   "display_name": "Python 3",
   "language": "python",
   "name": "python3"
  },
  "language_info": {
   "codemirror_mode": {
    "name": "ipython",
    "version": 3
   },
   "file_extension": ".py",
   "mimetype": "text/x-python",
   "name": "python",
   "nbconvert_exporter": "python",
   "pygments_lexer": "ipython3",
   "version": "3.7.7"
  }
 },
 "nbformat": 4,
 "nbformat_minor": 2
}
