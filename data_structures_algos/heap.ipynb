{
 "cells": [
  {
   "cell_type": "code",
   "execution_count": 81,
   "metadata": {},
   "outputs": [],
   "source": [
    "CAPACITY = 10\n",
    "\n",
    "class Heap:\n",
    "    def __init__(self):\n",
    "        self.heap = [0] * CAPACITY\n",
    "        self.size = 0\n",
    "        \n",
    "    def insert(self, data):\n",
    "        if self.size <= CAPACITY:\n",
    "            self.heap[self.size] = data\n",
    "            self.check_violation(self.size)\n",
    "            self.size += 1\n",
    "        else:\n",
    "            print('heap full')\n",
    "    \n",
    "    def check_violation(self, size):\n",
    "        ind = size\n",
    "        while True:\n",
    "            if ind == 0:\n",
    "                break\n",
    "                \n",
    "            if ind %2 == 0:\n",
    "                parent = int((ind - 2)/2)\n",
    "            else:\n",
    "                parent = int((ind - 1)/2)\n",
    "                \n",
    "            if self.heap[parent] < self.heap[ind]:\n",
    "                temp = self.heap[parent]\n",
    "                self.heap[parent] = self.heap[ind]\n",
    "                self.heap[ind] = temp\n",
    "            else:\n",
    "                break\n",
    "            \n",
    "            ind = parent\n",
    "    \n",
    "    def print_heap(self):\n",
    "        print(self.heap)\n",
    "\n",
    "    def remove_top(self):\n",
    "        top = self.heap[0]\n",
    "        self.heap[0] = self.heap[self.size-1]\n",
    "        self.heap[self.size-1] = 0\n",
    "        \n",
    "        self.fix_from_top(0)\n",
    "        self.size -= 1\n",
    "        return top\n",
    "    \n",
    "    def fix_from_top(self, ind):\n",
    "        left = 2*ind+1\n",
    "        right = 2*ind+2\n",
    "        if left>=self.size or right >=self.size:\n",
    "            return\n",
    "        if self.heap[ind]<self.heap[left] or self.heap[ind]<self.heap[right]:\n",
    "            swap_target = left if self.heap[left]> self.heap[right] else right\n",
    "        \n",
    "            self.heap[ind],self.heap[swap_target] = self.heap[swap_target], self.heap[ind]\n",
    "            self.fix_from_top(swap_target)\n",
    "        else:\n",
    "            return"
   ]
  },
  {
   "cell_type": "code",
   "execution_count": 82,
   "metadata": {},
   "outputs": [],
   "source": [
    "h = Heap()"
   ]
  },
  {
   "cell_type": "code",
   "execution_count": 83,
   "metadata": {},
   "outputs": [],
   "source": [
    "h.insert(3)\n",
    "h.insert(4)\n",
    "h.insert(10)\n",
    "h.insert(2)\n",
    "h.insert(20)"
   ]
  },
  {
   "cell_type": "code",
   "execution_count": 84,
   "metadata": {},
   "outputs": [],
   "source": [
    "h.insert(5)"
   ]
  },
  {
   "cell_type": "code",
   "execution_count": 85,
   "metadata": {},
   "outputs": [],
   "source": [
    "h.insert(1)"
   ]
  },
  {
   "cell_type": "code",
   "execution_count": 88,
   "metadata": {},
   "outputs": [
    {
     "name": "stdout",
     "output_type": "stream",
     "text": [
      "[10, 3, 5, 2, 1, 4, 0, 0, 0, 0]\n"
     ]
    }
   ],
   "source": [
    "h.print_heap()"
   ]
  },
  {
   "cell_type": "code",
   "execution_count": 87,
   "metadata": {},
   "outputs": [
    {
     "data": {
      "text/plain": [
       "20"
      ]
     },
     "execution_count": 87,
     "metadata": {},
     "output_type": "execute_result"
    }
   ],
   "source": [
    "h.remove_top()"
   ]
  },
  {
   "cell_type": "code",
   "execution_count": null,
   "metadata": {},
   "outputs": [],
   "source": []
  }
 ],
 "metadata": {
  "kernelspec": {
   "display_name": "Python 3",
   "language": "python",
   "name": "python3"
  },
  "language_info": {
   "codemirror_mode": {
    "name": "ipython",
    "version": 3
   },
   "file_extension": ".py",
   "mimetype": "text/x-python",
   "name": "python",
   "nbconvert_exporter": "python",
   "pygments_lexer": "ipython3",
   "version": "3.7.7"
  }
 },
 "nbformat": 4,
 "nbformat_minor": 2
}
