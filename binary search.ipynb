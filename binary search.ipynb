{
 "cells": [
  {
   "cell_type": "code",
   "execution_count": 32,
   "metadata": {},
   "outputs": [],
   "source": [
    "def bins(sorted_list, target, left, right):\n",
    "    if right < left:\n",
    "        print('''Not found''')\n",
    "        return -1\n",
    "    idx = left + ((right-left)//2)\n",
    "    print(idx)\n",
    "    if sorted_list[idx] == target:\n",
    "        print(f'Found at : {idx}')\n",
    "        return \n",
    "    elif sorted_list[idx] > target:\n",
    "        bins(sorted_list, target, left, idx-1)\n",
    "        \n",
    "    else:\n",
    "        bins(sorted_list, target, idx+1, right)"
   ]
  },
  {
   "cell_type": "code",
   "execution_count": 34,
   "metadata": {},
   "outputs": [
    {
     "name": "stdout",
     "output_type": "stream",
     "text": [
      "4\n",
      "1\n",
      "0\n",
      "Not found\n"
     ]
    }
   ],
   "source": [
    "ad = [1,2,3,4,5,6,7,8,9,10]\n",
    "bins(ad,-1,0,len(ad)-1)\n"
   ]
  },
  {
   "cell_type": "code",
   "execution_count": 3,
   "metadata": {},
   "outputs": [
    {
     "data": {
      "text/plain": [
       "[1, 2]"
      ]
     },
     "execution_count": 3,
     "metadata": {},
     "output_type": "execute_result"
    }
   ],
   "source": [
    "ad[:2]\n"
   ]
  },
  {
   "cell_type": "code",
   "execution_count": null,
   "metadata": {},
   "outputs": [],
   "source": []
  }
 ],
 "metadata": {
  "kernelspec": {
   "display_name": "Python 3",
   "language": "python",
   "name": "python3"
  },
  "language_info": {
   "codemirror_mode": {
    "name": "ipython",
    "version": 3
   },
   "file_extension": ".py",
   "mimetype": "text/x-python",
   "name": "python",
   "nbconvert_exporter": "python",
   "pygments_lexer": "ipython3",
   "version": "3.6.9"
  }
 },
 "nbformat": 4,
 "nbformat_minor": 4
}
