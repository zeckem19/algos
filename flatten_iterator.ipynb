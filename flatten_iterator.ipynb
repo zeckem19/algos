{
 "cells": [
  {
   "cell_type": "markdown",
   "metadata": {},
   "source": [
    "Given a nested list of integers, implement an iterator to flatten it.\n",
    "\n",
    "Each element is either an integer, or a list -- whose elements may also be integers or other lists.\n",
    "\n",
    "Example 1:\n",
    "\n",
    "Input: [[1,1],2,[1,1]]\n",
    "Output: [1,1,2,1,1]\n",
    "Explanation: By calling next repeatedly until hasNext returns false, \n",
    "             the order of elements returned by next should be: [1,1,2,1,1].\n",
    "Example 2:\n",
    "\n",
    "Input: [1,[4,[6]]]\n",
    "Output: [1,4,6]\n",
    "Explanation: By calling next repeatedly until hasNext returns false, \n",
    "             the order of elements returned by next should be: [1,4,6]."
   ]
  },
  {
   "cell_type": "code",
   "execution_count": null,
   "metadata": {},
   "outputs": [],
   "source": [
    "# \"\"\"\n",
    "# This is the interface that allows for creating nested lists.\n",
    "# You should not implement it, or speculate about its implementation\n",
    "# \"\"\"\n",
    "#class NestedInteger:\n",
    "#    def isInteger(self) -> bool:\n",
    "#        \"\"\"\n",
    "#        @return True if this NestedInteger holds a single integer, rather than a nested list.\n",
    "#        \"\"\"\n",
    "#\n",
    "#    def getInteger(self) -> int:\n",
    "#        \"\"\"\n",
    "#        @return the single integer that this NestedInteger holds, if it holds a single integer\n",
    "#        Return None if this NestedInteger holds a nested list\n",
    "#        \"\"\"\n",
    "#\n",
    "#    def getList(self) -> [NestedInteger]:\n",
    "#        \"\"\"\n",
    "#        @return the nested list that this NestedInteger holds, if it holds a nested list\n",
    "#        Return None if this NestedInteger holds a single integer\n",
    "#        \"\"\"\n",
    "\n",
    "class NestedIterator:\n",
    "    def __init__(self, nestedList: [NestedInteger]):\n",
    "        \n",
    "    \n",
    "    def next(self) -> int:\n",
    "        \n",
    "    \n",
    "    def hasNext(self) -> bool:\n",
    "         \n",
    "\n",
    "# Your NestedIterator object will be instantiated and called as such:\n",
    "# i, v = NestedIterator(nestedList), []\n",
    "# while i.hasNext(): v.append(i.next())"
   ]
  }
 ],
 "metadata": {
  "kernelspec": {
   "display_name": "Python 3",
   "language": "python",
   "name": "python3"
  },
  "language_info": {
   "codemirror_mode": {
    "name": "ipython",
    "version": 3
   },
   "file_extension": ".py",
   "mimetype": "text/x-python",
   "name": "python",
   "nbconvert_exporter": "python",
   "pygments_lexer": "ipython3",
   "version": "3.7.3"
  }
 },
 "nbformat": 4,
 "nbformat_minor": 2
}
