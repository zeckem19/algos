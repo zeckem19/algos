{
 "cells": [
  {
   "cell_type": "code",
   "execution_count": null,
   "metadata": {},
   "outputs": [],
   "source": []
  },
  {
   "cell_type": "code",
   "execution_count": null,
   "metadata": {},
   "outputs": [],
   "source": [
    "class Solution:\n",
    "    def merge(self, intervals: List[List[int]]) -> List[List[int]]:\n",
    "        lookback_low = {intervals[0][0]: intervals[0][1]}\n",
    "        lookback_high = {intervals[0][1]: intervals[0][0]}\n",
    "        # over lap cases:\n",
    "#         case 1: incoming upper is greater than lower and smaller than upper  \n",
    "#         case 2: if incoming lower is greater than exister lower and smaller than existing upper\n",
    "\n",
    "        for interval in intervals:\n",
    "            if interval[0]:\n",
    "                \n",
    "                    if inte[0] <= lookback[rec]:\n",
    "                        continue\n",
    "                    else\n",
    "            \n",
    "            \n",
    "            \n",
    "            if inte[0] not in lookback:\n",
    "                lookback[inte[0]] = inte[1]\n",
    "            else:\n",
    "                if "
   ]
  },
  {
   "cell_type": "code",
   "execution_count": null,
   "metadata": {},
   "outputs": [],
   "source": []
  },
  {
   "cell_type": "code",
   "execution_count": null,
   "metadata": {},
   "outputs": [],
   "source": []
  },
  {
   "cell_type": "code",
   "execution_count": null,
   "metadata": {},
   "outputs": [],
   "source": []
  }
 ],
 "metadata": {
  "kernelspec": {
   "display_name": "Python 3",
   "language": "python",
   "name": "python3"
  },
  "language_info": {
   "codemirror_mode": {
    "name": "ipython",
    "version": 3
   },
   "file_extension": ".py",
   "mimetype": "text/x-python",
   "name": "python",
   "nbconvert_exporter": "python",
   "pygments_lexer": "ipython3",
   "version": "3.7.7"
  }
 },
 "nbformat": 4,
 "nbformat_minor": 2
}
