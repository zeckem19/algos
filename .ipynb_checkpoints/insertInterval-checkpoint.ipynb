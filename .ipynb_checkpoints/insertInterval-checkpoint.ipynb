{
 "cells": [
  {
   "cell_type": "code",
   "execution_count": null,
   "metadata": {},
   "outputs": [],
   "source": []
  },
  {
   "cell_type": "code",
   "execution_count": 7,
   "metadata": {},
   "outputs": [],
   "source": [
    "import heapq\n",
    "from typing import List\n",
    "class Solution:\n",
    "    def merge(self, intervals: List[List[int]]) -> List[List[int]]:\n",
    "        result = [[intervals[0][1] - intervals[0][0],intervals[0][0],intervals[0][1]]]\n",
    "        # over lap cases:\n",
    "        # case 1: incoming upper is greater than lower and smaller than upper  \n",
    "        # case 2: if incoming lower is greater than existing lower and smaller than existing upper\n",
    "        # case 3: No overlap- add interval into processed intervals\n",
    "        for ind in range(1, len(intervals)):\n",
    "            print(result)\n",
    "            incoming_upper = intervals[ind][1]\n",
    "            incoming_lower = intervals[ind][0]\n",
    "            print(f'{incoming_lower},{incoming_upper}')\n",
    "            added = False\n",
    "            for result_index, (_, lower, upper) in enumerate(result):\n",
    "                if incoming_upper >= upper and incoming_lower <= lower:\n",
    "                    added = True\n",
    "                    break\n",
    "                elif incoming_upper >= lower and incoming_upper <= upper:\n",
    "                    #extend range downwards if its lower\n",
    "                    added = True\n",
    "                    result[result_index][1] = min(incoming_lower, lower)\n",
    "                    result[result_index][2] = max(incoming_upper, upper)\n",
    "                    break\n",
    "                elif incoming_lower >= lower and incoming_lower <= upper:\n",
    "                    #extend range upwards\n",
    " \n",
    "                    added = True\n",
    "                    result[result_index][1] = min(incoming_lower, lower)\n",
    "                    result[result_index][2] = max(incoming_upper, upper)\n",
    "                    break\n",
    "                elif incoming_lower < lower and incoming_upper> upper:\n",
    "                    added = True\n",
    "                    result[result_index][1] = min(incoming_lower, lower)\n",
    "                    result[result_index][2] = max(incoming_upper, upper)\n",
    "                    break\n",
    "            if not added:\n",
    "                heapq.heappush(result, [incoming_upper-incoming_lower,incoming_lower,incoming_upper])\n",
    "            \n",
    "        res2 = []\n",
    "        for i,j,k in result:\n",
    "            res2.append([j,k])\n",
    "        \n",
    "        return sorted(res2)"
   ]
  },
  {
   "cell_type": "code",
   "execution_count": 8,
   "metadata": {},
   "outputs": [
    {
     "name": "stdout",
     "output_type": "stream",
     "text": [
      "[[3, 1, 4]]\n",
      "1,1\n"
     ]
    },
    {
     "data": {
      "text/plain": [
       "[[1, 4]]"
      ]
     },
     "execution_count": 8,
     "metadata": {},
     "output_type": "execute_result"
    }
   ],
   "source": [
    "sol = Solution()\n",
    "sol.merge([[1,4],[1,5]])"
   ]
  },
  {
   "cell_type": "code",
   "execution_count": 2,
   "metadata": {},
   "outputs": [],
   "source": [
    "abc = [1,2,3]\n",
    "\n",
    "for i in abc:\n",
    "    i = 4"
   ]
  },
  {
   "cell_type": "code",
   "execution_count": 3,
   "metadata": {},
   "outputs": [
    {
     "data": {
      "text/plain": [
       "[1, 2, 3]"
      ]
     },
     "execution_count": 3,
     "metadata": {},
     "output_type": "execute_result"
    }
   ],
   "source": [
    "abc"
   ]
  },
  {
   "cell_type": "code",
   "execution_count": 4,
   "metadata": {},
   "outputs": [],
   "source": [
    "abc = [[3,4],[2,3]]"
   ]
  },
  {
   "cell_type": "code",
   "execution_count": 5,
   "metadata": {},
   "outputs": [
    {
     "data": {
      "text/plain": [
       "[[2, 3], [3, 4]]"
      ]
     },
     "execution_count": 5,
     "metadata": {},
     "output_type": "execute_result"
    }
   ],
   "source": [
    "sorted(abc)"
   ]
  },
  {
   "cell_type": "code",
   "execution_count": null,
   "metadata": {},
   "outputs": [],
   "source": []
  }
 ],
 "metadata": {
  "kernelspec": {
   "display_name": "Python 3",
   "language": "python",
   "name": "python3"
  },
  "language_info": {
   "codemirror_mode": {
    "name": "ipython",
    "version": 3
   },
   "file_extension": ".py",
   "mimetype": "text/x-python",
   "name": "python",
   "nbconvert_exporter": "python",
   "pygments_lexer": "ipython3",
   "version": "3.7.3"
  }
 },
 "nbformat": 4,
 "nbformat_minor": 2
}
