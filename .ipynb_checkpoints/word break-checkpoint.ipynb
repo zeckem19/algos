{
 "cells": [
  {
   "cell_type": "markdown",
   "metadata": {},
   "source": [
    "String getSentence(String text, Set<String> dictionary);\n",
    "\n",
    "// text is a string without spaces, you need to insert spaces into text, so each word seperated by the space in the resulting string exists in the dictionary, return the resulting string\n",
    "\n",
    "// running time has to be at least as good as O(n)\n",
    "\n",
    "// getSentence(\"iamastudentfromwaterloo\", {\"from, \"waterloo\", \"hi\", \"am\", \"yes\", \"i\", \"a\", \"student\"}) -> \"i am a student from waterloo\""
   ]
  },
  {
   "cell_type": "code",
   "execution_count": 45,
   "metadata": {},
   "outputs": [],
   "source": [
    "class sol:\n",
    "    def __init__(self, dic):\n",
    "        self.dic = dic\n",
    "        \n",
    "    def find_in_dic(self, string):\n",
    "        count = 0\n",
    "        for word in list(self.dic):\n",
    "            if word.find(string) == 0:      \n",
    "                count += 1\n",
    "        return count\n",
    "                \n",
    "        \n",
    "    def getSentence(self,text) -> str:\n",
    "        ''' Naive solution: 1. Read text incrementally and check if instance exists in dictionary\n",
    "                            2. If instance exists, append it to output string, remove it and continue\n",
    "                            3. Might need to repeat from the back due to clashses e.g.  IamTom {'I','a','am','to','Tom'}\n",
    "                            4. Might not work with palindromes like 'noon'\n",
    "            Faster solution: tries?\n",
    "                            1. Add words into trie.\n",
    "                            2. iterate incrementally, if it reaches a termination, that word can be taken as is\n",
    "                            3. if word isn't terminated, continue until longest string is possible\n",
    "            Complete solution: recursion + backtracking if multiple solutions exist\n",
    "        '''\n",
    "        cur = ''\n",
    "        output = []\n",
    "        for index, char in enumerate(text):\n",
    "            cur += char\n",
    "            print(cur)\n",
    "            if index == len(text)-1:\n",
    "                \n",
    "                if cur not in self.dic:\n",
    "                    return False\n",
    "                else:\n",
    "                    output.append(cur)\n",
    "                    return output\n",
    "                \n",
    "            if cur in self.dic:\n",
    "                \n",
    "                if self.find_in_dic(cur) == 1:\n",
    "                    output.append(cur)\n",
    "                    cur = ''\n",
    "                    print(output)\n",
    "                else:\n",
    "                    #fork recursively\n",
    "                    # need to make multiple calls for each possible output\n",
    "                    result = self.getSentence(text[index+1:])\n",
    "                    if result:\n",
    "                        output.extend(result)\n",
    "                        return output\n",
    "                    \n",
    "            \n",
    " \n",
    "    "
   ]
  },
  {
   "cell_type": "code",
   "execution_count": 48,
   "metadata": {},
   "outputs": [],
   "source": [
    "s= sol({'i','no','say','noon','to'})"
   ]
  },
  {
   "cell_type": "code",
   "execution_count": 49,
   "metadata": {},
   "outputs": [
    {
     "name": "stdout",
     "output_type": "stream",
     "text": [
      "i\n",
      "['i']\n",
      "s\n",
      "sa\n",
      "say\n",
      "['i', 'say']\n",
      "n\n",
      "no\n",
      "t\n",
      "to\n",
      "['to']\n",
      "n\n",
      "no\n",
      "o\n",
      "on\n",
      "noo\n",
      "noon\n"
     ]
    },
    {
     "data": {
      "text/plain": [
       "['i', 'say', 'to', 'noon']"
      ]
     },
     "execution_count": 49,
     "metadata": {},
     "output_type": "execute_result"
    }
   ],
   "source": [
    "s.getSentence('isaynotonoon')"
   ]
  },
  {
   "cell_type": "code",
   "execution_count": 38,
   "metadata": {},
   "outputs": [
    {
     "data": {
      "text/plain": [
       "3"
      ]
     },
     "execution_count": 38,
     "metadata": {},
     "output_type": "execute_result"
    }
   ],
   "source": [
    "s='qwe'\n",
    "len(s)\n",
    "# for i,v in enumerate(s):\n",
    "#     print(i)"
   ]
  },
  {
   "cell_type": "code",
   "execution_count": 11,
   "metadata": {},
   "outputs": [
    {
     "data": {
      "text/plain": [
       "''"
      ]
     },
     "execution_count": 11,
     "metadata": {},
     "output_type": "execute_result"
    }
   ],
   "source": [
    "s[3:]"
   ]
  },
  {
   "cell_type": "code",
   "execution_count": 2,
   "metadata": {},
   "outputs": [],
   "source": [
    "s += 'wer'"
   ]
  },
  {
   "cell_type": "code",
   "execution_count": 3,
   "metadata": {},
   "outputs": [
    {
     "data": {
      "text/plain": [
       "'qwewer'"
      ]
     },
     "execution_count": 3,
     "metadata": {},
     "output_type": "execute_result"
    }
   ],
   "source": [
    "s"
   ]
  },
  {
   "cell_type": "code",
   "execution_count": 4,
   "metadata": {},
   "outputs": [
    {
     "data": {
      "text/plain": [
       "True"
      ]
     },
     "execution_count": 4,
     "metadata": {},
     "output_type": "execute_result"
    }
   ],
   "source": [
    "'qwe' in 'qwee'"
   ]
  },
  {
   "cell_type": "code",
   "execution_count": 6,
   "metadata": {},
   "outputs": [
    {
     "data": {
      "text/plain": [
       "True"
      ]
     },
     "execution_count": 6,
     "metadata": {},
     "output_type": "execute_result"
    }
   ],
   "source": [
    "'qwe' in ['qwe']"
   ]
  },
  {
   "cell_type": "code",
   "execution_count": 15,
   "metadata": {},
   "outputs": [],
   "source": [
    "lst = [1,2,3]"
   ]
  },
  {
   "cell_type": "code",
   "execution_count": 16,
   "metadata": {},
   "outputs": [],
   "source": [
    "lst2 = [3,4,5]"
   ]
  },
  {
   "cell_type": "code",
   "execution_count": 17,
   "metadata": {},
   "outputs": [],
   "source": [
    "lst.extend(lst2)"
   ]
  },
  {
   "cell_type": "code",
   "execution_count": 18,
   "metadata": {},
   "outputs": [
    {
     "data": {
      "text/plain": [
       "[1, 2, 3, 3, 4, 5]"
      ]
     },
     "execution_count": 18,
     "metadata": {},
     "output_type": "execute_result"
    }
   ],
   "source": [
    "lst"
   ]
  },
  {
   "cell_type": "code",
   "execution_count": null,
   "metadata": {},
   "outputs": [],
   "source": []
  }
 ],
 "metadata": {
  "kernelspec": {
   "display_name": "Python 3",
   "language": "python",
   "name": "python3"
  },
  "language_info": {
   "codemirror_mode": {
    "name": "ipython",
    "version": 3
   },
   "file_extension": ".py",
   "mimetype": "text/x-python",
   "name": "python",
   "nbconvert_exporter": "python",
   "pygments_lexer": "ipython3",
   "version": "3.6.9"
  }
 },
 "nbformat": 4,
 "nbformat_minor": 4
}
