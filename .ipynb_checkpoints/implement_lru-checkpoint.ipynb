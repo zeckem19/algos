{
 "cells": [
  {
   "cell_type": "markdown",
   "metadata": {},
   "source": [
    "Design a data structure that follows the constraints of a Least Recently Used (LRU) cache.\n",
    "\n",
    "Implement the LRUCache class:\n",
    "\n",
    "LRUCache(int capacity) Initialize the LRU cache with positive size capacity.\n",
    "int get(int key) Return the value of the key if the key exists, otherwise return -1.\n",
    "void put(int key, int value) Update the value of the key if the key exists. Otherwise, add the key-value pair to the cache. If the number of keys exceeds the capacity from this operation, evict the least recently used key.\n",
    "Follow up:\n",
    "Could you do get and put in O(1) time complexity?\n",
    "\n",
    " \n",
    "\n",
    "Example 1:\n",
    "\n",
    "Input\n",
    "[\"LRUCache\", \"put\", \"put\", \"get\", \"put\", \"get\", \"put\", \"get\", \"get\", \"get\"]\n",
    "[[2], [1, 1], [2, 2], [1], [3, 3], [2], [4, 4], [1], [3], [4]]\n",
    "Output\n",
    "[null, null, null, 1, null, -1, null, -1, 3, 4]\n",
    "\n",
    "Explanation\n",
    "LRUCache lRUCache = new LRUCache(2);\n",
    "lRUCache.put(1, 1); // cache is {1=1}\n",
    "lRUCache.put(2, 2); // cache is {1=1, 2=2}\n",
    "lRUCache.get(1);    // return 1\n",
    "lRUCache.put(3, 3); // LRU key was 2, evicts key 2, cache is {1=1, 3=3}\n",
    "lRUCache.get(2);    // returns -1 (not found)\n",
    "lRUCache.put(4, 4); // LRU key was 1, evicts key 1, cache is {4=4, 3=3}\n",
    "lRUCache.get(1);    // return -1 (not found)\n",
    "lRUCache.get(3);    // return 3\n",
    "lRUCache.get(4);    // return 4\n",
    " \n",
    "\n",
    "Constraints:\n",
    "\n",
    "1 <= capacity <= 3000\n",
    "0 <= key <= 3000\n",
    "0 <= value <= 104\n",
    "At most 3 * 104 calls will be made to get and put."
   ]
  },
  {
   "cell_type": "code",
   "execution_count": 1,
   "metadata": {},
   "outputs": [],
   "source": [
    "from collections import OrderedDict"
   ]
  },
  {
   "cell_type": "code",
   "execution_count": 2,
   "metadata": {},
   "outputs": [],
   "source": [
    "a = OrderedDict([])"
   ]
  },
  {
   "cell_type": "code",
   "execution_count": 12,
   "metadata": {},
   "outputs": [],
   "source": [
    "a.move_to_end(1)"
   ]
  },
  {
   "cell_type": "code",
   "execution_count": 13,
   "metadata": {},
   "outputs": [
    {
     "data": {
      "text/plain": [
       "OrderedDict([(2, 2), (1, 1)])"
      ]
     },
     "execution_count": 13,
     "metadata": {},
     "output_type": "execute_result"
    }
   ],
   "source": [
    "a"
   ]
  },
  {
   "cell_type": "code",
   "execution_count": 11,
   "metadata": {
    "collapsed": true
   },
   "outputs": [
    {
     "data": {
      "text/plain": [
       "['__class__',\n",
       " '__contains__',\n",
       " '__delattr__',\n",
       " '__delitem__',\n",
       " '__dict__',\n",
       " '__dir__',\n",
       " '__doc__',\n",
       " '__eq__',\n",
       " '__format__',\n",
       " '__ge__',\n",
       " '__getattribute__',\n",
       " '__getitem__',\n",
       " '__gt__',\n",
       " '__hash__',\n",
       " '__init__',\n",
       " '__init_subclass__',\n",
       " '__iter__',\n",
       " '__le__',\n",
       " '__len__',\n",
       " '__lt__',\n",
       " '__ne__',\n",
       " '__new__',\n",
       " '__reduce__',\n",
       " '__reduce_ex__',\n",
       " '__repr__',\n",
       " '__reversed__',\n",
       " '__setattr__',\n",
       " '__setitem__',\n",
       " '__sizeof__',\n",
       " '__str__',\n",
       " '__subclasshook__',\n",
       " 'clear',\n",
       " 'copy',\n",
       " 'fromkeys',\n",
       " 'get',\n",
       " 'items',\n",
       " 'keys',\n",
       " 'move_to_end',\n",
       " 'pop',\n",
       " 'popitem',\n",
       " 'setdefault',\n",
       " 'update',\n",
       " 'values']"
      ]
     },
     "execution_count": 11,
     "metadata": {},
     "output_type": "execute_result"
    }
   ],
   "source": [
    "dir(a)"
   ]
  },
  {
   "cell_type": "code",
   "execution_count": 41,
   "metadata": {},
   "outputs": [
    {
     "data": {
      "text/plain": [
       "2"
      ]
     },
     "execution_count": 41,
     "metadata": {},
     "output_type": "execute_result"
    }
   ],
   "source": [
    "len(a)"
   ]
  },
  {
   "cell_type": "code",
   "execution_count": 10,
   "metadata": {},
   "outputs": [
    {
     "data": {
      "text/plain": [
       "True"
      ]
     },
     "execution_count": 10,
     "metadata": {},
     "output_type": "execute_result"
    }
   ],
   "source": [
    "2 in a"
   ]
  },
  {
   "cell_type": "code",
   "execution_count": 60,
   "metadata": {},
   "outputs": [],
   "source": [
    "\n",
    "class LRUCache:\n",
    "    def __init__(self, capacity: int):\n",
    "        self.cap = capacity\n",
    "        self.cache = OrderedDict()\n",
    "\n",
    "\n",
    "    def get(self, key: int) -> int:\n",
    "        if key in self.cache:\n",
    "            self.cache.move_to_end(key)\n",
    "            return self.cache[key]\n",
    "        else:\n",
    "            return -1\n",
    "    def put(self, key: int, value: int) -> None:\n",
    "        if key not in self.cache:\n",
    "            if len(self.cache) >= self.cap:\n",
    "                self.cache.popitem(last=False)\n",
    "            \n",
    "        self.cache[key] = value\n",
    "        self.cache.move_to_end(key)\n",
    "\n",
    "\n",
    "# Your LRUCache object will be instantiated and called as such:\n",
    "# obj = LRUCache(capacity)\n",
    "# param_1 = obj.get(key)\n",
    "# obj.put(key,value)"
   ]
  },
  {
   "cell_type": "code",
   "execution_count": 61,
   "metadata": {},
   "outputs": [],
   "source": [
    "lru = LRUCache(3)"
   ]
  },
  {
   "cell_type": "code",
   "execution_count": 62,
   "metadata": {},
   "outputs": [],
   "source": [
    "\n",
    "lru.put(1,1)\n",
    "lru.put(2,2)\n",
    "lru.put(3,3)"
   ]
  },
  {
   "cell_type": "code",
   "execution_count": 66,
   "metadata": {},
   "outputs": [
    {
     "data": {
      "text/plain": [
       "-1"
      ]
     },
     "execution_count": 66,
     "metadata": {},
     "output_type": "execute_result"
    }
   ],
   "source": [
    "lru.get(2)"
   ]
  },
  {
   "cell_type": "code",
   "execution_count": 65,
   "metadata": {},
   "outputs": [
    {
     "name": "stdout",
     "output_type": "stream",
     "text": [
      "delete 5]\n"
     ]
    }
   ],
   "source": [
    "lru.put(5,4)"
   ]
  },
  {
   "cell_type": "code",
   "execution_count": null,
   "metadata": {},
   "outputs": [],
   "source": []
  }
 ],
 "metadata": {
  "kernelspec": {
   "display_name": "Python 3",
   "language": "python",
   "name": "python3"
  },
  "language_info": {
   "codemirror_mode": {
    "name": "ipython",
    "version": 3
   },
   "file_extension": ".py",
   "mimetype": "text/x-python",
   "name": "python",
   "nbconvert_exporter": "python",
   "pygments_lexer": "ipython3",
   "version": "3.7.3"
  }
 },
 "nbformat": 4,
 "nbformat_minor": 2
}
