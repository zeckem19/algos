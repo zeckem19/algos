{
 "cells": [
  {
   "cell_type": "markdown",
   "metadata": {},
   "source": [
    "have the func take arr of numbers and determine largest element in array. then determeine whether or not can reach that same element by moving left or right continuously according to integer in the current spot. if can reach, output the least amount. else, output -1\n",
    "\n",
    "largest element will be unique and never equal number of elements in array"
   ]
  },
  {
   "cell_type": "code",
   "execution_count": 6,
   "metadata": {},
   "outputs": [],
   "source": [
    "def ArrayJumping(arr):\n",
    "    \n",
    "    ht = {}\n",
    "    max_index = arr.index(max(arr))\n",
    "    L = len(arr)    \n",
    "    \n",
    "    for i in range(L):\n",
    "        ht[i] = (left(L,i,arr[i]),right(L,i,arr[i]))\n",
    "        \n",
    "    if max_index in ht[max_index]:\n",
    "        return 1\n",
    "    \n",
    "    travel_set = set(ht[max_index])  \n",
    "    \n",
    "    for step in range(2,L+1):\n",
    "        for val in list(travel_set):\n",
    "            travel_set.add(ht[val][0])\n",
    "            travel_set.add(ht[val][1])\n",
    "        if max_index in travel_set:\n",
    "            return step\n",
    "    return -1\n",
    "        \n",
    "\n",
    "def left(length,index,number):\n",
    "    left = number % length\n",
    "    if left > index:\n",
    "        left = length + index - left\n",
    "    else:\n",
    "        left = index - left\n",
    "    return left\n",
    "\n",
    "def right(length,index,number):\n",
    "    right = number % length\n",
    "    if right > length - index - 1:\n",
    "        right = right + index - length\n",
    "    else:\n",
    "        right = right + index\n",
    "    return right"
   ]
  },
  {
   "cell_type": "code",
   "execution_count": 8,
   "metadata": {},
   "outputs": [
    {
     "data": {
      "text/plain": [
       "3"
      ]
     },
     "execution_count": 8,
     "metadata": {},
     "output_type": "execute_result"
    }
   ],
   "source": [
    "\n",
    "ArrayJumping([1,2,3,4,2])"
   ]
  },
  {
   "cell_type": "code",
   "execution_count": null,
   "metadata": {},
   "outputs": [],
   "source": []
  }
 ],
 "metadata": {
  "kernelspec": {
   "display_name": "Python 3",
   "language": "python",
   "name": "python3"
  },
  "language_info": {
   "codemirror_mode": {
    "name": "ipython",
    "version": 3
   },
   "file_extension": ".py",
   "mimetype": "text/x-python",
   "name": "python",
   "nbconvert_exporter": "python",
   "pygments_lexer": "ipython3",
   "version": "3.6.9"
  }
 },
 "nbformat": 4,
 "nbformat_minor": 2
}
