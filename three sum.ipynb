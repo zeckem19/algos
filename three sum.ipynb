{
 "cells": [
  {
   "cell_type": "code",
   "execution_count": 4,
   "metadata": {},
   "outputs": [],
   "source": [
    "class Solution:\n",
    "    def __init__(self, arr):\n",
    "        self.arr = arr\n",
    "    \n",
    "    def threesum(self):\n",
    "        lookup1 = {}\n",
    "        lookup2 = {}\n",
    "        result = []\n",
    "        num = 0\n",
    "        for i,v in enumerate(self.arr):\n",
    "            if v in lookup2:\n",
    "                result = [*lookup2[v], i]\n",
    "                break\n",
    "            else:    \n",
    "                for j,k in lookup1.items():\n",
    "                    if j-v not in lookup2:\n",
    "                        lookup2[j-v] = [i, k]\n",
    "                lookup1[num-v] = lookup1.get(num - v, i)\n",
    "        return sorted(result)\n",
    "            "
   ]
  },
  {
   "cell_type": "code",
   "execution_count": 12,
   "metadata": {},
   "outputs": [],
   "source": [
    "def threesum(nums):\n",
    "    lookup1 = {}\n",
    "    lookup2 = {}\n",
    "    result = []\n",
    "\n",
    "    for i,v in enumerate(nums):\n",
    "        if v in lookup2:\n",
    "            result.append([*lookup2[v], i])\n",
    "\n",
    "        else:    \n",
    "            for j,k in lookup1.items():\n",
    "                if j-v not in lookup2:\n",
    "                    lookup2[j-v] = [i, k]\n",
    "            lookup1[-v] = lookup1.get(-v, [i]).append(i)\n",
    "    return result\n"
   ]
  },
  {
   "cell_type": "code",
   "execution_count": 91,
   "metadata": {},
   "outputs": [],
   "source": [
    "def threesum(nums):\n",
    "    ''' naive solution: iterate through array, \n",
    "    and for each item, iterate again tfor the \n",
    "    2nd and again for the third number\n",
    "    \n",
    "    faster solution: iterate through and store result in dictionaries. one for first\n",
    "    and one for second number.\n",
    "    if any number can fulfil the second number, store that in result. O(n) solution\n",
    "    \n",
    "    first dict  {-v, -v2}\n",
    "    second dict   { -v - v2 : [[v, v2], ...] }\n",
    "    \n",
    "    x+y+z =0\n",
    "    z = -x-y\n",
    "    '''\n",
    "    \n",
    "        lookup1 = set()\n",
    "        lookup2 = {}\n",
    "        result = set()\n",
    "\n",
    "        for num in nums:\n",
    "            if num in lookup2:\n",
    "                for combi in lookup2[num]:\n",
    "                    lst = sorted([*[val*-1 for val in combi], num])\n",
    "                    result.add(tuple(lst))\n",
    "\n",
    "            for num2 in lookup1:\n",
    "                lookup2.setdefault(-num+num2,[]).append([-num,num2])\n",
    "\n",
    "            lookup1.add(-num)\n",
    "        res = sorted(result)\n",
    "        return [list(l) for l in res]"
   ]
  },
  {
   "cell_type": "code",
   "execution_count": 66,
   "metadata": {},
   "outputs": [],
   "source": [
    "num = 3\n",
    "a = {3:[2,4]}\n",
    "\n",
    "b = [*[val*-1 for val in a[num]], num]"
   ]
  },
  {
   "cell_type": "code",
   "execution_count": 67,
   "metadata": {},
   "outputs": [
    {
     "data": {
      "text/plain": [
       "[-2, -4, 3]"
      ]
     },
     "execution_count": 67,
     "metadata": {},
     "output_type": "execute_result"
    }
   ],
   "source": [
    "b"
   ]
  },
  {
   "cell_type": "code",
   "execution_count": 92,
   "metadata": {},
   "outputs": [
    {
     "data": {
      "text/plain": [
       "[[-3, 1, 2], [-1, 0, 1]]"
      ]
     },
     "execution_count": 92,
     "metadata": {},
     "output_type": "execute_result"
    }
   ],
   "source": [
    "threesum([1,-1,2,0,-3,1])"
   ]
  },
  {
   "cell_type": "code",
   "execution_count": 93,
   "metadata": {},
   "outputs": [
    {
     "data": {
      "text/plain": [
       "[1, 2, 2, 3, 5, 7]"
      ]
     },
     "execution_count": 93,
     "metadata": {},
     "output_type": "execute_result"
    }
   ],
   "source": [
    "sorted((1,2,3,5,7,2))"
   ]
  },
  {
   "cell_type": "code",
   "execution_count": 5,
   "metadata": {},
   "outputs": [],
   "source": [
    "ss = Solution([1,6,23,-13,7,3,1,4])"
   ]
  },
  {
   "cell_type": "code",
   "execution_count": 34,
   "metadata": {},
   "outputs": [],
   "source": [
    "a= {1:[2]}"
   ]
  },
  {
   "cell_type": "code",
   "execution_count": 35,
   "metadata": {},
   "outputs": [],
   "source": [
    "a.setdefault(2,[]).append(3)"
   ]
  },
  {
   "cell_type": "code",
   "execution_count": 43,
   "metadata": {},
   "outputs": [],
   "source": [
    "c = [-1,-2]\n",
    "d = [*c]"
   ]
  },
  {
   "cell_type": "code",
   "execution_count": 50,
   "metadata": {},
   "outputs": [],
   "source": [
    "d = set()\n"
   ]
  },
  {
   "cell_type": "code",
   "execution_count": 51,
   "metadata": {},
   "outputs": [],
   "source": [
    "d.add((1,2))"
   ]
  },
  {
   "cell_type": "code",
   "execution_count": 52,
   "metadata": {},
   "outputs": [
    {
     "data": {
      "text/plain": [
       "{(1, 2)}"
      ]
     },
     "execution_count": 52,
     "metadata": {},
     "output_type": "execute_result"
    }
   ],
   "source": [
    "d"
   ]
  },
  {
   "cell_type": "code",
   "execution_count": 35,
   "metadata": {},
   "outputs": [
    {
     "name": "stdout",
     "output_type": "stream",
     "text": [
      "1\n",
      "2\n"
     ]
    }
   ],
   "source": [
    "for k,v in ad.items():\n",
    "    print(k)\n",
    "    print(v)"
   ]
  },
  {
   "cell_type": "code",
   "execution_count": 31,
   "metadata": {},
   "outputs": [],
   "source": [
    "ad = {1:2}"
   ]
  },
  {
   "cell_type": "code",
   "execution_count": 23,
   "metadata": {},
   "outputs": [
    {
     "ename": "KeyError",
     "evalue": "0",
     "output_type": "error",
     "traceback": [
      "\u001b[0;31m---------------------------------------------------------------------------\u001b[0m",
      "\u001b[0;31mKeyError\u001b[0m                                  Traceback (most recent call last)",
      "\u001b[0;32m<ipython-input-23-bb2b4bf96374>\u001b[0m in \u001b[0;36m<module>\u001b[0;34m\u001b[0m\n\u001b[0;32m----> 1\u001b[0;31m \u001b[0mad\u001b[0m\u001b[0;34m[\u001b[0m\u001b[0;36m0\u001b[0m\u001b[0;34m]\u001b[0m\u001b[0;34m\u001b[0m\u001b[0;34m\u001b[0m\u001b[0m\n\u001b[0m",
      "\u001b[0;31mKeyError\u001b[0m: 0"
     ]
    }
   ],
   "source": [
    "ad[0]"
   ]
  },
  {
   "cell_type": "code",
   "execution_count": 17,
   "metadata": {},
   "outputs": [
    {
     "ename": "TypeError",
     "evalue": "'int' object is not iterable",
     "output_type": "error",
     "traceback": [
      "\u001b[0;31m---------------------------------------------------------------------------\u001b[0m",
      "\u001b[0;31mTypeError\u001b[0m                                 Traceback (most recent call last)",
      "\u001b[0;32m<ipython-input-17-3314119c1f74>\u001b[0m in \u001b[0;36m<module>\u001b[0;34m\u001b[0m\n\u001b[0;32m----> 1\u001b[0;31m \u001b[0mss\u001b[0m\u001b[0;34m.\u001b[0m\u001b[0mthreesum\u001b[0m\u001b[0;34m(\u001b[0m\u001b[0;36m10\u001b[0m\u001b[0;34m)\u001b[0m\u001b[0;34m\u001b[0m\u001b[0;34m\u001b[0m\u001b[0m\n\u001b[0m",
      "\u001b[0;32m<ipython-input-15-a33ed052b89f>\u001b[0m in \u001b[0;36mthreesum\u001b[0;34m(self, num)\u001b[0m\n\u001b[1;32m     12\u001b[0m                 \u001b[0;32mbreak\u001b[0m\u001b[0;34m\u001b[0m\u001b[0;34m\u001b[0m\u001b[0m\n\u001b[1;32m     13\u001b[0m             \u001b[0;32melse\u001b[0m\u001b[0;34m:\u001b[0m\u001b[0;34m\u001b[0m\u001b[0;34m\u001b[0m\u001b[0m\n\u001b[0;32m---> 14\u001b[0;31m                 \u001b[0;32mfor\u001b[0m \u001b[0mk\u001b[0m\u001b[0;34m,\u001b[0m\u001b[0mv\u001b[0m \u001b[0;32min\u001b[0m \u001b[0mlookup1\u001b[0m\u001b[0;34m:\u001b[0m\u001b[0;34m\u001b[0m\u001b[0;34m\u001b[0m\u001b[0m\n\u001b[0m\u001b[1;32m     15\u001b[0m                     \u001b[0;32mif\u001b[0m \u001b[0mk\u001b[0m\u001b[0;34m-\u001b[0m\u001b[0mv\u001b[0m \u001b[0;32mnot\u001b[0m \u001b[0;32min\u001b[0m \u001b[0mlookup2\u001b[0m\u001b[0;34m:\u001b[0m\u001b[0;34m\u001b[0m\u001b[0;34m\u001b[0m\u001b[0m\n\u001b[1;32m     16\u001b[0m                         \u001b[0mlookup2\u001b[0m\u001b[0;34m[\u001b[0m\u001b[0mk\u001b[0m\u001b[0;34m-\u001b[0m\u001b[0mv\u001b[0m\u001b[0;34m]\u001b[0m \u001b[0;34m=\u001b[0m \u001b[0;34m[\u001b[0m\u001b[0mi\u001b[0m\u001b[0;34m,\u001b[0m \u001b[0mv\u001b[0m\u001b[0;34m]\u001b[0m\u001b[0;34m\u001b[0m\u001b[0;34m\u001b[0m\u001b[0m\n",
      "\u001b[0;31mTypeError\u001b[0m: 'int' object is not iterable"
     ]
    }
   ],
   "source": [
    "ss.threesum(10)"
   ]
  },
  {
   "cell_type": "code",
   "execution_count": 86,
   "metadata": {},
   "outputs": [],
   "source": [
    "a = (1,2)\n",
    "b = (1,2)\n",
    "e = [1,3]\n",
    "d = tuple(e)"
   ]
  },
  {
   "cell_type": "code",
   "execution_count": 87,
   "metadata": {},
   "outputs": [
    {
     "data": {
      "text/plain": [
       "(1, 3)"
      ]
     },
     "execution_count": 87,
     "metadata": {},
     "output_type": "execute_result"
    }
   ],
   "source": [
    "d"
   ]
  },
  {
   "cell_type": "code",
   "execution_count": 88,
   "metadata": {},
   "outputs": [],
   "source": [
    "c = set()\n",
    "c.add(a)\n",
    "c.add(b)\n",
    "c.add(d)"
   ]
  },
  {
   "cell_type": "code",
   "execution_count": 80,
   "metadata": {},
   "outputs": [
    {
     "data": {
      "text/plain": [
       "{(1, 2)}"
      ]
     },
     "execution_count": 80,
     "metadata": {},
     "output_type": "execute_result"
    }
   ],
   "source": [
    "c"
   ]
  },
  {
   "cell_type": "code",
   "execution_count": null,
   "metadata": {},
   "outputs": [],
   "source": []
  },
  {
   "cell_type": "code",
   "execution_count": 1,
   "metadata": {},
   "outputs": [],
   "source": [
    "aa = {1:2,3:4}"
   ]
  },
  {
   "cell_type": "code",
   "execution_count": 5,
   "metadata": {},
   "outputs": [
    {
     "ename": "SyntaxError",
     "evalue": "invalid syntax (<ipython-input-5-afb8da008f27>, line 1)",
     "output_type": "error",
     "traceback": [
      "\u001b[0;36m  File \u001b[0;32m\"<ipython-input-5-afb8da008f27>\"\u001b[0;36m, line \u001b[0;32m1\u001b[0m\n\u001b[0;31m    [**aa]\u001b[0m\n\u001b[0m      ^\u001b[0m\n\u001b[0;31mSyntaxError\u001b[0m\u001b[0;31m:\u001b[0m invalid syntax\n"
     ]
    }
   ],
   "source": []
  },
  {
   "cell_type": "code",
   "execution_count": 6,
   "metadata": {},
   "outputs": [],
   "source": [
    "aaa [].extend([1,2\n",
    "                ])"
   ]
  },
  {
   "cell_type": "code",
   "execution_count": 9,
   "metadata": {},
   "outputs": [],
   "source": [
    "aaaa = [1,2]"
   ]
  },
  {
   "cell_type": "code",
   "execution_count": 10,
   "metadata": {},
   "outputs": [
    {
     "data": {
      "text/plain": [
       "[1, 2]"
      ]
     },
     "execution_count": 10,
     "metadata": {},
     "output_type": "execute_result"
    }
   ],
   "source": [
    "aaaa"
   ]
  },
  {
   "cell_type": "code",
   "execution_count": 114,
   "metadata": {},
   "outputs": [
    {
     "ename": "IndentationError",
     "evalue": "unexpected indent (<ipython-input-114-6b46ed97cf7f>, line 5)",
     "output_type": "error",
     "traceback": [
      "\u001b[0;36m  File \u001b[0;32m\"<ipython-input-114-6b46ed97cf7f>\"\u001b[0;36m, line \u001b[0;32m5\u001b[0m\n\u001b[0;31m    m = len(matrix)\u001b[0m\n\u001b[0m    ^\u001b[0m\n\u001b[0;31mIndentationError\u001b[0m\u001b[0;31m:\u001b[0m unexpected indent\n"
     ]
    }
   ],
   "source": [
    "def setZeroes( matrix) -> None:\n",
    "    \"\"\"\n",
    "    Do not return anything, modify matrix in-place instead.\n",
    "        \"\"\"\n",
    "        m = len(matrix)\n",
    "        n = len(matrix[0])\n",
    "        frreplace = 1\n",
    "        fcreplace = 1\n",
    "        for i in range(n):\n",
    "            if matrix[0][i] == 0:\n",
    "                frreplace = 0\n",
    "                \n",
    "        for i in range(m):\n",
    "            if matrix[i][0] == 0:\n",
    "                fcreplace = 0\n",
    "        \n",
    "        for i1,row in enumerate(matrix):\n",
    "            for i2,col in enumerate(row):\n",
    "                if matrix[i1][i2] == 0:\n",
    "                    matrix[i1][0] = None\n",
    "                    matrix[0][i2] = None\n",
    "        print(matrix)\n",
    "        for ind in range(frreplace,m):\n",
    "            if matrix[ind][0] == None:\n",
    "                for i in range(n):\n",
    "                    if matrix[ind][i] != None:\n",
    "                        matrix[ind][i] = 0\n",
    "        print(matrix)\n",
    "        for ind in range(fcreplace,n):\n",
    "            if matrix[0][ind] == None:\n",
    "                for i in range(m):\n",
    "                    matrix[i][ind] = 0\n",
    "        print(matrix)\n",
    "        \n",
    "        \n",
    "        for i in range(n):\n",
    "            if frreplace == 0:\n",
    "                matrix[0][i] = 0\n",
    "            elif matrix[0][i] == None:\n",
    "                matrix[0][i] = 0\n",
    "        \n",
    "        for i in range(m):\n",
    "            if fcreplace == 0:\n",
    "                matrix[i][0] = 0\n",
    "            elif matrix[i][0] == None:\n",
    "                matrix[i][0] = 0\n",
    "\n",
    "        print(matrix)"
   ]
  },
  {
   "cell_type": "code",
   "execution_count": 103,
   "metadata": {},
   "outputs": [
    {
     "name": "stdout",
     "output_type": "stream",
     "text": [
      "[[None, 1, 2, None], [3, 4, 5, 2], [1, 3, 1, 5]]\n",
      "[[None, 0, 0, None], [3, 4, 5, 2], [1, 3, 1, 5]]\n",
      "[[0, 0, 0, 0], [0, 4, 5, 0], [0, 3, 1, 0]]\n"
     ]
    }
   ],
   "source": [
    "setZeroes([[0,1,2,0],[3,4,5,2],[1,3,1,5]])"
   ]
  },
  {
   "cell_type": "code",
   "execution_count": 113,
   "metadata": {},
   "outputs": [
    {
     "name": "stdout",
     "output_type": "stream",
     "text": [
      "[[None, None, 3, None], [None, 0, 7, 8], [None, 10, 11, 12], [None, 14, 15, 0]]\n",
      "[[None, None, 3, None], [None, 0, 0, 0], [None, 0, 0, 0], [None, 0, 0, 0]]\n",
      "[[0, 0, 3, 0], [0, 0, 0, 0], [0, 0, 0, 0], [0, 0, 0, 0]]\n",
      "[[0, 0, 3, 0], [0, 0, 0, 0], [0, 0, 0, 0], [0, 0, 0, 0]]\n"
     ]
    }
   ],
   "source": [
    "setZeroes([[1,2,3,4],\n",
    "           [5,0,7,8],\n",
    "           [0,10,11,12],\n",
    "           [13,14,15,0]])"
   ]
  },
  {
   "cell_type": "code",
   "execution_count": null,
   "metadata": {},
   "outputs": [],
   "source": []
  }
 ],
 "metadata": {
  "kernelspec": {
   "display_name": "Python 3",
   "language": "python",
   "name": "python3"
  },
  "language_info": {
   "codemirror_mode": {
    "name": "ipython",
    "version": 3
   },
   "file_extension": ".py",
   "mimetype": "text/x-python",
   "name": "python",
   "nbconvert_exporter": "python",
   "pygments_lexer": "ipython3",
   "version": "3.7.7"
  }
 },
 "nbformat": 4,
 "nbformat_minor": 4
}
